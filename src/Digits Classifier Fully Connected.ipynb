{
  "nbformat": 4,
  "nbformat_minor": 0,
  "metadata": {
    "kernelspec": {
      "display_name": "Python 3",
      "language": "python",
      "name": "python3"
    },
    "language_info": {
      "codemirror_mode": {
        "name": "ipython",
        "version": 3
      },
      "file_extension": ".py",
      "mimetype": "text/x-python",
      "name": "python",
      "nbconvert_exporter": "python",
      "pygments_lexer": "ipython3",
      "version": "3.6.2"
    },
    "colab": {
      "name": "Digist Classifier.ipynb",
      "provenance": []
    }
  },
  "cells": [
    {
      "cell_type": "markdown",
      "metadata": {
        "id": "atUQxGxOVnjM",
        "colab_type": "text"
      },
      "source": [
        "# PyTorch Neural Network Digits Classifier\n",
        "**Dataset:** MNIST"
      ]
    },
    {
      "cell_type": "code",
      "metadata": {
        "id": "cTiBfkGpVnjN",
        "colab_type": "code",
        "colab": {}
      },
      "source": [
        "%matplotlib inline\n",
        "%config InlineBackend.figure_format = 'retina'\n",
        "\n",
        "import numpy as np\n",
        "import torch\n",
        "\n",
        "import matplotlib.pyplot as plt\n",
        "from torchvision import datasets, transforms\n",
        "\n",
        "from torch import nn\n",
        "from torch import optim\n",
        "import torch.nn.functional as F"
      ],
      "execution_count": 0,
      "outputs": []
    },
    {
      "cell_type": "markdown",
      "metadata": {
        "id": "mFGLkIQXVnjS",
        "colab_type": "text"
      },
      "source": [
        "**Download _MNIST_ dataset**  \n",
        "I will be using batches of 64"
      ]
    },
    {
      "cell_type": "code",
      "metadata": {
        "id": "nIekNRpxVnjU",
        "colab_type": "code",
        "colab": {}
      },
      "source": [
        "# Define a transform to normalize the data\n",
        "transform = transforms.Compose([transforms.ToTensor(),\n",
        "                              transforms.Normalize((0.5,), (0.5,))])\n",
        "                             \n",
        "# Download and load the training data\n",
        "trainset = datasets.MNIST('MNIST_data/', download=True, train=True, transform=transform)\n",
        "trainloader = torch.utils.data.DataLoader(trainset, batch_size=64, shuffle=True)\n",
        "\n",
        "# Download and load the test data\n",
        "testset = datasets.MNIST('MNIST_data/', download=True, train=False, transform=transform)\n",
        "testloader = torch.utils.data.DataLoader(testset, batch_size=64, shuffle=True)"
      ],
      "execution_count": 0,
      "outputs": []
    },
    {
      "cell_type": "code",
      "metadata": {
        "id": "bCy5igxvVnjX",
        "colab_type": "code",
        "colab": {}
      },
      "source": [
        "dataiter = iter(trainloader)\n",
        "images, labels = dataiter.next()"
      ],
      "execution_count": 0,
      "outputs": []
    },
    {
      "cell_type": "code",
      "metadata": {
        "id": "vGmkcwklVnjb",
        "colab_type": "code",
        "colab": {}
      },
      "source": [
        "def print_sample_digit(index):\n",
        "    print(str.format('Label: {}',labels[index]))\n",
        "    plt.figure(num=None, figsize=(1, 1), dpi=56, facecolor='w', edgecolor='k')\n",
        "    plt.imshow(images[index].numpy().squeeze(), cmap='Greys_r');"
      ],
      "execution_count": 0,
      "outputs": []
    },
    {
      "cell_type": "code",
      "metadata": {
        "id": "5JLjdSKRVnje",
        "colab_type": "code",
        "colab": {
          "base_uri": "https://localhost:8080/",
          "height": 102
        },
        "outputId": "5b1f5306-6572-46b4-f058-d2842a74d6db"
      },
      "source": [
        "print_sample_digit(0)"
      ],
      "execution_count": 8,
      "outputs": [
        {
          "output_type": "stream",
          "text": [
            "Label: 2\n"
          ],
          "name": "stdout"
        },
        {
          "output_type": "display_data",
          "data": {
            "image/png": "[encoded data removed]",
            "text/plain": [
              "<Figure size 56x56 with 1 Axes>"
            ]
          },
          "metadata": {
            "tags": [],
            "image/png": {
              "width": 69,
              "height": 68
            }
          }
        }
      ]
    },
    {
      "cell_type": "code",
      "metadata": {
        "id": "47MIkGOoVnjl",
        "colab_type": "code",
        "colab": {
          "base_uri": "https://localhost:8080/",
          "height": 102
        },
        "outputId": "7ada142c-0fe0-416b-8ac3-0750ea3f84b3"
      },
      "source": [
        "print_sample_digit(1)"
      ],
      "execution_count": 9,
      "outputs": [
        {
          "output_type": "stream",
          "text": [
            "Label: 4\n"
          ],
          "name": "stdout"
        },
        {
          "output_type": "display_data",
          "data": {
            "image/png": "[encoded data removed]",
            "text/plain": [
              "<Figure size 56x56 with 1 Axes>"
            ]
          },
          "metadata": {
            "tags": [],
            "image/png": {
              "width": 69,
              "height": 68
            }
          }
        }
      ]
    },
    {
      "cell_type": "code",
      "metadata": {
        "id": "7LxC6MzUVnjq",
        "colab_type": "code",
        "colab": {}
      },
      "source": [
        "# Input are images of 28 x 28 pixels each\n",
        "input_size = 784 \n",
        "# Hidden layers size\n",
        "h1_size, h2_size, h3_size = 400,200,100 \n",
        "# Output will be 10 since we will get the softmax probability for each digit (0-9)\n",
        "output_size = 10 \n"
      ],
      "execution_count": 0,
      "outputs": []
    },
    {
      "cell_type": "markdown",
      "metadata": {
        "id": "QRL63V1nVnjt",
        "colab_type": "text"
      },
      "source": [
        "### Define the model"
      ]
    },
    {
      "cell_type": "code",
      "metadata": {
        "id": "O91Yd0c8Vnjt",
        "colab_type": "code",
        "colab": {}
      },
      "source": [
        "model = nn.Sequential(\n",
        "            nn.Linear(input_size, h1_size),\n",
        "            nn.ReLU(),\n",
        "            nn.Linear(h1_size, h2_size),\n",
        "            nn.ReLU(),\n",
        "            nn.Linear(h2_size, h3_size),\n",
        "            nn.ReLU(),\n",
        "            nn.Linear(h3_size, output_size)\n",
        "            )        "
      ],
      "execution_count": 0,
      "outputs": []
    },
    {
      "cell_type": "code",
      "metadata": {
        "id": "n-0eLLHGVnjz",
        "colab_type": "code",
        "colab": {
          "base_uri": "https://localhost:8080/",
          "height": 183
        },
        "outputId": "a8c1cce5-866e-4dae-b17b-56e98f083381"
      },
      "source": [
        "# Get images and labels\n",
        "images, labels = next(iter(trainloader))\n",
        "\n",
        "# Batch size\n",
        "batch_size = images.shape[0]\n",
        "\n",
        "images.resize_(batch_size, 1, 784)\n",
        "\n",
        "# Feedforward the network\n",
        "ps = model.forward(images[0,:])\n",
        "\n",
        "# Print result for the first image\n",
        "fig, (ax1, ax2) = plt.subplots(figsize=(6,6), ncols=2)\n",
        "ps = ps.data.numpy().squeeze()\n",
        "\n",
        "ax1.imshow(images[0].resize_(1, 28, 28).numpy().squeeze())\n",
        "ax1.axis('off')\n",
        "\n",
        "ax2.barh(np.arange(10), ps )\n",
        "ax2.set_aspect(0.01)\n",
        "ax2.set_yticks(np.arange(10))\n",
        "plt.xticks(rotation='45')\n",
        "\n",
        "plt.show();\n",
        "\n",
        "# Right now since the Neural Network did not update weights yet all probabilities are roughtly the same"
      ],
      "execution_count": 12,
      "outputs": [
        {
          "output_type": "display_data",
          "data": {
            "image/png": "[encoded data removed]",
            "text/plain": [
              "<Figure size 432x432 with 2 Axes>"
            ]
          },
          "metadata": {
            "tags": [],
            "image/png": {
              "width": 349,
              "height": 166
            }
          }
        }
      ]
    },
    {
      "cell_type": "markdown",
      "metadata": {
        "id": "CAMEqeuSVnj3",
        "colab_type": "text"
      },
      "source": [
        "### Define the validation function"
      ]
    },
    {
      "cell_type": "code",
      "metadata": {
        "id": "dlT4fMbeVnj4",
        "colab_type": "code",
        "colab": {}
      },
      "source": [
        "def validation(model,testloader,criterion):\n",
        "    test_loss = 0\n",
        "    accuracy = 0\n",
        "    \n",
        "    for images, labels in testloader:\n",
        "        batch_size = images.shape[0]\n",
        "        images.resize_(batch_size, input_size)\n",
        "        \n",
        "        output = model.forward(images)\n",
        "        test_loss += criterion(output,labels).item()\n",
        "        \n",
        "        ps = torch.exp(output)\n",
        "                   \n",
        "        # Each probability consist in an array of 10 probabilities, the predicted class is the\n",
        "        # highest probability of each one, so we need to get the max of the probabilitie for each \n",
        "        # prediction in order to find the predicted_class         \n",
        "        \n",
        "        predicted_classes = ps.max(dim=1)[1]\n",
        "        \n",
        "        # To find the correct classified items we compare labels with the predicted_classes\n",
        "        # and we will get back an array of booleans with 1 if the prediction was correct or\n",
        "        # 0 otherwise\n",
        "        \n",
        "        #correct_predictions = (labels == predicted_classes)\n",
        "        correct_predictions = (labels.data == correct_predictions)\n",
        "\n",
        "        accuracy += correct_predictions.type(torch.FloatTensor).mean()\n",
        "        \n",
        "        return test_loss, accuracy\n",
        "        "
      ],
      "execution_count": 0,
      "outputs": []
    },
    {
      "cell_type": "code",
      "metadata": {
        "id": "OryTpQbcVnj6",
        "colab_type": "code",
        "colab": {}
      },
      "source": [
        "# Implement a function for the validation pass\n",
        "def validation2(model, testloader, criterion):\n",
        "    test_loss = 0\n",
        "    accuracy = 0\n",
        "    for images, labels in testloader:\n",
        "\n",
        "        images.resize_(images.shape[0], 784)\n",
        "\n",
        "        output = model.forward(images)\n",
        "        test_loss += criterion(output, labels).item()\n",
        "\n",
        "        ps = torch.exp(output)\n",
        "        equality = (labels.data == ps.max(dim=1)[1])\n",
        "        accuracy += equality.type(torch.FloatTensor).mean()\n",
        "    \n",
        "    return test_loss, accuracy"
      ],
      "execution_count": 0,
      "outputs": []
    },
    {
      "cell_type": "code",
      "metadata": {
        "id": "G5IBuFk3Vnj-",
        "colab_type": "code",
        "colab": {}
      },
      "source": [
        "# Define the Loss Function\n",
        "criterion = nn.CrossEntropyLoss() \n",
        "\n",
        "# Define optimizer as Stochastic Gradient Descent with a learning rate of 0.01\n",
        "sgd_optimizer = optim.SGD(model.parameters(), lr = 0.003)"
      ],
      "execution_count": 0,
      "outputs": []
    },
    {
      "cell_type": "markdown",
      "metadata": {
        "id": "8hg6ZjdhVnkC",
        "colab_type": "text"
      },
      "source": [
        "* Make a forward pass through the network to get the logits \n",
        "* Use the logits to calculate the loss\n",
        "* Perform a backward pass through the network with `loss.backward()` to calculate the gradients\n",
        "* Take a step with the optimizer to update the weights\n",
        "\n",
        "### Time to train the Neural Network!"
      ]
    },
    {
      "cell_type": "code",
      "metadata": {
        "id": "bMW_6c68VnkD",
        "colab_type": "code",
        "colab": {
          "base_uri": "https://localhost:8080/",
          "height": 1000
        },
        "outputId": "31951ce8-908d-4ca1-d0f5-ae65a5a63293"
      },
      "source": [
        "epochs = 5\n",
        "print_every = 40\n",
        "steps = 0\n",
        "\n",
        "for epoch in range(epochs):\n",
        "    running_loss = 0\n",
        "    \n",
        "    model.train()\n",
        "    \n",
        "    # Get images and labels\n",
        "    for images, labels in iter(trainloader):\n",
        "        steps += 1\n",
        "        images.resize_(images.size()[0], input_size)\n",
        "        \n",
        "        # Set gradients to zero\n",
        "        sgd_optimizer.zero_grad()\n",
        "        \n",
        "        y_hat = model.forward(images)\n",
        "        loss = criterion(y_hat,labels)\n",
        "        loss.backward()\n",
        "        sgd_optimizer.step()\n",
        "        \n",
        "        running_loss += loss.item()\n",
        "        \n",
        "        if steps % print_every == 0:\n",
        "            model.eval()\n",
        "            with torch.no_grad():\n",
        "                test_loss, accuracy = validation2(model,testloader,criterion)\n",
        "            \n",
        "            print(\"Epoch: {}/{}... \".format(epoch+1, epochs),\n",
        "                  \"Loss: {:.3f}\".format(running_loss/print_every),\n",
        "                  \"Test Loss: {:.3f}\".format(test_loss/len(testloader)),\n",
        "                  \"Test Accuracy: {:.3f}\".format(accuracy/len(testloader)))\n",
        "            \n",
        "            running_loss = 0\n",
        "            \n",
        "            model.train()\n"
      ],
      "execution_count": 17,
      "outputs": [
        {
          "output_type": "stream",
          "text": [
            "Epoch: 1/5...  Loss: 2.297 Test Loss: 2.295 Test Accuracy: 0.098\n",
            "Epoch: 1/5...  Loss: 2.294 Test Loss: 2.291 Test Accuracy: 0.098\n",
            "Epoch: 1/5...  Loss: 2.291 Test Loss: 2.286 Test Accuracy: 0.126\n",
            "Epoch: 1/5...  Loss: 2.283 Test Loss: 2.282 Test Accuracy: 0.190\n",
            "Epoch: 1/5...  Loss: 2.279 Test Loss: 2.277 Test Accuracy: 0.197\n",
            "Epoch: 1/5...  Loss: 2.278 Test Loss: 2.272 Test Accuracy: 0.196\n",
            "Epoch: 1/5...  Loss: 2.271 Test Loss: 2.266 Test Accuracy: 0.188\n",
            "Epoch: 1/5...  Loss: 2.264 Test Loss: 2.261 Test Accuracy: 0.193\n",
            "Epoch: 1/5...  Loss: 2.258 Test Loss: 2.255 Test Accuracy: 0.189\n",
            "Epoch: 1/5...  Loss: 2.253 Test Loss: 2.248 Test Accuracy: 0.198\n",
            "Epoch: 1/5...  Loss: 2.246 Test Loss: 2.242 Test Accuracy: 0.210\n",
            "Epoch: 1/5...  Loss: 2.240 Test Loss: 2.234 Test Accuracy: 0.230\n",
            "Epoch: 1/5...  Loss: 2.226 Test Loss: 2.226 Test Accuracy: 0.238\n",
            "Epoch: 1/5...  Loss: 2.224 Test Loss: 2.218 Test Accuracy: 0.264\n",
            "Epoch: 1/5...  Loss: 2.214 Test Loss: 2.208 Test Accuracy: 0.291\n",
            "Epoch: 1/5...  Loss: 2.205 Test Loss: 2.198 Test Accuracy: 0.310\n",
            "Epoch: 1/5...  Loss: 2.195 Test Loss: 2.187 Test Accuracy: 0.328\n",
            "Epoch: 1/5...  Loss: 2.178 Test Loss: 2.174 Test Accuracy: 0.335\n",
            "Epoch: 1/5...  Loss: 2.179 Test Loss: 2.160 Test Accuracy: 0.376\n",
            "Epoch: 1/5...  Loss: 2.154 Test Loss: 2.145 Test Accuracy: 0.380\n",
            "Epoch: 1/5...  Loss: 2.142 Test Loss: 2.128 Test Accuracy: 0.417\n",
            "Epoch: 1/5...  Loss: 2.122 Test Loss: 2.109 Test Accuracy: 0.400\n",
            "Epoch: 1/5...  Loss: 2.105 Test Loss: 2.087 Test Accuracy: 0.427\n",
            "Epoch: 2/5...  Loss: 1.143 Test Loss: 2.063 Test Accuracy: 0.437\n",
            "Epoch: 2/5...  Loss: 2.056 Test Loss: 2.037 Test Accuracy: 0.439\n",
            "Epoch: 2/5...  Loss: 2.033 Test Loss: 2.008 Test Accuracy: 0.452\n",
            "Epoch: 2/5...  Loss: 1.984 Test Loss: 1.972 Test Accuracy: 0.434\n",
            "Epoch: 2/5...  Loss: 1.954 Test Loss: 1.935 Test Accuracy: 0.445\n",
            "Epoch: 2/5...  Loss: 1.913 Test Loss: 1.892 Test Accuracy: 0.456\n",
            "Epoch: 2/5...  Loss: 1.891 Test Loss: 1.851 Test Accuracy: 0.486\n",
            "Epoch: 2/5...  Loss: 1.845 Test Loss: 1.805 Test Accuracy: 0.511\n",
            "Epoch: 2/5...  Loss: 1.795 Test Loss: 1.754 Test Accuracy: 0.545\n",
            "Epoch: 2/5...  Loss: 1.741 Test Loss: 1.702 Test Accuracy: 0.555\n",
            "Epoch: 2/5...  Loss: 1.685 Test Loss: 1.648 Test Accuracy: 0.588\n",
            "Epoch: 2/5...  Loss: 1.635 Test Loss: 1.594 Test Accuracy: 0.549\n",
            "Epoch: 2/5...  Loss: 1.591 Test Loss: 1.539 Test Accuracy: 0.605\n",
            "Epoch: 2/5...  Loss: 1.508 Test Loss: 1.478 Test Accuracy: 0.595\n",
            "Epoch: 2/5...  Loss: 1.453 Test Loss: 1.422 Test Accuracy: 0.602\n",
            "Epoch: 2/5...  Loss: 1.389 Test Loss: 1.366 Test Accuracy: 0.648\n",
            "Epoch: 2/5...  Loss: 1.334 Test Loss: 1.313 Test Accuracy: 0.656\n",
            "Epoch: 2/5...  Loss: 1.305 Test Loss: 1.259 Test Accuracy: 0.692\n",
            "Epoch: 2/5...  Loss: 1.230 Test Loss: 1.210 Test Accuracy: 0.653\n",
            "Epoch: 2/5...  Loss: 1.192 Test Loss: 1.166 Test Accuracy: 0.677\n",
            "Epoch: 2/5...  Loss: 1.166 Test Loss: 1.118 Test Accuracy: 0.717\n",
            "Epoch: 2/5...  Loss: 1.087 Test Loss: 1.076 Test Accuracy: 0.718\n",
            "Epoch: 2/5...  Loss: 1.074 Test Loss: 1.040 Test Accuracy: 0.728\n",
            "Epoch: 3/5...  Loss: 0.097 Test Loss: 1.002 Test Accuracy: 0.733\n",
            "Epoch: 3/5...  Loss: 1.019 Test Loss: 0.968 Test Accuracy: 0.752\n",
            "Epoch: 3/5...  Loss: 0.972 Test Loss: 0.938 Test Accuracy: 0.769\n",
            "Epoch: 3/5...  Loss: 0.913 Test Loss: 0.907 Test Accuracy: 0.757\n",
            "Epoch: 3/5...  Loss: 0.874 Test Loss: 0.880 Test Accuracy: 0.763\n",
            "Epoch: 3/5...  Loss: 0.894 Test Loss: 0.852 Test Accuracy: 0.776\n",
            "Epoch: 3/5...  Loss: 0.842 Test Loss: 0.825 Test Accuracy: 0.782\n",
            "Epoch: 3/5...  Loss: 0.821 Test Loss: 0.805 Test Accuracy: 0.778\n",
            "Epoch: 3/5...  Loss: 0.796 Test Loss: 0.783 Test Accuracy: 0.791\n",
            "Epoch: 3/5...  Loss: 0.788 Test Loss: 0.764 Test Accuracy: 0.796\n",
            "Epoch: 3/5...  Loss: 0.752 Test Loss: 0.743 Test Accuracy: 0.799\n",
            "Epoch: 3/5...  Loss: 0.769 Test Loss: 0.726 Test Accuracy: 0.805\n",
            "Epoch: 3/5...  Loss: 0.736 Test Loss: 0.707 Test Accuracy: 0.809\n",
            "Epoch: 3/5...  Loss: 0.718 Test Loss: 0.692 Test Accuracy: 0.806\n",
            "Epoch: 3/5...  Loss: 0.685 Test Loss: 0.678 Test Accuracy: 0.811\n",
            "Epoch: 3/5...  Loss: 0.693 Test Loss: 0.667 Test Accuracy: 0.809\n",
            "Epoch: 3/5...  Loss: 0.651 Test Loss: 0.650 Test Accuracy: 0.821\n",
            "Epoch: 3/5...  Loss: 0.650 Test Loss: 0.639 Test Accuracy: 0.821\n",
            "Epoch: 3/5...  Loss: 0.624 Test Loss: 0.634 Test Accuracy: 0.813\n",
            "Epoch: 3/5...  Loss: 0.645 Test Loss: 0.614 Test Accuracy: 0.828\n",
            "Epoch: 3/5...  Loss: 0.627 Test Loss: 0.604 Test Accuracy: 0.828\n",
            "Epoch: 3/5...  Loss: 0.596 Test Loss: 0.594 Test Accuracy: 0.834\n",
            "Epoch: 3/5...  Loss: 0.589 Test Loss: 0.589 Test Accuracy: 0.832\n",
            "Epoch: 3/5...  Loss: 0.601 Test Loss: 0.576 Test Accuracy: 0.835\n",
            "Epoch: 4/5...  Loss: 0.378 Test Loss: 0.572 Test Accuracy: 0.832\n",
            "Epoch: 4/5...  Loss: 0.556 Test Loss: 0.556 Test Accuracy: 0.840\n",
            "Epoch: 4/5...  Loss: 0.538 Test Loss: 0.550 Test Accuracy: 0.838\n",
            "Epoch: 4/5...  Loss: 0.555 Test Loss: 0.543 Test Accuracy: 0.844\n",
            "Epoch: 4/5...  Loss: 0.547 Test Loss: 0.537 Test Accuracy: 0.844\n",
            "Epoch: 4/5...  Loss: 0.563 Test Loss: 0.529 Test Accuracy: 0.848\n",
            "Epoch: 4/5...  Loss: 0.553 Test Loss: 0.521 Test Accuracy: 0.846\n",
            "Epoch: 4/5...  Loss: 0.524 Test Loss: 0.521 Test Accuracy: 0.845\n",
            "Epoch: 4/5...  Loss: 0.528 Test Loss: 0.509 Test Accuracy: 0.853\n",
            "Epoch: 4/5...  Loss: 0.522 Test Loss: 0.506 Test Accuracy: 0.849\n",
            "Epoch: 4/5...  Loss: 0.522 Test Loss: 0.502 Test Accuracy: 0.853\n",
            "Epoch: 4/5...  Loss: 0.491 Test Loss: 0.495 Test Accuracy: 0.853\n",
            "Epoch: 4/5...  Loss: 0.531 Test Loss: 0.489 Test Accuracy: 0.852\n",
            "Epoch: 4/5...  Loss: 0.499 Test Loss: 0.485 Test Accuracy: 0.858\n",
            "Epoch: 4/5...  Loss: 0.481 Test Loss: 0.479 Test Accuracy: 0.860\n",
            "Epoch: 4/5...  Loss: 0.498 Test Loss: 0.475 Test Accuracy: 0.857\n",
            "Epoch: 4/5...  Loss: 0.506 Test Loss: 0.469 Test Accuracy: 0.859\n",
            "Epoch: 4/5...  Loss: 0.466 Test Loss: 0.468 Test Accuracy: 0.859\n",
            "Epoch: 4/5...  Loss: 0.489 Test Loss: 0.468 Test Accuracy: 0.861\n",
            "Epoch: 4/5...  Loss: 0.485 Test Loss: 0.462 Test Accuracy: 0.864\n",
            "Epoch: 4/5...  Loss: 0.460 Test Loss: 0.464 Test Accuracy: 0.858\n",
            "Epoch: 4/5...  Loss: 0.458 Test Loss: 0.454 Test Accuracy: 0.864\n",
            "Epoch: 4/5...  Loss: 0.477 Test Loss: 0.447 Test Accuracy: 0.867\n",
            "Epoch: 5/5...  Loss: 0.091 Test Loss: 0.445 Test Accuracy: 0.866\n",
            "Epoch: 5/5...  Loss: 0.469 Test Loss: 0.444 Test Accuracy: 0.870\n",
            "Epoch: 5/5...  Loss: 0.435 Test Loss: 0.443 Test Accuracy: 0.865\n",
            "Epoch: 5/5...  Loss: 0.482 Test Loss: 0.436 Test Accuracy: 0.869\n",
            "Epoch: 5/5...  Loss: 0.470 Test Loss: 0.435 Test Accuracy: 0.871\n",
            "Epoch: 5/5...  Loss: 0.444 Test Loss: 0.430 Test Accuracy: 0.872\n",
            "Epoch: 5/5...  Loss: 0.432 Test Loss: 0.430 Test Accuracy: 0.871\n",
            "Epoch: 5/5...  Loss: 0.448 Test Loss: 0.426 Test Accuracy: 0.873\n",
            "Epoch: 5/5...  Loss: 0.399 Test Loss: 0.426 Test Accuracy: 0.875\n",
            "Epoch: 5/5...  Loss: 0.412 Test Loss: 0.420 Test Accuracy: 0.875\n",
            "Epoch: 5/5...  Loss: 0.437 Test Loss: 0.417 Test Accuracy: 0.875\n",
            "Epoch: 5/5...  Loss: 0.447 Test Loss: 0.416 Test Accuracy: 0.875\n",
            "Epoch: 5/5...  Loss: 0.423 Test Loss: 0.417 Test Accuracy: 0.876\n",
            "Epoch: 5/5...  Loss: 0.407 Test Loss: 0.416 Test Accuracy: 0.876\n",
            "Epoch: 5/5...  Loss: 0.408 Test Loss: 0.409 Test Accuracy: 0.878\n",
            "Epoch: 5/5...  Loss: 0.422 Test Loss: 0.406 Test Accuracy: 0.879\n",
            "Epoch: 5/5...  Loss: 0.430 Test Loss: 0.406 Test Accuracy: 0.879\n",
            "Epoch: 5/5...  Loss: 0.401 Test Loss: 0.402 Test Accuracy: 0.880\n",
            "Epoch: 5/5...  Loss: 0.432 Test Loss: 0.402 Test Accuracy: 0.877\n",
            "Epoch: 5/5...  Loss: 0.470 Test Loss: 0.404 Test Accuracy: 0.879\n",
            "Epoch: 5/5...  Loss: 0.408 Test Loss: 0.398 Test Accuracy: 0.880\n",
            "Epoch: 5/5...  Loss: 0.393 Test Loss: 0.397 Test Accuracy: 0.882\n",
            "Epoch: 5/5...  Loss: 0.402 Test Loss: 0.403 Test Accuracy: 0.881\n",
            "Epoch: 5/5...  Loss: 0.415 Test Loss: 0.391 Test Accuracy: 0.883\n"
          ],
          "name": "stdout"
        }
      ]
    },
    {
      "cell_type": "markdown",
      "metadata": {
        "id": "zMRdZQ4lVnkG",
        "colab_type": "text"
      },
      "source": [
        "### Test the Neural Network"
      ]
    },
    {
      "cell_type": "code",
      "metadata": {
        "id": "WPIXNfNjVnkI",
        "colab_type": "code",
        "colab": {
          "base_uri": "https://localhost:8080/",
          "height": 51
        },
        "outputId": "89e5c133-c265-411c-ae3b-bea4fa5cae10"
      },
      "source": [
        "images, labels = next(iter(testloader))\n",
        "\n",
        "img = images[0].view(1, 784)\n",
        "\n",
        "# Turn off gradients to speed up this part\n",
        "with torch.no_grad():\n",
        "    logits = model.forward(img)\n",
        "\n",
        "# Output of the network are logits, need to take softmax for probabilities\n",
        "ps = F.softmax(logits, dim=1)\n",
        "print(ps, labels[0])\n"
      ],
      "execution_count": 25,
      "outputs": [
        {
          "output_type": "stream",
          "text": [
            "tensor([[9.9772e-01, 3.1328e-10, 9.7800e-05, 5.0191e-05, 4.4169e-08, 2.0819e-03,\n",
            "         2.6801e-06, 1.8022e-06, 4.4737e-05, 1.4518e-06]]) tensor(0)\n"
          ],
          "name": "stdout"
        }
      ]
    },
    {
      "cell_type": "code",
      "metadata": {
        "id": "W5lPD-aGVnkL",
        "colab_type": "code",
        "colab": {
          "base_uri": "https://localhost:8080/",
          "height": 234
        },
        "outputId": "32739896-90ba-4163-b74d-4655fab1c254"
      },
      "source": [
        "fig, (ax1, ax2) = plt.subplots(figsize=(6,6), ncols=2)\n",
        "ps = ps.data.numpy().squeeze()\n",
        "\n",
        "ax1.imshow(images[0].resize_(1, 28, 28).numpy().squeeze())\n",
        "ax1.axis('off')\n",
        "\n",
        "ax2.barh(np.arange(10), ps )\n",
        "ax2.set_aspect(0.1)\n",
        "ax2.set_yticks(np.arange(10))\n",
        "plt.xticks(rotation='45')\n",
        "\n",
        "plt.show();\n",
        "print('Label: ', labels[0])"
      ],
      "execution_count": 26,
      "outputs": [
        {
          "output_type": "display_data",
          "data": {
            "image/png": "[encoded data removed]",
            "text/plain": [
              "<Figure size 432x432 with 2 Axes>"
            ]
          },
          "metadata": {
            "tags": [],
            "image/png": {
              "width": 353,
              "height": 200
            }
          }
        },
        {
          "output_type": "stream",
          "text": [
            "Label:  tensor(0)\n"
          ],
          "name": "stdout"
        }
      ]
    },
    {
      "cell_type": "code",
      "metadata": {
        "id": "miI-M_n2XYjn",
        "colab_type": "code",
        "colab": {
          "base_uri": "https://localhost:8080/",
          "height": 272
        },
        "outputId": "89d64192-4c05-402e-cb67-652e26b75921"
      },
      "source": [
        "images, labels = next(iter(testloader))\n",
        "\n",
        "img = images[0].view(1, 784)\n",
        "\n",
        "# Turn off gradients to speed up this part\n",
        "with torch.no_grad():\n",
        "    logits = model.forward(img)\n",
        "\n",
        "# Output of the network are logits, need to take softmax for probabilities\n",
        "ps = F.softmax(logits, dim=1)\n",
        "print(ps, labels[0])\n",
        "\n",
        "fig, (ax1, ax2) = plt.subplots(figsize=(6,6), ncols=2)\n",
        "ps = ps.data.numpy().squeeze()\n",
        "\n",
        "ax1.imshow(images[0].resize_(1, 28, 28).numpy().squeeze())\n",
        "ax1.axis('off')\n",
        "\n",
        "ax2.barh(np.arange(10), ps )\n",
        "ax2.set_aspect(0.1)\n",
        "ax2.set_yticks(np.arange(10))\n",
        "plt.xticks(rotation='45')\n",
        "\n",
        "plt.show();\n",
        "print('Label: ', labels[0])"
      ],
      "execution_count": 24,
      "outputs": [
        {
          "output_type": "stream",
          "text": [
            "tensor([[6.1152e-05, 1.2570e-06, 1.8525e-04, 7.1210e-05, 9.4518e-01, 4.6784e-03,\n",
            "         2.6945e-03, 3.0033e-04, 1.1481e-03, 4.5684e-02]]) tensor(4)\n"
          ],
          "name": "stdout"
        },
        {
          "output_type": "display_data",
          "data": {
            "image/png": "[encoded data removed]",
            "text/plain": [
              "<Figure size 432x432 with 2 Axes>"
            ]
          },
          "metadata": {
            "tags": [],
            "image/png": {
              "width": 349,
              "height": 204
            }
          }
        },
        {
          "output_type": "stream",
          "text": [
            "Label:  tensor(4)\n"
          ],
          "name": "stdout"
        }
      ]
    },
    {
      "cell_type": "code",
      "metadata": {
        "id": "3ZEex2laYZK4",
        "colab_type": "code",
        "colab": {}
      },
      "source": [
        ""
      ],
      "execution_count": 0,
      "outputs": []
    }
  ]
}