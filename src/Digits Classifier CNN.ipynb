{
  "nbformat": 4,
  "nbformat_minor": 0,
  "metadata": {
    "kernelspec": {
      "display_name": "Python 3",
      "language": "python",
      "name": "python3"
    },
    "language_info": {
      "codemirror_mode": {
        "name": "ipython",
        "version": 3
      },
      "file_extension": ".py",
      "mimetype": "text/x-python",
      "name": "python",
      "nbconvert_exporter": "python",
      "pygments_lexer": "ipython3",
      "version": "3.6.2"
    },
    "colab": {
      "name": "Digist Classifier.ipynb",
      "provenance": []
    },
    "widgets": {
      "application/vnd.jupyter.widget-state+json": {
        "8ac07cb6cba64df6b701ee97d8a75250": {
          "model_module": "@jupyter-widgets/controls",
          "model_name": "HBoxModel",
          "state": {
            "_view_name": "HBoxView",
            "_dom_classes": [],
            "_model_name": "HBoxModel",
            "_view_module": "@jupyter-widgets/controls",
            "_model_module_version": "1.5.0",
            "_view_count": null,
            "_view_module_version": "1.5.0",
            "box_style": "",
            "layout": "IPY_MODEL_70eebcdd7a934c4fa74e2d640a64ee91",
            "_model_module": "@jupyter-widgets/controls",
            "children": [
              "IPY_MODEL_02ac6f97f3334abc8900c8dde004b02c",
              "IPY_MODEL_8f7fbfe9adc7467c80cdec4358d3f64b"
            ]
          }
        },
        "70eebcdd7a934c4fa74e2d640a64ee91": {
          "model_module": "@jupyter-widgets/base",
          "model_name": "LayoutModel",
          "state": {
            "_view_name": "LayoutView",
            "grid_template_rows": null,
            "right": null,
            "justify_content": null,
            "_view_module": "@jupyter-widgets/base",
            "overflow": null,
            "_model_module_version": "1.2.0",
            "_view_count": null,
            "flex_flow": null,
            "width": null,
            "min_width": null,
            "border": null,
            "align_items": null,
            "bottom": null,
            "_model_module": "@jupyter-widgets/base",
            "top": null,
            "grid_column": null,
            "overflow_y": null,
            "overflow_x": null,
            "grid_auto_flow": null,
            "grid_area": null,
            "grid_template_columns": null,
            "flex": null,
            "_model_name": "LayoutModel",
            "justify_items": null,
            "grid_row": null,
            "max_height": null,
            "align_content": null,
            "visibility": null,
            "align_self": null,
            "height": null,
            "min_height": null,
            "padding": null,
            "grid_auto_rows": null,
            "grid_gap": null,
            "max_width": null,
            "order": null,
            "_view_module_version": "1.2.0",
            "grid_template_areas": null,
            "object_position": null,
            "object_fit": null,
            "grid_auto_columns": null,
            "margin": null,
            "display": null,
            "left": null
          }
        },
        "02ac6f97f3334abc8900c8dde004b02c": {
          "model_module": "@jupyter-widgets/controls",
          "model_name": "IntProgressModel",
          "state": {
            "_view_name": "ProgressView",
            "style": "IPY_MODEL_f4744a48da2340f9992c78a852143a04",
            "_dom_classes": [],
            "description": "",
            "_model_name": "IntProgressModel",
            "bar_style": "success",
            "max": 1,
            "_view_module": "@jupyter-widgets/controls",
            "_model_module_version": "1.5.0",
            "value": 1,
            "_view_count": null,
            "_view_module_version": "1.5.0",
            "orientation": "horizontal",
            "min": 0,
            "description_tooltip": null,
            "_model_module": "@jupyter-widgets/controls",
            "layout": "IPY_MODEL_4ada681a35ec42e69b870a3314b3338f"
          }
        },
        "8f7fbfe9adc7467c80cdec4358d3f64b": {
          "model_module": "@jupyter-widgets/controls",
          "model_name": "HTMLModel",
          "state": {
            "_view_name": "HTMLView",
            "style": "IPY_MODEL_45d57d78f390417c990233d01830615d",
            "_dom_classes": [],
            "description": "",
            "_model_name": "HTMLModel",
            "placeholder": "​",
            "_view_module": "@jupyter-widgets/controls",
            "_model_module_version": "1.5.0",
            "value": "9920512it [00:02, 4109296.08it/s]",
            "_view_count": null,
            "_view_module_version": "1.5.0",
            "description_tooltip": null,
            "_model_module": "@jupyter-widgets/controls",
            "layout": "IPY_MODEL_7fa6c73fb87a4005b9e62408dff7c1ce"
          }
        },
        "f4744a48da2340f9992c78a852143a04": {
          "model_module": "@jupyter-widgets/controls",
          "model_name": "ProgressStyleModel",
          "state": {
            "_view_name": "StyleView",
            "_model_name": "ProgressStyleModel",
            "description_width": "",
            "_view_module": "@jupyter-widgets/base",
            "_model_module_version": "1.5.0",
            "_view_count": null,
            "_view_module_version": "1.2.0",
            "bar_color": null,
            "_model_module": "@jupyter-widgets/controls"
          }
        },
        "4ada681a35ec42e69b870a3314b3338f": {
          "model_module": "@jupyter-widgets/base",
          "model_name": "LayoutModel",
          "state": {
            "_view_name": "LayoutView",
            "grid_template_rows": null,
            "right": null,
            "justify_content": null,
            "_view_module": "@jupyter-widgets/base",
            "overflow": null,
            "_model_module_version": "1.2.0",
            "_view_count": null,
            "flex_flow": null,
            "width": null,
            "min_width": null,
            "border": null,
            "align_items": null,
            "bottom": null,
            "_model_module": "@jupyter-widgets/base",
            "top": null,
            "grid_column": null,
            "overflow_y": null,
            "overflow_x": null,
            "grid_auto_flow": null,
            "grid_area": null,
            "grid_template_columns": null,
            "flex": null,
            "_model_name": "LayoutModel",
            "justify_items": null,
            "grid_row": null,
            "max_height": null,
            "align_content": null,
            "visibility": null,
            "align_self": null,
            "height": null,
            "min_height": null,
            "padding": null,
            "grid_auto_rows": null,
            "grid_gap": null,
            "max_width": null,
            "order": null,
            "_view_module_version": "1.2.0",
            "grid_template_areas": null,
            "object_position": null,
            "object_fit": null,
            "grid_auto_columns": null,
            "margin": null,
            "display": null,
            "left": null
          }
        },
        "45d57d78f390417c990233d01830615d": {
          "model_module": "@jupyter-widgets/controls",
          "model_name": "DescriptionStyleModel",
          "state": {
            "_view_name": "StyleView",
            "_model_name": "DescriptionStyleModel",
            "description_width": "",
            "_view_module": "@jupyter-widgets/base",
            "_model_module_version": "1.5.0",
            "_view_count": null,
            "_view_module_version": "1.2.0",
            "_model_module": "@jupyter-widgets/controls"
          }
        },
        "7fa6c73fb87a4005b9e62408dff7c1ce": {
          "model_module": "@jupyter-widgets/base",
          "model_name": "LayoutModel",
          "state": {
            "_view_name": "LayoutView",
            "grid_template_rows": null,
            "right": null,
            "justify_content": null,
            "_view_module": "@jupyter-widgets/base",
            "overflow": null,
            "_model_module_version": "1.2.0",
            "_view_count": null,
            "flex_flow": null,
            "width": null,
            "min_width": null,
            "border": null,
            "align_items": null,
            "bottom": null,
            "_model_module": "@jupyter-widgets/base",
            "top": null,
            "grid_column": null,
            "overflow_y": null,
            "overflow_x": null,
            "grid_auto_flow": null,
            "grid_area": null,
            "grid_template_columns": null,
            "flex": null,
            "_model_name": "LayoutModel",
            "justify_items": null,
            "grid_row": null,
            "max_height": null,
            "align_content": null,
            "visibility": null,
            "align_self": null,
            "height": null,
            "min_height": null,
            "padding": null,
            "grid_auto_rows": null,
            "grid_gap": null,
            "max_width": null,
            "order": null,
            "_view_module_version": "1.2.0",
            "grid_template_areas": null,
            "object_position": null,
            "object_fit": null,
            "grid_auto_columns": null,
            "margin": null,
            "display": null,
            "left": null
          }
        },
        "0735ef1b038641b1898b30bdae6dc145": {
          "model_module": "@jupyter-widgets/controls",
          "model_name": "HBoxModel",
          "state": {
            "_view_name": "HBoxView",
            "_dom_classes": [],
            "_model_name": "HBoxModel",
            "_view_module": "@jupyter-widgets/controls",
            "_model_module_version": "1.5.0",
            "_view_count": null,
            "_view_module_version": "1.5.0",
            "box_style": "",
            "layout": "IPY_MODEL_18b430817dac481297ed8b136c6ba8ca",
            "_model_module": "@jupyter-widgets/controls",
            "children": [
              "IPY_MODEL_450d6503cec042fd9169cef195ac816c",
              "IPY_MODEL_481573ee03e548fc8a8a98eb299f3e23"
            ]
          }
        },
        "18b430817dac481297ed8b136c6ba8ca": {
          "model_module": "@jupyter-widgets/base",
          "model_name": "LayoutModel",
          "state": {
            "_view_name": "LayoutView",
            "grid_template_rows": null,
            "right": null,
            "justify_content": null,
            "_view_module": "@jupyter-widgets/base",
            "overflow": null,
            "_model_module_version": "1.2.0",
            "_view_count": null,
            "flex_flow": null,
            "width": null,
            "min_width": null,
            "border": null,
            "align_items": null,
            "bottom": null,
            "_model_module": "@jupyter-widgets/base",
            "top": null,
            "grid_column": null,
            "overflow_y": null,
            "overflow_x": null,
            "grid_auto_flow": null,
            "grid_area": null,
            "grid_template_columns": null,
            "flex": null,
            "_model_name": "LayoutModel",
            "justify_items": null,
            "grid_row": null,
            "max_height": null,
            "align_content": null,
            "visibility": null,
            "align_self": null,
            "height": null,
            "min_height": null,
            "padding": null,
            "grid_auto_rows": null,
            "grid_gap": null,
            "max_width": null,
            "order": null,
            "_view_module_version": "1.2.0",
            "grid_template_areas": null,
            "object_position": null,
            "object_fit": null,
            "grid_auto_columns": null,
            "margin": null,
            "display": null,
            "left": null
          }
        },
        "450d6503cec042fd9169cef195ac816c": {
          "model_module": "@jupyter-widgets/controls",
          "model_name": "IntProgressModel",
          "state": {
            "_view_name": "ProgressView",
            "style": "IPY_MODEL_0457186e1c5c4482b0acb5138253ec89",
            "_dom_classes": [],
            "description": "",
            "_model_name": "IntProgressModel",
            "bar_style": "success",
            "max": 1,
            "_view_module": "@jupyter-widgets/controls",
            "_model_module_version": "1.5.0",
            "value": 1,
            "_view_count": null,
            "_view_module_version": "1.5.0",
            "orientation": "horizontal",
            "min": 0,
            "description_tooltip": null,
            "_model_module": "@jupyter-widgets/controls",
            "layout": "IPY_MODEL_262b8b33d7f441d9b60266ce1b2f57c4"
          }
        },
        "481573ee03e548fc8a8a98eb299f3e23": {
          "model_module": "@jupyter-widgets/controls",
          "model_name": "HTMLModel",
          "state": {
            "_view_name": "HTMLView",
            "style": "IPY_MODEL_1b53d3a972e94bc5a76176260f443e34",
            "_dom_classes": [],
            "description": "",
            "_model_name": "HTMLModel",
            "placeholder": "​",
            "_view_module": "@jupyter-widgets/controls",
            "_model_module_version": "1.5.0",
            "value": "32768it [00:00, 53320.68it/s]",
            "_view_count": null,
            "_view_module_version": "1.5.0",
            "description_tooltip": null,
            "_model_module": "@jupyter-widgets/controls",
            "layout": "IPY_MODEL_96d6a122c24c49c5ace9cbf810626807"
          }
        },
        "0457186e1c5c4482b0acb5138253ec89": {
          "model_module": "@jupyter-widgets/controls",
          "model_name": "ProgressStyleModel",
          "state": {
            "_view_name": "StyleView",
            "_model_name": "ProgressStyleModel",
            "description_width": "",
            "_view_module": "@jupyter-widgets/base",
            "_model_module_version": "1.5.0",
            "_view_count": null,
            "_view_module_version": "1.2.0",
            "bar_color": null,
            "_model_module": "@jupyter-widgets/controls"
          }
        },
        "262b8b33d7f441d9b60266ce1b2f57c4": {
          "model_module": "@jupyter-widgets/base",
          "model_name": "LayoutModel",
          "state": {
            "_view_name": "LayoutView",
            "grid_template_rows": null,
            "right": null,
            "justify_content": null,
            "_view_module": "@jupyter-widgets/base",
            "overflow": null,
            "_model_module_version": "1.2.0",
            "_view_count": null,
            "flex_flow": null,
            "width": null,
            "min_width": null,
            "border": null,
            "align_items": null,
            "bottom": null,
            "_model_module": "@jupyter-widgets/base",
            "top": null,
            "grid_column": null,
            "overflow_y": null,
            "overflow_x": null,
            "grid_auto_flow": null,
            "grid_area": null,
            "grid_template_columns": null,
            "flex": null,
            "_model_name": "LayoutModel",
            "justify_items": null,
            "grid_row": null,
            "max_height": null,
            "align_content": null,
            "visibility": null,
            "align_self": null,
            "height": null,
            "min_height": null,
            "padding": null,
            "grid_auto_rows": null,
            "grid_gap": null,
            "max_width": null,
            "order": null,
            "_view_module_version": "1.2.0",
            "grid_template_areas": null,
            "object_position": null,
            "object_fit": null,
            "grid_auto_columns": null,
            "margin": null,
            "display": null,
            "left": null
          }
        },
        "1b53d3a972e94bc5a76176260f443e34": {
          "model_module": "@jupyter-widgets/controls",
          "model_name": "DescriptionStyleModel",
          "state": {
            "_view_name": "StyleView",
            "_model_name": "DescriptionStyleModel",
            "description_width": "",
            "_view_module": "@jupyter-widgets/base",
            "_model_module_version": "1.5.0",
            "_view_count": null,
            "_view_module_version": "1.2.0",
            "_model_module": "@jupyter-widgets/controls"
          }
        },
        "96d6a122c24c49c5ace9cbf810626807": {
          "model_module": "@jupyter-widgets/base",
          "model_name": "LayoutModel",
          "state": {
            "_view_name": "LayoutView",
            "grid_template_rows": null,
            "right": null,
            "justify_content": null,
            "_view_module": "@jupyter-widgets/base",
            "overflow": null,
            "_model_module_version": "1.2.0",
            "_view_count": null,
            "flex_flow": null,
            "width": null,
            "min_width": null,
            "border": null,
            "align_items": null,
            "bottom": null,
            "_model_module": "@jupyter-widgets/base",
            "top": null,
            "grid_column": null,
            "overflow_y": null,
            "overflow_x": null,
            "grid_auto_flow": null,
            "grid_area": null,
            "grid_template_columns": null,
            "flex": null,
            "_model_name": "LayoutModel",
            "justify_items": null,
            "grid_row": null,
            "max_height": null,
            "align_content": null,
            "visibility": null,
            "align_self": null,
            "height": null,
            "min_height": null,
            "padding": null,
            "grid_auto_rows": null,
            "grid_gap": null,
            "max_width": null,
            "order": null,
            "_view_module_version": "1.2.0",
            "grid_template_areas": null,
            "object_position": null,
            "object_fit": null,
            "grid_auto_columns": null,
            "margin": null,
            "display": null,
            "left": null
          }
        },
        "2854bef30c4048f8b92643eedd67ea9d": {
          "model_module": "@jupyter-widgets/controls",
          "model_name": "HBoxModel",
          "state": {
            "_view_name": "HBoxView",
            "_dom_classes": [],
            "_model_name": "HBoxModel",
            "_view_module": "@jupyter-widgets/controls",
            "_model_module_version": "1.5.0",
            "_view_count": null,
            "_view_module_version": "1.5.0",
            "box_style": "",
            "layout": "IPY_MODEL_086eb04850cc422e9ad1f5e67a2085d4",
            "_model_module": "@jupyter-widgets/controls",
            "children": [
              "IPY_MODEL_c2c888636d734492bfef42ff1e5de418",
              "IPY_MODEL_8b2147f3ccb14823a85b5dbbf2b20821"
            ]
          }
        },
        "086eb04850cc422e9ad1f5e67a2085d4": {
          "model_module": "@jupyter-widgets/base",
          "model_name": "LayoutModel",
          "state": {
            "_view_name": "LayoutView",
            "grid_template_rows": null,
            "right": null,
            "justify_content": null,
            "_view_module": "@jupyter-widgets/base",
            "overflow": null,
            "_model_module_version": "1.2.0",
            "_view_count": null,
            "flex_flow": null,
            "width": null,
            "min_width": null,
            "border": null,
            "align_items": null,
            "bottom": null,
            "_model_module": "@jupyter-widgets/base",
            "top": null,
            "grid_column": null,
            "overflow_y": null,
            "overflow_x": null,
            "grid_auto_flow": null,
            "grid_area": null,
            "grid_template_columns": null,
            "flex": null,
            "_model_name": "LayoutModel",
            "justify_items": null,
            "grid_row": null,
            "max_height": null,
            "align_content": null,
            "visibility": null,
            "align_self": null,
            "height": null,
            "min_height": null,
            "padding": null,
            "grid_auto_rows": null,
            "grid_gap": null,
            "max_width": null,
            "order": null,
            "_view_module_version": "1.2.0",
            "grid_template_areas": null,
            "object_position": null,
            "object_fit": null,
            "grid_auto_columns": null,
            "margin": null,
            "display": null,
            "left": null
          }
        },
        "c2c888636d734492bfef42ff1e5de418": {
          "model_module": "@jupyter-widgets/controls",
          "model_name": "IntProgressModel",
          "state": {
            "_view_name": "ProgressView",
            "style": "IPY_MODEL_345dc91acbea45dbb1a6445ad77de787",
            "_dom_classes": [],
            "description": "",
            "_model_name": "IntProgressModel",
            "bar_style": "success",
            "max": 1,
            "_view_module": "@jupyter-widgets/controls",
            "_model_module_version": "1.5.0",
            "value": 1,
            "_view_count": null,
            "_view_module_version": "1.5.0",
            "orientation": "horizontal",
            "min": 0,
            "description_tooltip": null,
            "_model_module": "@jupyter-widgets/controls",
            "layout": "IPY_MODEL_3c973a7e5ef547d0a9acdfe1ec4f2547"
          }
        },
        "8b2147f3ccb14823a85b5dbbf2b20821": {
          "model_module": "@jupyter-widgets/controls",
          "model_name": "HTMLModel",
          "state": {
            "_view_name": "HTMLView",
            "style": "IPY_MODEL_8251c6173c844195bbee9ba708e3efa0",
            "_dom_classes": [],
            "description": "",
            "_model_name": "HTMLModel",
            "placeholder": "​",
            "_view_module": "@jupyter-widgets/controls",
            "_model_module_version": "1.5.0",
            "value": "1654784it [00:01, 910057.36it/s]",
            "_view_count": null,
            "_view_module_version": "1.5.0",
            "description_tooltip": null,
            "_model_module": "@jupyter-widgets/controls",
            "layout": "IPY_MODEL_ac4f1d14b6164460a82a17e074802e96"
          }
        },
        "345dc91acbea45dbb1a6445ad77de787": {
          "model_module": "@jupyter-widgets/controls",
          "model_name": "ProgressStyleModel",
          "state": {
            "_view_name": "StyleView",
            "_model_name": "ProgressStyleModel",
            "description_width": "",
            "_view_module": "@jupyter-widgets/base",
            "_model_module_version": "1.5.0",
            "_view_count": null,
            "_view_module_version": "1.2.0",
            "bar_color": null,
            "_model_module": "@jupyter-widgets/controls"
          }
        },
        "3c973a7e5ef547d0a9acdfe1ec4f2547": {
          "model_module": "@jupyter-widgets/base",
          "model_name": "LayoutModel",
          "state": {
            "_view_name": "LayoutView",
            "grid_template_rows": null,
            "right": null,
            "justify_content": null,
            "_view_module": "@jupyter-widgets/base",
            "overflow": null,
            "_model_module_version": "1.2.0",
            "_view_count": null,
            "flex_flow": null,
            "width": null,
            "min_width": null,
            "border": null,
            "align_items": null,
            "bottom": null,
            "_model_module": "@jupyter-widgets/base",
            "top": null,
            "grid_column": null,
            "overflow_y": null,
            "overflow_x": null,
            "grid_auto_flow": null,
            "grid_area": null,
            "grid_template_columns": null,
            "flex": null,
            "_model_name": "LayoutModel",
            "justify_items": null,
            "grid_row": null,
            "max_height": null,
            "align_content": null,
            "visibility": null,
            "align_self": null,
            "height": null,
            "min_height": null,
            "padding": null,
            "grid_auto_rows": null,
            "grid_gap": null,
            "max_width": null,
            "order": null,
            "_view_module_version": "1.2.0",
            "grid_template_areas": null,
            "object_position": null,
            "object_fit": null,
            "grid_auto_columns": null,
            "margin": null,
            "display": null,
            "left": null
          }
        },
        "8251c6173c844195bbee9ba708e3efa0": {
          "model_module": "@jupyter-widgets/controls",
          "model_name": "DescriptionStyleModel",
          "state": {
            "_view_name": "StyleView",
            "_model_name": "DescriptionStyleModel",
            "description_width": "",
            "_view_module": "@jupyter-widgets/base",
            "_model_module_version": "1.5.0",
            "_view_count": null,
            "_view_module_version": "1.2.0",
            "_model_module": "@jupyter-widgets/controls"
          }
        },
        "ac4f1d14b6164460a82a17e074802e96": {
          "model_module": "@jupyter-widgets/base",
          "model_name": "LayoutModel",
          "state": {
            "_view_name": "LayoutView",
            "grid_template_rows": null,
            "right": null,
            "justify_content": null,
            "_view_module": "@jupyter-widgets/base",
            "overflow": null,
            "_model_module_version": "1.2.0",
            "_view_count": null,
            "flex_flow": null,
            "width": null,
            "min_width": null,
            "border": null,
            "align_items": null,
            "bottom": null,
            "_model_module": "@jupyter-widgets/base",
            "top": null,
            "grid_column": null,
            "overflow_y": null,
            "overflow_x": null,
            "grid_auto_flow": null,
            "grid_area": null,
            "grid_template_columns": null,
            "flex": null,
            "_model_name": "LayoutModel",
            "justify_items": null,
            "grid_row": null,
            "max_height": null,
            "align_content": null,
            "visibility": null,
            "align_self": null,
            "height": null,
            "min_height": null,
            "padding": null,
            "grid_auto_rows": null,
            "grid_gap": null,
            "max_width": null,
            "order": null,
            "_view_module_version": "1.2.0",
            "grid_template_areas": null,
            "object_position": null,
            "object_fit": null,
            "grid_auto_columns": null,
            "margin": null,
            "display": null,
            "left": null
          }
        },
        "4e9fdc76fc174bb59ead81a8b9e68622": {
          "model_module": "@jupyter-widgets/controls",
          "model_name": "HBoxModel",
          "state": {
            "_view_name": "HBoxView",
            "_dom_classes": [],
            "_model_name": "HBoxModel",
            "_view_module": "@jupyter-widgets/controls",
            "_model_module_version": "1.5.0",
            "_view_count": null,
            "_view_module_version": "1.5.0",
            "box_style": "",
            "layout": "IPY_MODEL_2a92c501a049416895ff7c25da659e2e",
            "_model_module": "@jupyter-widgets/controls",
            "children": [
              "IPY_MODEL_8f8900673fd4407f8d442f22b884cb09",
              "IPY_MODEL_3319bc880eb849409ecff375f274482f"
            ]
          }
        },
        "2a92c501a049416895ff7c25da659e2e": {
          "model_module": "@jupyter-widgets/base",
          "model_name": "LayoutModel",
          "state": {
            "_view_name": "LayoutView",
            "grid_template_rows": null,
            "right": null,
            "justify_content": null,
            "_view_module": "@jupyter-widgets/base",
            "overflow": null,
            "_model_module_version": "1.2.0",
            "_view_count": null,
            "flex_flow": null,
            "width": null,
            "min_width": null,
            "border": null,
            "align_items": null,
            "bottom": null,
            "_model_module": "@jupyter-widgets/base",
            "top": null,
            "grid_column": null,
            "overflow_y": null,
            "overflow_x": null,
            "grid_auto_flow": null,
            "grid_area": null,
            "grid_template_columns": null,
            "flex": null,
            "_model_name": "LayoutModel",
            "justify_items": null,
            "grid_row": null,
            "max_height": null,
            "align_content": null,
            "visibility": null,
            "align_self": null,
            "height": null,
            "min_height": null,
            "padding": null,
            "grid_auto_rows": null,
            "grid_gap": null,
            "max_width": null,
            "order": null,
            "_view_module_version": "1.2.0",
            "grid_template_areas": null,
            "object_position": null,
            "object_fit": null,
            "grid_auto_columns": null,
            "margin": null,
            "display": null,
            "left": null
          }
        },
        "8f8900673fd4407f8d442f22b884cb09": {
          "model_module": "@jupyter-widgets/controls",
          "model_name": "IntProgressModel",
          "state": {
            "_view_name": "ProgressView",
            "style": "IPY_MODEL_f5ddc92ae2db4d60abd8c18f9930767f",
            "_dom_classes": [],
            "description": "",
            "_model_name": "IntProgressModel",
            "bar_style": "success",
            "max": 1,
            "_view_module": "@jupyter-widgets/controls",
            "_model_module_version": "1.5.0",
            "value": 1,
            "_view_count": null,
            "_view_module_version": "1.5.0",
            "orientation": "horizontal",
            "min": 0,
            "description_tooltip": null,
            "_model_module": "@jupyter-widgets/controls",
            "layout": "IPY_MODEL_7707bb358975489f923bb2c4e5a9c99f"
          }
        },
        "3319bc880eb849409ecff375f274482f": {
          "model_module": "@jupyter-widgets/controls",
          "model_name": "HTMLModel",
          "state": {
            "_view_name": "HTMLView",
            "style": "IPY_MODEL_c773a744b1f24c898988f0faf8c7856d",
            "_dom_classes": [],
            "description": "",
            "_model_name": "HTMLModel",
            "placeholder": "​",
            "_view_module": "@jupyter-widgets/controls",
            "_model_module_version": "1.5.0",
            "value": "8192it [00:00, 19617.91it/s]",
            "_view_count": null,
            "_view_module_version": "1.5.0",
            "description_tooltip": null,
            "_model_module": "@jupyter-widgets/controls",
            "layout": "IPY_MODEL_47cd6e434b8349329048fcb98e6d43fa"
          }
        },
        "f5ddc92ae2db4d60abd8c18f9930767f": {
          "model_module": "@jupyter-widgets/controls",
          "model_name": "ProgressStyleModel",
          "state": {
            "_view_name": "StyleView",
            "_model_name": "ProgressStyleModel",
            "description_width": "",
            "_view_module": "@jupyter-widgets/base",
            "_model_module_version": "1.5.0",
            "_view_count": null,
            "_view_module_version": "1.2.0",
            "bar_color": null,
            "_model_module": "@jupyter-widgets/controls"
          }
        },
        "7707bb358975489f923bb2c4e5a9c99f": {
          "model_module": "@jupyter-widgets/base",
          "model_name": "LayoutModel",
          "state": {
            "_view_name": "LayoutView",
            "grid_template_rows": null,
            "right": null,
            "justify_content": null,
            "_view_module": "@jupyter-widgets/base",
            "overflow": null,
            "_model_module_version": "1.2.0",
            "_view_count": null,
            "flex_flow": null,
            "width": null,
            "min_width": null,
            "border": null,
            "align_items": null,
            "bottom": null,
            "_model_module": "@jupyter-widgets/base",
            "top": null,
            "grid_column": null,
            "overflow_y": null,
            "overflow_x": null,
            "grid_auto_flow": null,
            "grid_area": null,
            "grid_template_columns": null,
            "flex": null,
            "_model_name": "LayoutModel",
            "justify_items": null,
            "grid_row": null,
            "max_height": null,
            "align_content": null,
            "visibility": null,
            "align_self": null,
            "height": null,
            "min_height": null,
            "padding": null,
            "grid_auto_rows": null,
            "grid_gap": null,
            "max_width": null,
            "order": null,
            "_view_module_version": "1.2.0",
            "grid_template_areas": null,
            "object_position": null,
            "object_fit": null,
            "grid_auto_columns": null,
            "margin": null,
            "display": null,
            "left": null
          }
        },
        "c773a744b1f24c898988f0faf8c7856d": {
          "model_module": "@jupyter-widgets/controls",
          "model_name": "DescriptionStyleModel",
          "state": {
            "_view_name": "StyleView",
            "_model_name": "DescriptionStyleModel",
            "description_width": "",
            "_view_module": "@jupyter-widgets/base",
            "_model_module_version": "1.5.0",
            "_view_count": null,
            "_view_module_version": "1.2.0",
            "_model_module": "@jupyter-widgets/controls"
          }
        },
        "47cd6e434b8349329048fcb98e6d43fa": {
          "model_module": "@jupyter-widgets/base",
          "model_name": "LayoutModel",
          "state": {
            "_view_name": "LayoutView",
            "grid_template_rows": null,
            "right": null,
            "justify_content": null,
            "_view_module": "@jupyter-widgets/base",
            "overflow": null,
            "_model_module_version": "1.2.0",
            "_view_count": null,
            "flex_flow": null,
            "width": null,
            "min_width": null,
            "border": null,
            "align_items": null,
            "bottom": null,
            "_model_module": "@jupyter-widgets/base",
            "top": null,
            "grid_column": null,
            "overflow_y": null,
            "overflow_x": null,
            "grid_auto_flow": null,
            "grid_area": null,
            "grid_template_columns": null,
            "flex": null,
            "_model_name": "LayoutModel",
            "justify_items": null,
            "grid_row": null,
            "max_height": null,
            "align_content": null,
            "visibility": null,
            "align_self": null,
            "height": null,
            "min_height": null,
            "padding": null,
            "grid_auto_rows": null,
            "grid_gap": null,
            "max_width": null,
            "order": null,
            "_view_module_version": "1.2.0",
            "grid_template_areas": null,
            "object_position": null,
            "object_fit": null,
            "grid_auto_columns": null,
            "margin": null,
            "display": null,
            "left": null
          }
        }
      }
    }
  },
  "cells": [
    {
      "cell_type": "markdown",
      "metadata": {
        "id": "atUQxGxOVnjM",
        "colab_type": "text"
      },
      "source": [
        "# PyTorch Neural Network Digits Classifier\n",
        "**Dataset:** MNIST"
      ]
    },
    {
      "cell_type": "code",
      "metadata": {
        "id": "cTiBfkGpVnjN",
        "colab_type": "code",
        "colab": {}
      },
      "source": [
        "%matplotlib inline\n",
        "%config InlineBackend.figure_format = 'retina'\n",
        "\n",
        "import numpy as np\n",
        "import torch\n",
        "\n",
        "import matplotlib.pyplot as plt\n",
        "from torchvision import datasets, transforms\n",
        "\n",
        "from torch import nn\n",
        "from torch import optim\n",
        "import torch.nn.functional as F\n",
        "\n",
        "from torch.optim import lr_scheduler\n",
        "\n",
        "\n",
        "# to initialize the weights of the Net\n",
        "import torch.nn.init as I\n",
        "import datetime\n"
      ],
      "execution_count": 0,
      "outputs": []
    },
    {
      "cell_type": "code",
      "metadata": {
        "id": "Y5l7mCIZmqyH",
        "colab_type": "code",
        "outputId": "2526640e-6c77-45c5-9c23-2785d4a64383",
        "colab": {
          "base_uri": "https://localhost:8080/",
          "height": 34
        }
      },
      "source": [
        "create_data = False\n",
        "train_network = True\n",
        "save_feather_files = False\n",
        "\n",
        "batch_size = 64\n",
        "device = 'cpu'\n",
        "\n",
        "if torch.cuda.is_available():\n",
        "    device = 'cuda'\n",
        "device"
      ],
      "execution_count": 2,
      "outputs": [
        {
          "output_type": "execute_result",
          "data": {
            "text/plain": [
              "'cpu'"
            ]
          },
          "metadata": {
            "tags": []
          },
          "execution_count": 2
        }
      ]
    },
    {
      "cell_type": "code",
      "metadata": {
        "id": "-izfb7dyoJAE",
        "colab_type": "code",
        "colab": {}
      },
      "source": [
        "def print_validation(train_dataset_len, batch_size, epoch, epochs, step, running_loss, print_every, test_loss, len_val, accuracy):\n",
        "    now = datetime.datetime.now()\n",
        "    print(\"Epoch: {}/{}... \".format(epoch + 1, epochs),\n",
        "          \"Step: ({}/{}) \".format(step, int(train_dataset_len/batch_size)),\n",
        "          \"Loss: {:.3f}\".format(running_loss/print_every),\n",
        "          \"Val Loss: {:.3f}\".format(test_loss/len_val),\n",
        "          \"Val Acc: {:.3f}\".format(accuracy/len_val),\n",
        "          now)\n",
        "\n",
        "\n",
        "def print_get_prediction(train_dataset_len, batch_size, step, old_now):\n",
        "    now = datetime.datetime.now()\n",
        "    print(\"Step: ({}/{}) \".format(step, int(train_dataset_len/batch_size)),\n",
        "          now, \"--> (remaining time: {0})\".format((now - old_now) * (int(train_dataset_len/batch_size) - step))\n",
        "          )\n",
        "    return now\n"
      ],
      "execution_count": 0,
      "outputs": []
    },
    {
      "cell_type": "markdown",
      "metadata": {
        "id": "mFGLkIQXVnjS",
        "colab_type": "text"
      },
      "source": [
        "**Download _MNIST_ dataset**  \n",
        "I will be using batches of 64"
      ]
    },
    {
      "cell_type": "code",
      "metadata": {
        "id": "nIekNRpxVnjU",
        "colab_type": "code",
        "colab": {
          "base_uri": "https://localhost:8080/",
          "height": 383,
          "referenced_widgets": [
            "8ac07cb6cba64df6b701ee97d8a75250",
            "70eebcdd7a934c4fa74e2d640a64ee91",
            "02ac6f97f3334abc8900c8dde004b02c",
            "8f7fbfe9adc7467c80cdec4358d3f64b",
            "f4744a48da2340f9992c78a852143a04",
            "4ada681a35ec42e69b870a3314b3338f",
            "45d57d78f390417c990233d01830615d",
            "7fa6c73fb87a4005b9e62408dff7c1ce",
            "0735ef1b038641b1898b30bdae6dc145",
            "18b430817dac481297ed8b136c6ba8ca",
            "450d6503cec042fd9169cef195ac816c",
            "481573ee03e548fc8a8a98eb299f3e23",
            "0457186e1c5c4482b0acb5138253ec89",
            "262b8b33d7f441d9b60266ce1b2f57c4",
            "1b53d3a972e94bc5a76176260f443e34",
            "96d6a122c24c49c5ace9cbf810626807",
            "2854bef30c4048f8b92643eedd67ea9d",
            "086eb04850cc422e9ad1f5e67a2085d4",
            "c2c888636d734492bfef42ff1e5de418",
            "8b2147f3ccb14823a85b5dbbf2b20821",
            "345dc91acbea45dbb1a6445ad77de787",
            "3c973a7e5ef547d0a9acdfe1ec4f2547",
            "8251c6173c844195bbee9ba708e3efa0",
            "ac4f1d14b6164460a82a17e074802e96",
            "4e9fdc76fc174bb59ead81a8b9e68622",
            "2a92c501a049416895ff7c25da659e2e",
            "8f8900673fd4407f8d442f22b884cb09",
            "3319bc880eb849409ecff375f274482f",
            "f5ddc92ae2db4d60abd8c18f9930767f",
            "7707bb358975489f923bb2c4e5a9c99f",
            "c773a744b1f24c898988f0faf8c7856d",
            "47cd6e434b8349329048fcb98e6d43fa"
          ]
        },
        "outputId": "7c9a2c0b-a704-4e4a-94a1-0fdec8aeb570"
      },
      "source": [
        "# Define a transform to normalize the data\n",
        " transformations = transforms.Compose([\n",
        "    transforms.Resize(28),\n",
        "    transforms.Grayscale(num_output_channels=1),\n",
        "    transforms.ToTensor()\n",
        "])\n",
        "                             \n",
        "# Download and load the training data\n",
        "trainset = datasets.MNIST('MNIST_data/', download=True, train=True, transform=transformations)\n",
        "train_loader = torch.utils.data.DataLoader(trainset, batch_size= batch_size, shuffle=True)\n",
        "\n",
        "# Download and load the test data\n",
        "testset = datasets.MNIST('MNIST_data/', download=True, train=False, transform=transformations)\n",
        "test_loader = torch.utils.data.DataLoader(testset, batch_size= batch_size, shuffle=True)"
      ],
      "execution_count": 5,
      "outputs": [
        {
          "output_type": "stream",
          "text": [
            "Downloading http://yann.lecun.com/exdb/mnist/train-images-idx3-ubyte.gz to MNIST_data/MNIST/raw/train-images-idx3-ubyte.gz\n"
          ],
          "name": "stdout"
        },
        {
          "output_type": "display_data",
          "data": {
            "application/vnd.jupyter.widget-view+json": {
              "model_id": "8ac07cb6cba64df6b701ee97d8a75250",
              "version_minor": 0,
              "version_major": 2
            },
            "text/plain": [
              "HBox(children=(IntProgress(value=1, bar_style='info', max=1), HTML(value='')))"
            ]
          },
          "metadata": {
            "tags": []
          }
        },
        {
          "output_type": "stream",
          "text": [
            "\n",
            "Extracting MNIST_data/MNIST/raw/train-images-idx3-ubyte.gz to MNIST_data/MNIST/raw\n",
            "Downloading http://yann.lecun.com/exdb/mnist/train-labels-idx1-ubyte.gz to MNIST_data/MNIST/raw/train-labels-idx1-ubyte.gz\n"
          ],
          "name": "stdout"
        },
        {
          "output_type": "display_data",
          "data": {
            "application/vnd.jupyter.widget-view+json": {
              "model_id": "0735ef1b038641b1898b30bdae6dc145",
              "version_minor": 0,
              "version_major": 2
            },
            "text/plain": [
              "HBox(children=(IntProgress(value=1, bar_style='info', max=1), HTML(value='')))"
            ]
          },
          "metadata": {
            "tags": []
          }
        },
        {
          "output_type": "stream",
          "text": [
            "\n",
            "Extracting MNIST_data/MNIST/raw/train-labels-idx1-ubyte.gz to MNIST_data/MNIST/raw\n",
            "Downloading http://yann.lecun.com/exdb/mnist/t10k-images-idx3-ubyte.gz to MNIST_data/MNIST/raw/t10k-images-idx3-ubyte.gz\n"
          ],
          "name": "stdout"
        },
        {
          "output_type": "display_data",
          "data": {
            "application/vnd.jupyter.widget-view+json": {
              "model_id": "2854bef30c4048f8b92643eedd67ea9d",
              "version_minor": 0,
              "version_major": 2
            },
            "text/plain": [
              "HBox(children=(IntProgress(value=1, bar_style='info', max=1), HTML(value='')))"
            ]
          },
          "metadata": {
            "tags": []
          }
        },
        {
          "output_type": "stream",
          "text": [
            "\n",
            "Extracting MNIST_data/MNIST/raw/t10k-images-idx3-ubyte.gz to MNIST_data/MNIST/raw\n",
            "Downloading http://yann.lecun.com/exdb/mnist/t10k-labels-idx1-ubyte.gz to MNIST_data/MNIST/raw/t10k-labels-idx1-ubyte.gz\n"
          ],
          "name": "stdout"
        },
        {
          "output_type": "display_data",
          "data": {
            "application/vnd.jupyter.widget-view+json": {
              "model_id": "4e9fdc76fc174bb59ead81a8b9e68622",
              "version_minor": 0,
              "version_major": 2
            },
            "text/plain": [
              "HBox(children=(IntProgress(value=1, bar_style='info', max=1), HTML(value='')))"
            ]
          },
          "metadata": {
            "tags": []
          }
        },
        {
          "output_type": "stream",
          "text": [
            "\n",
            "Extracting MNIST_data/MNIST/raw/t10k-labels-idx1-ubyte.gz to MNIST_data/MNIST/raw\n",
            "Processing...\n",
            "Done!\n"
          ],
          "name": "stdout"
        }
      ]
    },
    {
      "cell_type": "code",
      "metadata": {
        "id": "jJlFgscssdLZ",
        "colab_type": "code",
        "colab": {}
      },
      "source": [
        "print(len(trainset))"
      ],
      "execution_count": 0,
      "outputs": []
    },
    {
      "cell_type": "code",
      "metadata": {
        "id": "bCy5igxvVnjX",
        "colab_type": "code",
        "colab": {}
      },
      "source": [
        "dataiter = iter(train_loader)\n",
        "images, labels = dataiter.next()"
      ],
      "execution_count": 0,
      "outputs": []
    },
    {
      "cell_type": "code",
      "metadata": {
        "id": "vGmkcwklVnjb",
        "colab_type": "code",
        "colab": {}
      },
      "source": [
        "def print_sample_digit(index):\n",
        "    print(str.format('Label: {}',labels[index]))\n",
        "    plt.figure(num=None, figsize=(1, 1), dpi=56, facecolor='w', edgecolor='k')\n",
        "    plt.imshow(images[index].numpy().squeeze(), cmap='Greys_r');"
      ],
      "execution_count": 0,
      "outputs": []
    },
    {
      "cell_type": "code",
      "metadata": {
        "id": "5JLjdSKRVnje",
        "colab_type": "code",
        "outputId": "72450dff-026d-468f-d48f-8ee76ca20a34",
        "colab": {
          "base_uri": "https://localhost:8080/",
          "height": 102
        }
      },
      "source": [
        "print_sample_digit(0)"
      ],
      "execution_count": 8,
      "outputs": [
        {
          "output_type": "stream",
          "text": [
            "Label: 9\n"
          ],
          "name": "stdout"
        },
        {
          "output_type": "display_data",
          "data": {
            "image/png": "[encoded data removed]",
            "text/plain": [
              "<Figure size 56x56 with 1 Axes>"
            ]
          },
          "metadata": {
            "tags": [],
            "image/png": {
              "width": 69,
              "height": 68
            }
          }
        }
      ]
    },
    {
      "cell_type": "code",
      "metadata": {
        "id": "47MIkGOoVnjl",
        "colab_type": "code",
        "outputId": "d735201c-f4c1-4251-c324-99d06adb98af",
        "colab": {
          "base_uri": "https://localhost:8080/",
          "height": 102
        }
      },
      "source": [
        "print_sample_digit(1)"
      ],
      "execution_count": 9,
      "outputs": [
        {
          "output_type": "stream",
          "text": [
            "Label: 7\n"
          ],
          "name": "stdout"
        },
        {
          "output_type": "display_data",
          "data": {
            "image/png": "[encoded data removed]",
            "text/plain": [
              "<Figure size 56x56 with 1 Axes>"
            ]
          },
          "metadata": {
            "tags": [],
            "image/png": {
              "width": 69,
              "height": 68
            }
          }
        }
      ]
    },
    {
      "cell_type": "markdown",
      "metadata": {
        "id": "QRL63V1nVnjt",
        "colab_type": "text"
      },
      "source": [
        "### Define the model"
      ]
    },
    {
      "cell_type": "code",
      "metadata": {
        "id": "KKspC2iFdWXu",
        "colab_type": "code",
        "colab": {}
      },
      "source": [
        "class Net(nn.Module):\n",
        "    def __init__(self):\n",
        "        super(Net, self).__init__()        \n",
        "        #(28x28x1)\n",
        "        self.conv1 = nn.Conv2d(1, 32, 4)\n",
        "        #(25x25x32)\n",
        "        self.pool1 = nn.MaxPool2d(2)\n",
        "        #(12x12x32)\n",
        "        self.dropout1 = nn.Dropout(p=0.4)\n",
        "                \n",
        "        #(12x12x32)\n",
        "        self.conv2 = nn.Conv2d(32, 64, 3)\n",
        "        #(10x10x64)\n",
        "        self.pool2 = nn.MaxPool2d(2)\n",
        "        #(5x5x64)\n",
        "        #self.dropout2 = nn.Dropout(p=0.2)\n",
        "                \n",
        "        #(5x5x64)\n",
        "        self.conv3 = nn.Conv2d(64, 128, 2)\n",
        "        #(4x4x128)\n",
        "        self.pool3 = nn.MaxPool2d(2)\n",
        "        #(2x2x128)\n",
        "        #self.dropout3 = nn.Dropout(p=0.3)\n",
        "                \n",
        "        #(2x2x128)\n",
        "        self.conv4 = nn.Conv2d(128, 256, 1)\n",
        "        #(2x2x256)\n",
        "        self.pool4 = nn.MaxPool2d(2)\n",
        "        #(1x1x256)\n",
        "        #self.dropout4 = nn.Dropout(p=0.4)        \n",
        "        \n",
        "        \n",
        "        # 256 = 57600  -- 1024      \n",
        "        # 64 = 2304\n",
        "        \n",
        "        self.fc1 = nn.Linear(256,1500)        \n",
        "        I.xavier_normal_(self.fc1.weight)\n",
        "        #self.dropout5 = nn.Dropout(p=0.5)\n",
        "        \n",
        "        self.fc2 = nn.Linear(1500,1000)  \n",
        "        I.xavier_normal_(self.fc2.weight)\n",
        "        #self.dropout6 = nn.Dropout(p=0.9)\n",
        "                \n",
        "        self.output = nn.Linear(1000,10)\n",
        "        I.xavier_normal_(self.output.weight)\n",
        "        \n",
        "    def forward(self, x):                \n",
        "        x = self.conv1(x)\n",
        "        x = F.relu(x)\n",
        "        x = self.pool1(x)\n",
        "        x = self.dropout1(x)\n",
        "        \n",
        "        x = self.conv2(x)\n",
        "        x = F.relu(x)\n",
        "        x = self.pool2(x)\n",
        "        #x = self.dropout2(x)\n",
        "        \n",
        "        x = self.conv3(x)\n",
        "        x = F.relu(x)\n",
        "        x = self.pool3(x)\n",
        "        #x = self.dropout3(x)\n",
        "        \n",
        "        x = self.conv4(x)\n",
        "        x = F.relu(x)\n",
        "        x = self.pool4(x)\n",
        "        #x = self.dropout4(x)\n",
        "                       \n",
        "        #(6400)\n",
        "        x = x.view(x.size(0), -1)\n",
        "        \n",
        "        x = self.fc1(x)\n",
        "        x = F.relu(x)\n",
        "        #x = self.dropout5(x)\n",
        "        \n",
        "        x = self.fc2(x)\n",
        "        x = F.relu(x)\n",
        "        #x = self.dropout6(x)\n",
        "        \n",
        "        x = self.output(x)                \n",
        "        return x\n"
      ],
      "execution_count": 0,
      "outputs": []
    },
    {
      "cell_type": "code",
      "metadata": {
        "id": "YIoZlQpDdhsE",
        "colab_type": "code",
        "colab": {}
      },
      "source": [
        "model = Net()"
      ],
      "execution_count": 0,
      "outputs": []
    },
    {
      "cell_type": "code",
      "metadata": {
        "id": "gokjIKb7nt02",
        "colab_type": "code",
        "colab": {}
      },
      "source": [
        "def test_accuracy(model,dataloader,criterion):\n",
        "    current_loss = 0\n",
        "    accuracy = 0\n",
        "    model.eval()\n",
        "    y_full = []\n",
        "    \n",
        "    for images, labels in dataloader:\n",
        "        images = images.view(images.size(0), 1, 28, 28).float()\n",
        "        labels = labels.long()\n",
        "        images, labels = images.to(device), labels.to(device)       \n",
        "        output = model.forward(images)\n",
        "        current_loss += criterion(output,labels).item()\n",
        "        \n",
        "        ps = torch.exp(output)\n",
        "                   \n",
        "        # Each probability consist in an array of probabilities, the predicted class is the\n",
        "        # highest probability of each one, so we need to get the max of the probabilitie for each \n",
        "        # prediction in order to find the predicted_class         \n",
        "        \n",
        "        predicted_classes = ps.max(dim=1)[1]\n",
        "        \n",
        "        # To find the correct classified items we compare labels with the predicted_classes\n",
        "        # and we will get back an array of booleans with 1 if the prediction was correct or\n",
        "        # 0 otherwise\n",
        "                \n",
        "        correct_predictions = (labels.data == predicted_classes)\n",
        "\n",
        "        accuracy += correct_predictions.type(torch.FloatTensor).mean()\n",
        "\n",
        "    return current_loss, accuracy"
      ],
      "execution_count": 0,
      "outputs": []
    },
    {
      "cell_type": "markdown",
      "metadata": {
        "id": "CAMEqeuSVnj3",
        "colab_type": "text"
      },
      "source": [
        "### Define the validation function"
      ]
    },
    {
      "cell_type": "code",
      "metadata": {
        "id": "dlT4fMbeVnj4",
        "colab_type": "code",
        "colab": {}
      },
      "source": [
        "def validation(model,testloader,criterion):\n",
        "    test_loss = 0\n",
        "    accuracy = 0\n",
        "    \n",
        "    for images, labels in testloader:\n",
        "        batch_size = images.shape[0]\n",
        "        images.resize_(batch_size, input_size)\n",
        "        \n",
        "        output = model.forward(images)\n",
        "        test_loss += criterion(output,labels).item()\n",
        "        \n",
        "        ps = torch.exp(output)\n",
        "                   \n",
        "        # Each probability consist in an array of 10 probabilities, the predicted class is the\n",
        "        # highest probability of each one, so we need to get the max of the probabilitie for each \n",
        "        # prediction in order to find the predicted_class         \n",
        "        \n",
        "        predicted_classes = ps.max(dim=1)[1]\n",
        "        \n",
        "        # To find the correct classified items we compare labels with the predicted_classes\n",
        "        # and we will get back an array of booleans with 1 if the prediction was correct or\n",
        "        # 0 otherwise\n",
        "        \n",
        "        #correct_predictions = (labels == predicted_classes)\n",
        "        correct_predictions = (labels.data == correct_predictions)\n",
        "\n",
        "        accuracy += correct_predictions.type(torch.FloatTensor).mean()\n",
        "        \n",
        "        return test_loss, accuracy\n",
        "        "
      ],
      "execution_count": 0,
      "outputs": []
    },
    {
      "cell_type": "code",
      "metadata": {
        "id": "OryTpQbcVnj6",
        "colab_type": "code",
        "colab": {}
      },
      "source": [
        "# Implement a function for the validation pass\n",
        "def validation2(model, testloader, criterion):\n",
        "    test_loss = 0\n",
        "    accuracy = 0\n",
        "    for images, labels in testloader:\n",
        "\n",
        "        images.resize_(images.shape[0], 784)\n",
        "\n",
        "        output = model.forward(images)\n",
        "        test_loss += criterion(output, labels).item()\n",
        "\n",
        "        ps = torch.exp(output)\n",
        "        equality = (labels.data == ps.max(dim=1)[1])\n",
        "        accuracy += equality.type(torch.FloatTensor).mean()\n",
        "    \n",
        "    return test_loss, accuracy"
      ],
      "execution_count": 0,
      "outputs": []
    },
    {
      "cell_type": "code",
      "metadata": {
        "id": "G5IBuFk3Vnj-",
        "colab_type": "code",
        "colab": {}
      },
      "source": [
        "current_model = Net()\n",
        "criterion = nn.CrossEntropyLoss()\n",
        "adam_optimizer = optim.Adam(current_model.parameters())\n",
        "\n",
        "optimizer_sgd = optim.SGD(current_model.parameters(), lr=0.001, momentum=0.9)\n",
        "exp_lr_scheduler = lr_scheduler.StepLR(adam_optimizer, step_size=7, gamma=0.1) "
      ],
      "execution_count": 0,
      "outputs": []
    },
    {
      "cell_type": "markdown",
      "metadata": {
        "id": "8hg6ZjdhVnkC",
        "colab_type": "text"
      },
      "source": [
        "* Make a forward pass through the network to get the logits \n",
        "* Use the logits to calculate the loss\n",
        "* Perform a backward pass through the network with `loss.backward()` to calculate the gradients\n",
        "* Take a step with the optimizer to update the weights\n",
        "\n",
        "### Time to train the Neural Network!"
      ]
    },
    {
      "cell_type": "code",
      "metadata": {
        "id": "bMW_6c68VnkD",
        "colab_type": "code",
        "colab": {}
      },
      "source": [
        "def train_network(model, opt, lrs):\n",
        "# Train Network\n",
        "    epochs = 3\n",
        "    print_every = 10\n",
        "    running_loss = 0\n",
        "    validation_data = test_loader\n",
        "    train = train_loader\n",
        "    len_val = len(validation_data)\n",
        "    len_train = len(train)\n",
        "    \n",
        "    model = model.to(device)    \n",
        "\n",
        "    for epoch in range(epochs):\n",
        "        step = 0\n",
        "        running_loss = 0    \n",
        "        lrs.step()\n",
        "        model.train()\n",
        "        \n",
        "        for inputs, y in train_loader:\n",
        "            step += 1\n",
        "            opt.zero_grad()\n",
        "            # Adapt inputs for this dataset\n",
        "            inputs = inputs.view(inputs.size(0), 1, 28, 28).float()\n",
        "            y = y.long()\n",
        "            inputs, y = inputs.to(device), y.to(device)\n",
        "            y_hat = model.forward(inputs)\n",
        "            loss = criterion(y_hat,y)\n",
        "            loss.backward()\n",
        "\n",
        "            opt.step()\n",
        "\n",
        "            running_loss += loss.item()\n",
        "\n",
        "            if step % print_every == 0:\n",
        "                model.eval()\n",
        "\n",
        "                with torch.no_grad():\n",
        "                    test_loss, accuracy = test_accuracy(model,validation_data,criterion)\n",
        "\n",
        "                print_validation(len_train, batch_size, epoch, epochs, step, running_loss, \n",
        "                                 print_every, test_loss, len_val, accuracy)\n",
        "\n",
        "                running_loss = 0\n",
        "                model.train()\n",
        "\n",
        "    train_network = False"
      ],
      "execution_count": 0,
      "outputs": []
    },
    {
      "cell_type": "code",
      "metadata": {
        "id": "f6dROysQlpsk",
        "colab_type": "code",
        "outputId": "9319f066-a04b-4bdf-f23b-4af560c7bfaa",
        "colab": {
          "base_uri": "https://localhost:8080/",
          "height": 1000
        }
      },
      "source": [
        "if(train_network):\n",
        "    train_network(current_model, adam_optimizer, exp_lr_scheduler)"
      ],
      "execution_count": 0,
      "outputs": [
        {
          "output_type": "stream",
          "text": [
            "Epoch: 1/3...  Step: (10/14)  Loss: 2.309 Val Loss: 2.298 Val Acc: 0.113 2020-02-14 21:41:16.540128\n",
            "Epoch: 1/3...  Step: (20/14)  Loss: 2.228 Val Loss: 2.282 Val Acc: 0.125 2020-02-14 21:41:23.276996\n",
            "Epoch: 1/3...  Step: (30/14)  Loss: 2.108 Val Loss: 1.979 Val Acc: 0.253 2020-02-14 21:41:30.085988\n",
            "Epoch: 1/3...  Step: (40/14)  Loss: 1.947 Val Loss: 2.003 Val Acc: 0.200 2020-02-14 21:41:36.775128\n",
            "Epoch: 1/3...  Step: (50/14)  Loss: 1.887 Val Loss: 1.883 Val Acc: 0.331 2020-02-14 21:41:43.480422\n",
            "Epoch: 1/3...  Step: (60/14)  Loss: 1.817 Val Loss: 1.703 Val Acc: 0.364 2020-02-14 21:41:50.222049\n",
            "Epoch: 1/3...  Step: (70/14)  Loss: 1.643 Val Loss: 1.557 Val Acc: 0.397 2020-02-14 21:41:56.998942\n",
            "Epoch: 1/3...  Step: (80/14)  Loss: 1.594 Val Loss: 1.473 Val Acc: 0.457 2020-02-14 21:42:03.918786\n",
            "Epoch: 1/3...  Step: (90/14)  Loss: 1.356 Val Loss: 1.063 Val Acc: 0.670 2020-02-14 21:42:10.539255\n",
            "Epoch: 1/3...  Step: (100/14)  Loss: 0.965 Val Loss: 0.790 Val Acc: 0.740 2020-02-14 21:42:17.241745\n",
            "Epoch: 1/3...  Step: (110/14)  Loss: 0.799 Val Loss: 0.605 Val Acc: 0.790 2020-02-14 21:42:24.000211\n",
            "Epoch: 1/3...  Step: (120/14)  Loss: 0.686 Val Loss: 0.556 Val Acc: 0.809 2020-02-14 21:42:30.762628\n",
            "Epoch: 1/3...  Step: (130/14)  Loss: 0.547 Val Loss: 0.520 Val Acc: 0.835 2020-02-14 21:42:37.410101\n",
            "Epoch: 1/3...  Step: (140/14)  Loss: 0.473 Val Loss: 0.354 Val Acc: 0.894 2020-02-14 21:42:44.121893\n",
            "Epoch: 1/3...  Step: (150/14)  Loss: 0.517 Val Loss: 0.377 Val Acc: 0.886 2020-02-14 21:42:50.880081\n",
            "Epoch: 1/3...  Step: (160/14)  Loss: 0.407 Val Loss: 0.358 Val Acc: 0.895 2020-02-14 21:42:57.582560\n",
            "Epoch: 1/3...  Step: (170/14)  Loss: 0.368 Val Loss: 0.363 Val Acc: 0.883 2020-02-14 21:43:04.324884\n",
            "Epoch: 1/3...  Step: (180/14)  Loss: 0.291 Val Loss: 0.243 Val Acc: 0.930 2020-02-14 21:43:10.853462\n",
            "Epoch: 1/3...  Step: (190/14)  Loss: 0.248 Val Loss: 0.245 Val Acc: 0.927 2020-02-14 21:43:17.561271\n",
            "Epoch: 1/3...  Step: (200/14)  Loss: 0.330 Val Loss: 0.209 Val Acc: 0.936 2020-02-14 21:43:24.405558\n",
            "Epoch: 1/3...  Step: (210/14)  Loss: 0.239 Val Loss: 0.233 Val Acc: 0.930 2020-02-14 21:43:31.151890\n",
            "Epoch: 1/3...  Step: (220/14)  Loss: 0.299 Val Loss: 0.197 Val Acc: 0.941 2020-02-14 21:43:37.882322\n",
            "Epoch: 1/3...  Step: (230/14)  Loss: 0.282 Val Loss: 0.232 Val Acc: 0.924 2020-02-14 21:43:44.643537\n",
            "Epoch: 1/3...  Step: (240/14)  Loss: 0.276 Val Loss: 0.227 Val Acc: 0.931 2020-02-14 21:43:51.384429\n",
            "Epoch: 1/3...  Step: (250/14)  Loss: 0.261 Val Loss: 0.232 Val Acc: 0.931 2020-02-14 21:43:58.179554\n",
            "Epoch: 1/3...  Step: (260/14)  Loss: 0.234 Val Loss: 0.222 Val Acc: 0.933 2020-02-14 21:44:04.862011\n",
            "Epoch: 1/3...  Step: (270/14)  Loss: 0.261 Val Loss: 0.194 Val Acc: 0.941 2020-02-14 21:44:11.352330\n",
            "Epoch: 1/3...  Step: (280/14)  Loss: 0.236 Val Loss: 0.175 Val Acc: 0.942 2020-02-14 21:44:18.044461\n",
            "Epoch: 1/3...  Step: (290/14)  Loss: 0.223 Val Loss: 0.184 Val Acc: 0.942 2020-02-14 21:44:24.746786\n",
            "Epoch: 1/3...  Step: (300/14)  Loss: 0.234 Val Loss: 0.153 Val Acc: 0.955 2020-02-14 21:44:31.479883\n",
            "Epoch: 1/3...  Step: (310/14)  Loss: 0.174 Val Loss: 0.140 Val Acc: 0.958 2020-02-14 21:44:38.120577\n",
            "Epoch: 1/3...  Step: (320/14)  Loss: 0.175 Val Loss: 0.155 Val Acc: 0.951 2020-02-14 21:44:44.794053\n",
            "Epoch: 1/3...  Step: (330/14)  Loss: 0.231 Val Loss: 0.145 Val Acc: 0.955 2020-02-14 21:44:51.530156\n",
            "Epoch: 1/3...  Step: (340/14)  Loss: 0.202 Val Loss: 0.156 Val Acc: 0.951 2020-02-14 21:44:58.295982\n",
            "Epoch: 1/3...  Step: (350/14)  Loss: 0.196 Val Loss: 0.161 Val Acc: 0.953 2020-02-14 21:45:05.014201\n",
            "Epoch: 1/3...  Step: (360/14)  Loss: 0.195 Val Loss: 0.146 Val Acc: 0.956 2020-02-14 21:45:11.548157\n",
            "Epoch: 1/3...  Step: (370/14)  Loss: 0.139 Val Loss: 0.128 Val Acc: 0.962 2020-02-14 21:45:18.304849\n",
            "Epoch: 1/3...  Step: (380/14)  Loss: 0.148 Val Loss: 0.149 Val Acc: 0.953 2020-02-14 21:45:25.227041\n",
            "Epoch: 1/3...  Step: (390/14)  Loss: 0.176 Val Loss: 0.116 Val Acc: 0.966 2020-02-14 21:45:31.994569\n",
            "Epoch: 1/3...  Step: (400/14)  Loss: 0.168 Val Loss: 0.121 Val Acc: 0.964 2020-02-14 21:45:38.578938\n",
            "Epoch: 1/3...  Step: (410/14)  Loss: 0.182 Val Loss: 0.125 Val Acc: 0.959 2020-02-14 21:45:45.316355\n",
            "Epoch: 1/3...  Step: (420/14)  Loss: 0.150 Val Loss: 0.115 Val Acc: 0.966 2020-02-14 21:45:51.997715\n",
            "Epoch: 1/3...  Step: (430/14)  Loss: 0.196 Val Loss: 0.112 Val Acc: 0.964 2020-02-14 21:45:58.700469\n",
            "Epoch: 1/3...  Step: (440/14)  Loss: 0.193 Val Loss: 0.112 Val Acc: 0.965 2020-02-14 21:46:05.348421\n",
            "Epoch: 1/3...  Step: (450/14)  Loss: 0.207 Val Loss: 0.093 Val Acc: 0.972 2020-02-14 21:46:11.809657\n",
            "Epoch: 1/3...  Step: (460/14)  Loss: 0.122 Val Loss: 0.104 Val Acc: 0.968 2020-02-14 21:46:18.433805\n",
            "Epoch: 1/3...  Step: (470/14)  Loss: 0.139 Val Loss: 0.097 Val Acc: 0.969 2020-02-14 21:46:25.185868\n",
            "Epoch: 1/3...  Step: (480/14)  Loss: 0.102 Val Loss: 0.109 Val Acc: 0.967 2020-02-14 21:46:31.906331\n",
            "Epoch: 1/3...  Step: (490/14)  Loss: 0.118 Val Loss: 0.133 Val Acc: 0.957 2020-02-14 21:46:38.442100\n",
            "Epoch: 1/3...  Step: (500/14)  Loss: 0.188 Val Loss: 0.109 Val Acc: 0.966 2020-02-14 21:46:45.114190\n",
            "Epoch: 1/3...  Step: (510/14)  Loss: 0.113 Val Loss: 0.110 Val Acc: 0.965 2020-02-14 21:46:51.772927\n",
            "Epoch: 1/3...  Step: (520/14)  Loss: 0.151 Val Loss: 0.111 Val Acc: 0.966 2020-02-14 21:46:58.487975\n",
            "Epoch: 1/3...  Step: (530/14)  Loss: 0.136 Val Loss: 0.100 Val Acc: 0.968 2020-02-14 21:47:05.163373\n",
            "Epoch: 1/3...  Step: (540/14)  Loss: 0.154 Val Loss: 0.106 Val Acc: 0.965 2020-02-14 21:47:11.752425\n",
            "Epoch: 1/3...  Step: (550/14)  Loss: 0.154 Val Loss: 0.083 Val Acc: 0.975 2020-02-14 21:47:18.410927\n",
            "Epoch: 1/3...  Step: (560/14)  Loss: 0.115 Val Loss: 0.104 Val Acc: 0.967 2020-02-14 21:47:25.123617\n",
            "Epoch: 1/3...  Step: (570/14)  Loss: 0.215 Val Loss: 0.103 Val Acc: 0.968 2020-02-14 21:47:31.848882\n",
            "Epoch: 1/3...  Step: (580/14)  Loss: 0.188 Val Loss: 0.109 Val Acc: 0.968 2020-02-14 21:47:38.437803\n",
            "Epoch: 1/3...  Step: (590/14)  Loss: 0.165 Val Loss: 0.103 Val Acc: 0.969 2020-02-14 21:47:45.117852\n",
            "Epoch: 1/3...  Step: (600/14)  Loss: 0.125 Val Loss: 0.083 Val Acc: 0.974 2020-02-14 21:47:51.823791\n",
            "Epoch: 1/3...  Step: (610/14)  Loss: 0.118 Val Loss: 0.091 Val Acc: 0.971 2020-02-14 21:47:58.514855\n",
            "Epoch: 1/3...  Step: (620/14)  Loss: 0.140 Val Loss: 0.098 Val Acc: 0.971 2020-02-14 21:48:05.186733\n",
            "Epoch: 1/3...  Step: (630/14)  Loss: 0.151 Val Loss: 0.102 Val Acc: 0.968 2020-02-14 21:48:11.648315\n",
            "Epoch: 1/3...  Step: (640/14)  Loss: 0.171 Val Loss: 0.120 Val Acc: 0.963 2020-02-14 21:48:18.353843\n",
            "Epoch: 1/3...  Step: (650/14)  Loss: 0.148 Val Loss: 0.112 Val Acc: 0.964 2020-02-14 21:48:25.126255\n",
            "Epoch: 1/3...  Step: (660/14)  Loss: 0.145 Val Loss: 0.089 Val Acc: 0.975 2020-02-14 21:48:32.032710\n",
            "Epoch: 1/3...  Step: (670/14)  Loss: 0.144 Val Loss: 0.102 Val Acc: 0.969 2020-02-14 21:48:38.808319\n",
            "Epoch: 1/3...  Step: (680/14)  Loss: 0.105 Val Loss: 0.083 Val Acc: 0.974 2020-02-14 21:48:45.683704\n",
            "Epoch: 1/3...  Step: (690/14)  Loss: 0.128 Val Loss: 0.082 Val Acc: 0.976 2020-02-14 21:48:52.629971\n",
            "Epoch: 1/3...  Step: (700/14)  Loss: 0.136 Val Loss: 0.104 Val Acc: 0.968 2020-02-14 21:48:59.518173\n",
            "Epoch: 1/3...  Step: (710/14)  Loss: 0.118 Val Loss: 0.080 Val Acc: 0.975 2020-02-14 21:49:06.424423\n",
            "Epoch: 1/3...  Step: (720/14)  Loss: 0.144 Val Loss: 0.073 Val Acc: 0.977 2020-02-14 21:49:13.168980\n",
            "Epoch: 1/3...  Step: (730/14)  Loss: 0.092 Val Loss: 0.081 Val Acc: 0.976 2020-02-14 21:49:20.077432\n",
            "Epoch: 1/3...  Step: (740/14)  Loss: 0.109 Val Loss: 0.074 Val Acc: 0.977 2020-02-14 21:49:27.082204\n",
            "Epoch: 1/3...  Step: (750/14)  Loss: 0.084 Val Loss: 0.085 Val Acc: 0.973 2020-02-14 21:49:34.133394\n",
            "Epoch: 1/3...  Step: (760/14)  Loss: 0.129 Val Loss: 0.088 Val Acc: 0.973 2020-02-14 21:49:40.980675\n",
            "Epoch: 1/3...  Step: (770/14)  Loss: 0.134 Val Loss: 0.072 Val Acc: 0.978 2020-02-14 21:49:47.987460\n",
            "Epoch: 1/3...  Step: (780/14)  Loss: 0.111 Val Loss: 0.112 Val Acc: 0.967 2020-02-14 21:49:54.975909\n",
            "Epoch: 1/3...  Step: (790/14)  Loss: 0.107 Val Loss: 0.078 Val Acc: 0.977 2020-02-14 21:50:01.931280\n",
            "Epoch: 1/3...  Step: (800/14)  Loss: 0.112 Val Loss: 0.093 Val Acc: 0.972 2020-02-14 21:50:08.814910\n",
            "Epoch: 1/3...  Step: (810/14)  Loss: 0.121 Val Loss: 0.082 Val Acc: 0.975 2020-02-14 21:50:15.733060\n",
            "Epoch: 1/3...  Step: (820/14)  Loss: 0.106 Val Loss: 0.100 Val Acc: 0.969 2020-02-14 21:50:22.677818\n",
            "Epoch: 1/3...  Step: (830/14)  Loss: 0.144 Val Loss: 0.095 Val Acc: 0.970 2020-02-14 21:50:29.736936\n",
            "Epoch: 1/3...  Step: (840/14)  Loss: 0.089 Val Loss: 0.067 Val Acc: 0.979 2020-02-14 21:50:36.876425\n",
            "Epoch: 1/3...  Step: (850/14)  Loss: 0.085 Val Loss: 0.071 Val Acc: 0.978 2020-02-14 21:50:43.742862\n",
            "Epoch: 1/3...  Step: (860/14)  Loss: 0.092 Val Loss: 0.064 Val Acc: 0.980 2020-02-14 21:50:50.682186\n",
            "Epoch: 1/3...  Step: (870/14)  Loss: 0.069 Val Loss: 0.076 Val Acc: 0.975 2020-02-14 21:50:57.640079\n",
            "Epoch: 1/3...  Step: (880/14)  Loss: 0.056 Val Loss: 0.058 Val Acc: 0.981 2020-02-14 21:51:04.582174\n",
            "Epoch: 1/3...  Step: (890/14)  Loss: 0.093 Val Loss: 0.085 Val Acc: 0.974 2020-02-14 21:51:11.303784\n",
            "Epoch: 1/3...  Step: (900/14)  Loss: 0.065 Val Loss: 0.077 Val Acc: 0.976 2020-02-14 21:51:18.207850\n",
            "Epoch: 1/3...  Step: (910/14)  Loss: 0.133 Val Loss: 0.090 Val Acc: 0.973 2020-02-14 21:51:25.181255\n",
            "Epoch: 1/3...  Step: (920/14)  Loss: 0.085 Val Loss: 0.084 Val Acc: 0.974 2020-02-14 21:51:32.175262\n",
            "Epoch: 1/3...  Step: (930/14)  Loss: 0.127 Val Loss: 0.119 Val Acc: 0.961 2020-02-14 21:51:39.019001\n",
            "Epoch: 2/3...  Step: (10/14)  Loss: 0.114 Val Loss: 0.111 Val Acc: 0.964 2020-02-14 21:51:47.011181\n",
            "Epoch: 2/3...  Step: (20/14)  Loss: 0.124 Val Loss: 0.064 Val Acc: 0.980 2020-02-14 21:51:53.967487\n",
            "Epoch: 2/3...  Step: (30/14)  Loss: 0.098 Val Loss: 0.086 Val Acc: 0.972 2020-02-14 21:52:00.869360\n",
            "Epoch: 2/3...  Step: (40/14)  Loss: 0.095 Val Loss: 0.065 Val Acc: 0.980 2020-02-14 21:52:07.734528\n",
            "Epoch: 2/3...  Step: (50/14)  Loss: 0.078 Val Loss: 0.060 Val Acc: 0.982 2020-02-14 21:52:14.520290\n",
            "Epoch: 2/3...  Step: (60/14)  Loss: 0.097 Val Loss: 0.055 Val Acc: 0.984 2020-02-14 21:52:21.623108\n",
            "Epoch: 2/3...  Step: (70/14)  Loss: 0.087 Val Loss: 0.071 Val Acc: 0.980 2020-02-14 21:52:28.565301\n",
            "Epoch: 2/3...  Step: (80/14)  Loss: 0.119 Val Loss: 0.079 Val Acc: 0.976 2020-02-14 21:52:35.475350\n",
            "Epoch: 2/3...  Step: (90/14)  Loss: 0.085 Val Loss: 0.061 Val Acc: 0.981 2020-02-14 21:52:42.303883\n",
            "Epoch: 2/3...  Step: (100/14)  Loss: 0.065 Val Loss: 0.063 Val Acc: 0.981 2020-02-14 21:52:49.187162\n",
            "Epoch: 2/3...  Step: (110/14)  Loss: 0.077 Val Loss: 0.068 Val Acc: 0.980 2020-02-14 21:52:56.079742\n",
            "Epoch: 2/3...  Step: (120/14)  Loss: 0.121 Val Loss: 0.075 Val Acc: 0.978 2020-02-14 21:53:02.983010\n",
            "Epoch: 2/3...  Step: (130/14)  Loss: 0.090 Val Loss: 0.063 Val Acc: 0.982 2020-02-14 21:53:09.724259\n",
            "Epoch: 2/3...  Step: (140/14)  Loss: 0.100 Val Loss: 0.075 Val Acc: 0.977 2020-02-14 21:53:16.571165\n",
            "Epoch: 2/3...  Step: (150/14)  Loss: 0.081 Val Loss: 0.072 Val Acc: 0.977 2020-02-14 21:53:23.472915\n",
            "Epoch: 2/3...  Step: (160/14)  Loss: 0.114 Val Loss: 0.061 Val Acc: 0.981 2020-02-14 21:53:30.381760\n",
            "Epoch: 2/3...  Step: (170/14)  Loss: 0.070 Val Loss: 0.058 Val Acc: 0.982 2020-02-14 21:53:37.221115\n",
            "Epoch: 2/3...  Step: (180/14)  Loss: 0.065 Val Loss: 0.055 Val Acc: 0.982 2020-02-14 21:53:44.127778\n",
            "Epoch: 2/3...  Step: (190/14)  Loss: 0.045 Val Loss: 0.053 Val Acc: 0.983 2020-02-14 21:53:51.039964\n",
            "Epoch: 2/3...  Step: (200/14)  Loss: 0.062 Val Loss: 0.062 Val Acc: 0.981 2020-02-14 21:53:57.935064\n",
            "Epoch: 2/3...  Step: (210/14)  Loss: 0.109 Val Loss: 0.066 Val Acc: 0.978 2020-02-14 21:54:04.846130\n",
            "Epoch: 2/3...  Step: (220/14)  Loss: 0.065 Val Loss: 0.067 Val Acc: 0.979 2020-02-14 21:54:11.550739\n",
            "Epoch: 2/3...  Step: (230/14)  Loss: 0.070 Val Loss: 0.064 Val Acc: 0.979 2020-02-14 21:54:18.432204\n",
            "Epoch: 2/3...  Step: (240/14)  Loss: 0.059 Val Loss: 0.072 Val Acc: 0.978 2020-02-14 21:54:25.386488\n",
            "Epoch: 2/3...  Step: (250/14)  Loss: 0.084 Val Loss: 0.067 Val Acc: 0.980 2020-02-14 21:54:32.375496\n",
            "Epoch: 2/3...  Step: (260/14)  Loss: 0.097 Val Loss: 0.086 Val Acc: 0.973 2020-02-14 21:54:39.114190\n",
            "Epoch: 2/3...  Step: (270/14)  Loss: 0.158 Val Loss: 0.132 Val Acc: 0.960 2020-02-14 21:54:46.023351\n",
            "Epoch: 2/3...  Step: (280/14)  Loss: 0.109 Val Loss: 0.079 Val Acc: 0.976 2020-02-14 21:54:52.915333\n",
            "Epoch: 2/3...  Step: (290/14)  Loss: 0.084 Val Loss: 0.061 Val Acc: 0.981 2020-02-14 21:54:59.792108\n",
            "Epoch: 2/3...  Step: (300/14)  Loss: 0.079 Val Loss: 0.057 Val Acc: 0.982 2020-02-14 21:55:06.688452\n",
            "Epoch: 2/3...  Step: (310/14)  Loss: 0.066 Val Loss: 0.061 Val Acc: 0.981 2020-02-14 21:55:13.360264\n",
            "Epoch: 2/3...  Step: (320/14)  Loss: 0.066 Val Loss: 0.059 Val Acc: 0.983 2020-02-14 21:55:20.220168\n",
            "Epoch: 2/3...  Step: (330/14)  Loss: 0.057 Val Loss: 0.055 Val Acc: 0.984 2020-02-14 21:55:27.155700\n",
            "Epoch: 2/3...  Step: (340/14)  Loss: 0.047 Val Loss: 0.071 Val Acc: 0.978 2020-02-14 21:55:34.127428\n",
            "Epoch: 2/3...  Step: (350/14)  Loss: 0.100 Val Loss: 0.074 Val Acc: 0.978 2020-02-14 21:55:40.954963\n",
            "Epoch: 2/3...  Step: (360/14)  Loss: 0.087 Val Loss: 0.062 Val Acc: 0.981 2020-02-14 21:55:48.068250\n",
            "Epoch: 2/3...  Step: (370/14)  Loss: 0.068 Val Loss: 0.069 Val Acc: 0.979 2020-02-14 21:55:55.013950\n",
            "Epoch: 2/3...  Step: (380/14)  Loss: 0.148 Val Loss: 0.066 Val Acc: 0.980 2020-02-14 21:56:01.863520\n",
            "Epoch: 2/3...  Step: (390/14)  Loss: 0.063 Val Loss: 0.074 Val Acc: 0.977 2020-02-14 21:56:08.663411\n",
            "Epoch: 2/3...  Step: (400/14)  Loss: 0.105 Val Loss: 0.061 Val Acc: 0.982 2020-02-14 21:56:15.442596\n",
            "Epoch: 2/3...  Step: (410/14)  Loss: 0.081 Val Loss: 0.060 Val Acc: 0.982 2020-02-14 21:56:22.277472\n",
            "Epoch: 2/3...  Step: (420/14)  Loss: 0.087 Val Loss: 0.064 Val Acc: 0.980 2020-02-14 21:56:29.187446\n",
            "Epoch: 2/3...  Step: (430/14)  Loss: 0.088 Val Loss: 0.099 Val Acc: 0.971 2020-02-14 21:56:36.001226\n",
            "Epoch: 2/3...  Step: (440/14)  Loss: 0.048 Val Loss: 0.074 Val Acc: 0.980 2020-02-14 21:56:42.816722\n",
            "Epoch: 2/3...  Step: (450/14)  Loss: 0.084 Val Loss: 0.076 Val Acc: 0.977 2020-02-14 21:56:49.688660\n",
            "Epoch: 2/3...  Step: (460/14)  Loss: 0.070 Val Loss: 0.044 Val Acc: 0.986 2020-02-14 21:56:56.553725\n",
            "Epoch: 2/3...  Step: (470/14)  Loss: 0.064 Val Loss: 0.070 Val Acc: 0.979 2020-02-14 21:57:03.435408\n",
            "Epoch: 2/3...  Step: (480/14)  Loss: 0.072 Val Loss: 0.067 Val Acc: 0.979 2020-02-14 21:57:10.152563\n",
            "Epoch: 2/3...  Step: (490/14)  Loss: 0.124 Val Loss: 0.066 Val Acc: 0.980 2020-02-14 21:57:17.017918\n",
            "Epoch: 2/3...  Step: (500/14)  Loss: 0.086 Val Loss: 0.054 Val Acc: 0.983 2020-02-14 21:57:23.907462\n",
            "Epoch: 2/3...  Step: (510/14)  Loss: 0.068 Val Loss: 0.064 Val Acc: 0.981 2020-02-14 21:57:31.031869\n",
            "Epoch: 2/3...  Step: (520/14)  Loss: 0.066 Val Loss: 0.083 Val Acc: 0.974 2020-02-14 21:57:37.850957\n",
            "Epoch: 2/3...  Step: (530/14)  Loss: 0.086 Val Loss: 0.050 Val Acc: 0.983 2020-02-14 21:57:44.710640\n",
            "Epoch: 2/3...  Step: (540/14)  Loss: 0.080 Val Loss: 0.054 Val Acc: 0.984 2020-02-14 21:57:51.570063\n",
            "Epoch: 2/3...  Step: (550/14)  Loss: 0.106 Val Loss: 0.083 Val Acc: 0.974 2020-02-14 21:57:58.475356\n",
            "Epoch: 2/3...  Step: (560/14)  Loss: 0.089 Val Loss: 0.051 Val Acc: 0.985 2020-02-14 21:58:05.302295\n",
            "Epoch: 2/3...  Step: (570/14)  Loss: 0.061 Val Loss: 0.054 Val Acc: 0.984 2020-02-14 21:58:11.954172\n",
            "Epoch: 2/3...  Step: (580/14)  Loss: 0.042 Val Loss: 0.044 Val Acc: 0.985 2020-02-14 21:58:18.790975\n",
            "Epoch: 2/3...  Step: (590/14)  Loss: 0.070 Val Loss: 0.053 Val Acc: 0.983 2020-02-14 21:58:25.682380\n",
            "Epoch: 2/3...  Step: (600/14)  Loss: 0.071 Val Loss: 0.065 Val Acc: 0.979 2020-02-14 21:58:32.627187\n",
            "Epoch: 2/3...  Step: (610/14)  Loss: 0.057 Val Loss: 0.041 Val Acc: 0.987 2020-02-14 21:58:39.335721\n",
            "Epoch: 2/3...  Step: (620/14)  Loss: 0.052 Val Loss: 0.056 Val Acc: 0.982 2020-02-14 21:58:46.197140\n",
            "Epoch: 2/3...  Step: (630/14)  Loss: 0.088 Val Loss: 0.053 Val Acc: 0.984 2020-02-14 21:58:53.058796\n",
            "Epoch: 2/3...  Step: (640/14)  Loss: 0.075 Val Loss: 0.050 Val Acc: 0.986 2020-02-14 21:58:59.970261\n",
            "Epoch: 2/3...  Step: (650/14)  Loss: 0.056 Val Loss: 0.051 Val Acc: 0.985 2020-02-14 21:59:06.801562\n",
            "Epoch: 2/3...  Step: (660/14)  Loss: 0.059 Val Loss: 0.061 Val Acc: 0.981 2020-02-14 21:59:13.482540\n",
            "Epoch: 2/3...  Step: (670/14)  Loss: 0.047 Val Loss: 0.065 Val Acc: 0.981 2020-02-14 21:59:20.364761\n",
            "Epoch: 2/3...  Step: (680/14)  Loss: 0.087 Val Loss: 0.063 Val Acc: 0.981 2020-02-14 21:59:27.278600\n"
          ],
          "name": "stdout"
        }
      ]
    },
    {
      "cell_type": "markdown",
      "metadata": {
        "id": "zMRdZQ4lVnkG",
        "colab_type": "text"
      },
      "source": [
        "### Test the Neural Network"
      ]
    },
    {
      "cell_type": "code",
      "metadata": {
        "id": "WPIXNfNjVnkI",
        "colab_type": "code",
        "outputId": "89e5c133-c265-411c-ae3b-bea4fa5cae10",
        "colab": {
          "base_uri": "https://localhost:8080/",
          "height": 51
        }
      },
      "source": [
        "images, labels = next(iter(testloader))\n",
        "\n",
        "img = images[0].view(1, 784)\n",
        "\n",
        "# Turn off gradients to speed up this part\n",
        "with torch.no_grad():\n",
        "    logits = model.forward(img)\n",
        "\n",
        "# Output of the network are logits, need to take softmax for probabilities\n",
        "ps = F.softmax(logits, dim=1)\n",
        "print(ps, labels[0])\n"
      ],
      "execution_count": 0,
      "outputs": [
        {
          "output_type": "stream",
          "text": [
            "tensor([[9.9772e-01, 3.1328e-10, 9.7800e-05, 5.0191e-05, 4.4169e-08, 2.0819e-03,\n",
            "         2.6801e-06, 1.8022e-06, 4.4737e-05, 1.4518e-06]]) tensor(0)\n"
          ],
          "name": "stdout"
        }
      ]
    },
    {
      "cell_type": "code",
      "metadata": {
        "id": "W5lPD-aGVnkL",
        "colab_type": "code",
        "outputId": "32739896-90ba-4163-b74d-4655fab1c254",
        "colab": {
          "base_uri": "https://localhost:8080/",
          "height": 234
        }
      },
      "source": [
        "fig, (ax1, ax2) = plt.subplots(figsize=(6,6), ncols=2)\n",
        "ps = ps.data.numpy().squeeze()\n",
        "\n",
        "ax1.imshow(images[0].resize_(1, 28, 28).numpy().squeeze())\n",
        "ax1.axis('off')\n",
        "\n",
        "ax2.barh(np.arange(10), ps )\n",
        "ax2.set_aspect(0.1)\n",
        "ax2.set_yticks(np.arange(10))\n",
        "plt.xticks(rotation='45')\n",
        "\n",
        "plt.show();\n",
        "print('Label: ', labels[0])"
      ],
      "execution_count": 0,
      "outputs": [
        {
          "output_type": "display_data",
          "data": {
            "image/png": "[encoded data removed]",
            "text/plain": [
              "<Figure size 432x432 with 2 Axes>"
            ]
          },
          "metadata": {
            "tags": [],
            "image/png": {
              "width": 353,
              "height": 200
            }
          }
        },
        {
          "output_type": "stream",
          "text": [
            "Label:  tensor(0)\n"
          ],
          "name": "stdout"
        }
      ]
    },
    {
      "cell_type": "code",
      "metadata": {
        "id": "miI-M_n2XYjn",
        "colab_type": "code",
        "outputId": "89d64192-4c05-402e-cb67-652e26b75921",
        "colab": {
          "base_uri": "https://localhost:8080/",
          "height": 272
        }
      },
      "source": [
        "images, labels = next(iter(testloader))\n",
        "\n",
        "img = images[0].view(1, 784)\n",
        "\n",
        "# Turn off gradients to speed up this part\n",
        "with torch.no_grad():\n",
        "    logits = model.forward(img)\n",
        "\n",
        "# Output of the network are logits, need to take softmax for probabilities\n",
        "ps = F.softmax(logits, dim=1)\n",
        "print(ps, labels[0])\n",
        "\n",
        "fig, (ax1, ax2) = plt.subplots(figsize=(6,6), ncols=2)\n",
        "ps = ps.data.numpy().squeeze()\n",
        "\n",
        "ax1.imshow(images[0].resize_(1, 28, 28).numpy().squeeze())\n",
        "ax1.axis('off')\n",
        "\n",
        "ax2.barh(np.arange(10), ps )\n",
        "ax2.set_aspect(0.1)\n",
        "ax2.set_yticks(np.arange(10))\n",
        "plt.xticks(rotation='45')\n",
        "\n",
        "plt.show();\n",
        "print('Label: ', labels[0])"
      ],
      "execution_count": 0,
      "outputs": [
        {
          "output_type": "stream",
          "text": [
            "tensor([[6.1152e-05, 1.2570e-06, 1.8525e-04, 7.1210e-05, 9.4518e-01, 4.6784e-03,\n",
            "         2.6945e-03, 3.0033e-04, 1.1481e-03, 4.5684e-02]]) tensor(4)\n"
          ],
          "name": "stdout"
        },
        {
          "output_type": "display_data",
          "data": {
            "image/png": "[encoded data removed]",
            "text/plain": [
              "<Figure size 432x432 with 2 Axes>"
            ]
          },
          "metadata": {
            "tags": [],
            "image/png": {
              "width": 349,
              "height": 204
            }
          }
        },
        {
          "output_type": "stream",
          "text": [
            "Label:  tensor(4)\n"
          ],
          "name": "stdout"
        }
      ]
    },
    {
      "cell_type": "code",
      "metadata": {
        "id": "3ZEex2laYZK4",
        "colab_type": "code",
        "colab": {}
      },
      "source": [
        ""
      ],
      "execution_count": 0,
      "outputs": []
    }
  ]
}