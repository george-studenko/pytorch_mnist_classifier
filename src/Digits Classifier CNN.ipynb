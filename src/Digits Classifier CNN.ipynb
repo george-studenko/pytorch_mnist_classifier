{
  "nbformat": 4,
  "nbformat_minor": 0,
  "metadata": {
    "kernelspec": {
      "display_name": "Python 3",
      "language": "python",
      "name": "python3"
    },
    "language_info": {
      "codemirror_mode": {
        "name": "ipython",
        "version": 3
      },
      "file_extension": ".py",
      "mimetype": "text/x-python",
      "name": "python",
      "nbconvert_exporter": "python",
      "pygments_lexer": "ipython3",
      "version": "3.6.2"
    },
    "colab": {
      "name": "Digist Classifier.ipynb",
      "provenance": []
    }
  },
  "cells": [
    {
      "cell_type": "markdown",
      "metadata": {
        "id": "atUQxGxOVnjM",
        "colab_type": "text"
      },
      "source": [
        "# PyTorch Neural Network Digits Classifier\n",
        "**Dataset:** MNIST"
      ]
    },
    {
      "cell_type": "code",
      "metadata": {
        "id": "cTiBfkGpVnjN",
        "colab_type": "code",
        "colab": {}
      },
      "source": [
        "%matplotlib inline\n",
        "%config InlineBackend.figure_format = 'retina'\n",
        "\n",
        "import numpy as np\n",
        "import torch\n",
        "\n",
        "import matplotlib.pyplot as plt\n",
        "from torchvision import datasets, transforms\n",
        "\n",
        "from torch import nn\n",
        "from torch import optim\n",
        "import torch.nn.functional as F\n",
        "\n",
        "from torch.optim import lr_scheduler\n",
        "\n",
        "\n",
        "# to initialize the weights of the Net\n",
        "import torch.nn.init as I\n",
        "import datetime\n"
      ],
      "execution_count": 0,
      "outputs": []
    },
    {
      "cell_type": "code",
      "metadata": {
        "id": "Y5l7mCIZmqyH",
        "colab_type": "code",
        "colab": {
          "base_uri": "https://localhost:8080/",
          "height": 34
        },
        "outputId": "372fbe3e-1d52-4299-d1c4-c655a0923b01"
      },
      "source": [
        "create_data = False\n",
        "train_network = True\n",
        "save_feather_files = False\n",
        "\n",
        "batch_size = 64\n",
        "device = 'cpu'\n",
        "\n",
        "if torch.cuda.is_available():\n",
        "    device = 'cuda'\n",
        "device"
      ],
      "execution_count": 60,
      "outputs": [
        {
          "output_type": "execute_result",
          "data": {
            "text/plain": [
              "'cpu'"
            ]
          },
          "metadata": {
            "tags": []
          },
          "execution_count": 60
        }
      ]
    },
    {
      "cell_type": "code",
      "metadata": {
        "id": "-izfb7dyoJAE",
        "colab_type": "code",
        "colab": {}
      },
      "source": [
        "def print_validation(train_dataset_len, batch_size, epoch, epochs, step, running_loss, print_every, test_loss, len_val, accuracy):\n",
        "    now = datetime.datetime.now()\n",
        "    print(\"Epoch: {}/{}... \".format(epoch + 1, epochs),\n",
        "          \"Step: ({}/{}) \".format(step, int(train_dataset_len/batch_size)),\n",
        "          \"Loss: {:.3f}\".format(running_loss/print_every),\n",
        "          \"Val Loss: {:.3f}\".format(test_loss/len_val),\n",
        "          \"Val Acc: {:.3f}\".format(accuracy/len_val),\n",
        "          now)\n",
        "\n",
        "\n",
        "def print_get_prediction(train_dataset_len, batch_size, step, old_now):\n",
        "    now = datetime.datetime.now()\n",
        "    print(\"Step: ({}/{}) \".format(step, int(train_dataset_len/batch_size)),\n",
        "          now, \"--> (remaining time: {0})\".format((now - old_now) * (int(train_dataset_len/batch_size) - step))\n",
        "          )\n",
        "    return now\n"
      ],
      "execution_count": 0,
      "outputs": []
    },
    {
      "cell_type": "markdown",
      "metadata": {
        "id": "mFGLkIQXVnjS",
        "colab_type": "text"
      },
      "source": [
        "**Download _MNIST_ dataset**  \n",
        "I will be using batches of 64"
      ]
    },
    {
      "cell_type": "code",
      "metadata": {
        "id": "nIekNRpxVnjU",
        "colab_type": "code",
        "colab": {}
      },
      "source": [
        "# Define a transform to normalize the data\n",
        " transformations = transforms.Compose([\n",
        "    transforms.Resize(28),\n",
        "    transforms.Grayscale(num_output_channels=1),\n",
        "    transforms.ToTensor()\n",
        "])\n",
        "                             \n",
        "# Download and load the training data\n",
        "trainset = datasets.MNIST('MNIST_data/', download=True, train=True, transform=transform)\n",
        "train_loader = torch.utils.data.DataLoader(trainset, batch_size= batch_size, shuffle=True)\n",
        "\n",
        "# Download and load the test data\n",
        "testset = datasets.MNIST('MNIST_data/', download=True, train=False, transform=transform)\n",
        "test_loader = torch.utils.data.DataLoader(testset, batch_size= batch_size, shuffle=True)"
      ],
      "execution_count": 0,
      "outputs": []
    },
    {
      "cell_type": "code",
      "metadata": {
        "id": "bCy5igxvVnjX",
        "colab_type": "code",
        "colab": {}
      },
      "source": [
        "dataiter = iter(train_loader)\n",
        "images, labels = dataiter.next()"
      ],
      "execution_count": 0,
      "outputs": []
    },
    {
      "cell_type": "code",
      "metadata": {
        "id": "vGmkcwklVnjb",
        "colab_type": "code",
        "colab": {}
      },
      "source": [
        "def print_sample_digit(index):\n",
        "    print(str.format('Label: {}',labels[index]))\n",
        "    plt.figure(num=None, figsize=(1, 1), dpi=56, facecolor='w', edgecolor='k')\n",
        "    plt.imshow(images[index].numpy().squeeze(), cmap='Greys_r');"
      ],
      "execution_count": 0,
      "outputs": []
    },
    {
      "cell_type": "code",
      "metadata": {
        "id": "5JLjdSKRVnje",
        "colab_type": "code",
        "colab": {
          "base_uri": "https://localhost:8080/",
          "height": 102
        },
        "outputId": "015b1edb-912f-4a95-c226-d483b0ece91c"
      },
      "source": [
        "print_sample_digit(0)"
      ],
      "execution_count": 69,
      "outputs": [
        {
          "output_type": "stream",
          "text": [
            "Label: 9\n"
          ],
          "name": "stdout"
        },
        {
          "output_type": "display_data",
          "data": {
            "image/png": "[encoded data removed]",
            "text/plain": [
              "<Figure size 56x56 with 1 Axes>"
            ]
          },
          "metadata": {
            "tags": [],
            "image/png": {
              "width": 69,
              "height": 68
            }
          }
        }
      ]
    },
    {
      "cell_type": "code",
      "metadata": {
        "id": "47MIkGOoVnjl",
        "colab_type": "code",
        "colab": {
          "base_uri": "https://localhost:8080/",
          "height": 102
        },
        "outputId": "d943b7f7-aadd-42cd-e741-be0711c7486f"
      },
      "source": [
        "print_sample_digit(1)"
      ],
      "execution_count": 70,
      "outputs": [
        {
          "output_type": "stream",
          "text": [
            "Label: 3\n"
          ],
          "name": "stdout"
        },
        {
          "output_type": "display_data",
          "data": {
            "image/png": "[encoded data removed]",
            "text/plain": [
              "<Figure size 56x56 with 1 Axes>"
            ]
          },
          "metadata": {
            "tags": [],
            "image/png": {
              "width": 69,
              "height": 68
            }
          }
        }
      ]
    },
    {
      "cell_type": "markdown",
      "metadata": {
        "id": "QRL63V1nVnjt",
        "colab_type": "text"
      },
      "source": [
        "### Define the model"
      ]
    },
    {
      "cell_type": "code",
      "metadata": {
        "id": "KKspC2iFdWXu",
        "colab_type": "code",
        "colab": {}
      },
      "source": [
        "class Net(nn.Module):\n",
        "    def __init__(self):\n",
        "        super(Net, self).__init__()        \n",
        "        #(28x28x1)\n",
        "        self.conv1 = nn.Conv2d(1, 32, 4)\n",
        "        #(25x25x32)\n",
        "        self.pool1 = nn.MaxPool2d(2)\n",
        "        #(12x12x32)\n",
        "        self.dropout1 = nn.Dropout(p=0.4)\n",
        "                \n",
        "        #(12x12x32)\n",
        "        self.conv2 = nn.Conv2d(32, 64, 3)\n",
        "        #(10x10x64)\n",
        "        self.pool2 = nn.MaxPool2d(2)\n",
        "        #(5x5x64)\n",
        "        #self.dropout2 = nn.Dropout(p=0.2)\n",
        "                \n",
        "        #(5x5x64)\n",
        "        self.conv3 = nn.Conv2d(64, 128, 2)\n",
        "        #(4x4x128)\n",
        "        self.pool3 = nn.MaxPool2d(2)\n",
        "        #(2x2x128)\n",
        "        #self.dropout3 = nn.Dropout(p=0.3)\n",
        "                \n",
        "        #(2x2x128)\n",
        "        self.conv4 = nn.Conv2d(128, 256, 1)\n",
        "        #(2x2x256)\n",
        "        self.pool4 = nn.MaxPool2d(2)\n",
        "        #(1x1x256)\n",
        "        #self.dropout4 = nn.Dropout(p=0.4)        \n",
        "        \n",
        "        \n",
        "        # 256 = 57600  -- 1024      \n",
        "        # 64 = 2304\n",
        "        \n",
        "        self.fc1 = nn.Linear(256,1500)        \n",
        "        I.xavier_normal_(self.fc1.weight)\n",
        "        #self.dropout5 = nn.Dropout(p=0.5)\n",
        "        \n",
        "        self.fc2 = nn.Linear(1500,1000)  \n",
        "        I.xavier_normal_(self.fc2.weight)\n",
        "        #self.dropout6 = nn.Dropout(p=0.9)\n",
        "                \n",
        "        self.output = nn.Linear(1000,10)\n",
        "        I.xavier_normal_(self.output.weight)\n",
        "        \n",
        "    def forward(self, x):                \n",
        "        x = self.conv1(x)\n",
        "        x = F.relu(x)\n",
        "        x = self.pool1(x)\n",
        "        x = self.dropout1(x)\n",
        "        \n",
        "        x = self.conv2(x)\n",
        "        x = F.relu(x)\n",
        "        x = self.pool2(x)\n",
        "        #x = self.dropout2(x)\n",
        "        \n",
        "        x = self.conv3(x)\n",
        "        x = F.relu(x)\n",
        "        x = self.pool3(x)\n",
        "        #x = self.dropout3(x)\n",
        "        \n",
        "        x = self.conv4(x)\n",
        "        x = F.relu(x)\n",
        "        x = self.pool4(x)\n",
        "        #x = self.dropout4(x)\n",
        "                       \n",
        "        #(6400)\n",
        "        x = x.view(x.size(0), -1)\n",
        "        \n",
        "        x = self.fc1(x)\n",
        "        x = F.relu(x)\n",
        "        #x = self.dropout5(x)\n",
        "        \n",
        "        x = self.fc2(x)\n",
        "        x = F.relu(x)\n",
        "        #x = self.dropout6(x)\n",
        "        \n",
        "        x = self.output(x)                \n",
        "        return x\n"
      ],
      "execution_count": 0,
      "outputs": []
    },
    {
      "cell_type": "code",
      "metadata": {
        "id": "YIoZlQpDdhsE",
        "colab_type": "code",
        "colab": {}
      },
      "source": [
        "model = Net()"
      ],
      "execution_count": 0,
      "outputs": []
    },
    {
      "cell_type": "code",
      "metadata": {
        "id": "gokjIKb7nt02",
        "colab_type": "code",
        "colab": {}
      },
      "source": [
        "def test_accuracy(model,dataloader,criterion):\n",
        "    current_loss = 0\n",
        "    accuracy = 0\n",
        "    model.eval()\n",
        "    y_full = []\n",
        "    \n",
        "    for images, labels in dataloader:\n",
        "        images = images.view(images.size(0), 1, 28, 28).float()\n",
        "        labels = labels.long()\n",
        "        images, labels = images.to(device), labels.to(device)       \n",
        "        output = model.forward(images)\n",
        "        current_loss += criterion(output,labels).item()\n",
        "        \n",
        "        ps = torch.exp(output)\n",
        "                   \n",
        "        # Each probability consist in an array of probabilities, the predicted class is the\n",
        "        # highest probability of each one, so we need to get the max of the probabilitie for each \n",
        "        # prediction in order to find the predicted_class         \n",
        "        \n",
        "        predicted_classes = ps.max(dim=1)[1]\n",
        "        \n",
        "        # To find the correct classified items we compare labels with the predicted_classes\n",
        "        # and we will get back an array of booleans with 1 if the prediction was correct or\n",
        "        # 0 otherwise\n",
        "                \n",
        "        correct_predictions = (labels.data == predicted_classes)\n",
        "\n",
        "        accuracy += correct_predictions.type(torch.FloatTensor).mean()\n",
        "\n",
        "    return current_loss, accuracy"
      ],
      "execution_count": 0,
      "outputs": []
    },
    {
      "cell_type": "markdown",
      "metadata": {
        "id": "CAMEqeuSVnj3",
        "colab_type": "text"
      },
      "source": [
        "### Define the validation function"
      ]
    },
    {
      "cell_type": "code",
      "metadata": {
        "id": "dlT4fMbeVnj4",
        "colab_type": "code",
        "colab": {}
      },
      "source": [
        "def validation(model,testloader,criterion):\n",
        "    test_loss = 0\n",
        "    accuracy = 0\n",
        "    \n",
        "    for images, labels in testloader:\n",
        "        batch_size = images.shape[0]\n",
        "        images.resize_(batch_size, input_size)\n",
        "        \n",
        "        output = model.forward(images)\n",
        "        test_loss += criterion(output,labels).item()\n",
        "        \n",
        "        ps = torch.exp(output)\n",
        "                   \n",
        "        # Each probability consist in an array of 10 probabilities, the predicted class is the\n",
        "        # highest probability of each one, so we need to get the max of the probabilitie for each \n",
        "        # prediction in order to find the predicted_class         \n",
        "        \n",
        "        predicted_classes = ps.max(dim=1)[1]\n",
        "        \n",
        "        # To find the correct classified items we compare labels with the predicted_classes\n",
        "        # and we will get back an array of booleans with 1 if the prediction was correct or\n",
        "        # 0 otherwise\n",
        "        \n",
        "        #correct_predictions = (labels == predicted_classes)\n",
        "        correct_predictions = (labels.data == correct_predictions)\n",
        "\n",
        "        accuracy += correct_predictions.type(torch.FloatTensor).mean()\n",
        "        \n",
        "        return test_loss, accuracy\n",
        "        "
      ],
      "execution_count": 0,
      "outputs": []
    },
    {
      "cell_type": "code",
      "metadata": {
        "id": "OryTpQbcVnj6",
        "colab_type": "code",
        "colab": {}
      },
      "source": [
        "# Implement a function for the validation pass\n",
        "def validation2(model, testloader, criterion):\n",
        "    test_loss = 0\n",
        "    accuracy = 0\n",
        "    for images, labels in testloader:\n",
        "\n",
        "        images.resize_(images.shape[0], 784)\n",
        "\n",
        "        output = model.forward(images)\n",
        "        test_loss += criterion(output, labels).item()\n",
        "\n",
        "        ps = torch.exp(output)\n",
        "        equality = (labels.data == ps.max(dim=1)[1])\n",
        "        accuracy += equality.type(torch.FloatTensor).mean()\n",
        "    \n",
        "    return test_loss, accuracy"
      ],
      "execution_count": 0,
      "outputs": []
    },
    {
      "cell_type": "code",
      "metadata": {
        "id": "G5IBuFk3Vnj-",
        "colab_type": "code",
        "colab": {}
      },
      "source": [
        "current_model = Net()\n",
        "criterion = nn.CrossEntropyLoss()\n",
        "adam_optimizer = optim.Adam(current_model.parameters())\n",
        "\n",
        "optimizer_sgd = optim.SGD(current_model.parameters(), lr=0.001, momentum=0.9)\n",
        "exp_lr_scheduler = lr_scheduler.StepLR(adam_optimizer, step_size=7, gamma=0.1) "
      ],
      "execution_count": 0,
      "outputs": []
    },
    {
      "cell_type": "markdown",
      "metadata": {
        "id": "8hg6ZjdhVnkC",
        "colab_type": "text"
      },
      "source": [
        "* Make a forward pass through the network to get the logits \n",
        "* Use the logits to calculate the loss\n",
        "* Perform a backward pass through the network with `loss.backward()` to calculate the gradients\n",
        "* Take a step with the optimizer to update the weights\n",
        "\n",
        "### Time to train the Neural Network!"
      ]
    },
    {
      "cell_type": "code",
      "metadata": {
        "id": "bMW_6c68VnkD",
        "colab_type": "code",
        "colab": {}
      },
      "source": [
        "def train_network(model, opt, lrs):\n",
        "# Train Network\n",
        "    epochs = 3\n",
        "    print_every = 10\n",
        "    running_loss = 0\n",
        "    validation_data = test_loader\n",
        "    len_val = len(validation_data)\n",
        "    len_train = len(train)\n",
        "    \n",
        "    model = model.to(device)    \n",
        "\n",
        "    for epoch in range(epochs):\n",
        "        step = 0\n",
        "        running_loss = 0    \n",
        "        lrs.step()\n",
        "        model.train()\n",
        "        \n",
        "        for inputs, y in trainloader:\n",
        "            step += 1\n",
        "            opt.zero_grad()\n",
        "            # Adapt inputs for this dataset\n",
        "            inputs = inputs.view(inputs.size(0), 1, 28, 28).float()\n",
        "            y = y.long()\n",
        "            inputs, y = inputs.to(device), y.to(device)\n",
        "            y_hat = model.forward(inputs)\n",
        "            loss = criterion(y_hat,y)\n",
        "            loss.backward()\n",
        "\n",
        "            opt.step()\n",
        "\n",
        "            running_loss += loss.item()\n",
        "\n",
        "            if step % print_every == 0:\n",
        "                model.eval()\n",
        "\n",
        "                with torch.no_grad():\n",
        "                    test_loss, accuracy = test_accuracy(model,validation_data,criterion)\n",
        "\n",
        "                print_validation(len_train, batch_size, epoch, epochs, step, running_loss, \n",
        "                                 print_every, test_loss, len_val, accuracy)\n",
        "\n",
        "                running_loss = 0\n",
        "                model.train()\n",
        "\n",
        "    train_network = False"
      ],
      "execution_count": 0,
      "outputs": []
    },
    {
      "cell_type": "code",
      "metadata": {
        "id": "f6dROysQlpsk",
        "colab_type": "code",
        "colab": {
          "base_uri": "https://localhost:8080/",
          "height": 300
        },
        "outputId": "55586bab-2ec0-4688-ab01-c2ade5336b1b"
      },
      "source": [
        "if(train_network):\n",
        "    train_network(current_model, adam_optimizer, exp_lr_scheduler)"
      ],
      "execution_count": 59,
      "outputs": [
        {
          "output_type": "error",
          "ename": "NameError",
          "evalue": "ignored",
          "traceback": [
            "\u001b[0;31m---------------------------------------------------------------------------\u001b[0m",
            "\u001b[0;31mNameError\u001b[0m                                 Traceback (most recent call last)",
            "\u001b[0;32m<ipython-input-59-f608849bd160>\u001b[0m in \u001b[0;36m<module>\u001b[0;34m()\u001b[0m\n\u001b[1;32m      1\u001b[0m \u001b[0;32mif\u001b[0m\u001b[0;34m(\u001b[0m\u001b[0mtrain_network\u001b[0m\u001b[0;34m)\u001b[0m\u001b[0;34m:\u001b[0m\u001b[0;34m\u001b[0m\u001b[0;34m\u001b[0m\u001b[0m\n\u001b[0;32m----> 2\u001b[0;31m     \u001b[0mtrain_network\u001b[0m\u001b[0;34m(\u001b[0m\u001b[0mcurrent_model\u001b[0m\u001b[0;34m,\u001b[0m \u001b[0madam_optimizer\u001b[0m\u001b[0;34m,\u001b[0m \u001b[0mexp_lr_scheduler\u001b[0m\u001b[0;34m)\u001b[0m\u001b[0;34m\u001b[0m\u001b[0;34m\u001b[0m\u001b[0m\n\u001b[0m",
            "\u001b[0;32m<ipython-input-58-02043d1a0a6b>\u001b[0m in \u001b[0;36mtrain_network\u001b[0;34m(model, opt, lrs)\u001b[0m\n\u001b[1;32m      4\u001b[0m     \u001b[0mprint_every\u001b[0m \u001b[0;34m=\u001b[0m \u001b[0;36m10\u001b[0m\u001b[0;34m\u001b[0m\u001b[0;34m\u001b[0m\u001b[0m\n\u001b[1;32m      5\u001b[0m     \u001b[0mrunning_loss\u001b[0m \u001b[0;34m=\u001b[0m \u001b[0;36m0\u001b[0m\u001b[0;34m\u001b[0m\u001b[0;34m\u001b[0m\u001b[0m\n\u001b[0;32m----> 6\u001b[0;31m     \u001b[0mvalidation_data\u001b[0m \u001b[0;34m=\u001b[0m \u001b[0mtest_loader\u001b[0m\u001b[0;34m\u001b[0m\u001b[0;34m\u001b[0m\u001b[0m\n\u001b[0m\u001b[1;32m      7\u001b[0m     \u001b[0mlen_val\u001b[0m \u001b[0;34m=\u001b[0m \u001b[0mlen\u001b[0m\u001b[0;34m(\u001b[0m\u001b[0mvalidation_data\u001b[0m\u001b[0;34m)\u001b[0m\u001b[0;34m\u001b[0m\u001b[0;34m\u001b[0m\u001b[0m\n\u001b[1;32m      8\u001b[0m     \u001b[0mlen_train\u001b[0m \u001b[0;34m=\u001b[0m \u001b[0mlen\u001b[0m\u001b[0;34m(\u001b[0m\u001b[0mtrain\u001b[0m\u001b[0;34m)\u001b[0m\u001b[0;34m\u001b[0m\u001b[0;34m\u001b[0m\u001b[0m\n",
            "\u001b[0;31mNameError\u001b[0m: name 'test_loader' is not defined"
          ]
        }
      ]
    },
    {
      "cell_type": "markdown",
      "metadata": {
        "id": "zMRdZQ4lVnkG",
        "colab_type": "text"
      },
      "source": [
        "### Test the Neural Network"
      ]
    },
    {
      "cell_type": "code",
      "metadata": {
        "id": "WPIXNfNjVnkI",
        "colab_type": "code",
        "colab": {
          "base_uri": "https://localhost:8080/",
          "height": 51
        },
        "outputId": "89e5c133-c265-411c-ae3b-bea4fa5cae10"
      },
      "source": [
        "images, labels = next(iter(testloader))\n",
        "\n",
        "img = images[0].view(1, 784)\n",
        "\n",
        "# Turn off gradients to speed up this part\n",
        "with torch.no_grad():\n",
        "    logits = model.forward(img)\n",
        "\n",
        "# Output of the network are logits, need to take softmax for probabilities\n",
        "ps = F.softmax(logits, dim=1)\n",
        "print(ps, labels[0])\n"
      ],
      "execution_count": 25,
      "outputs": [
        {
          "output_type": "stream",
          "text": [
            "tensor([[9.9772e-01, 3.1328e-10, 9.7800e-05, 5.0191e-05, 4.4169e-08, 2.0819e-03,\n",
            "         2.6801e-06, 1.8022e-06, 4.4737e-05, 1.4518e-06]]) tensor(0)\n"
          ],
          "name": "stdout"
        }
      ]
    },
    {
      "cell_type": "code",
      "metadata": {
        "id": "W5lPD-aGVnkL",
        "colab_type": "code",
        "colab": {
          "base_uri": "https://localhost:8080/",
          "height": 234
        },
        "outputId": "32739896-90ba-4163-b74d-4655fab1c254"
      },
      "source": [
        "fig, (ax1, ax2) = plt.subplots(figsize=(6,6), ncols=2)\n",
        "ps = ps.data.numpy().squeeze()\n",
        "\n",
        "ax1.imshow(images[0].resize_(1, 28, 28).numpy().squeeze())\n",
        "ax1.axis('off')\n",
        "\n",
        "ax2.barh(np.arange(10), ps )\n",
        "ax2.set_aspect(0.1)\n",
        "ax2.set_yticks(np.arange(10))\n",
        "plt.xticks(rotation='45')\n",
        "\n",
        "plt.show();\n",
        "print('Label: ', labels[0])"
      ],
      "execution_count": 26,
      "outputs": [
        {
          "output_type": "display_data",
          "data": {
            "image/png": "[encoded data removed]",
            "text/plain": [
              "<Figure size 432x432 with 2 Axes>"
            ]
          },
          "metadata": {
            "tags": [],
            "image/png": {
              "width": 353,
              "height": 200
            }
          }
        },
        {
          "output_type": "stream",
          "text": [
            "Label:  tensor(0)\n"
          ],
          "name": "stdout"
        }
      ]
    },
    {
      "cell_type": "code",
      "metadata": {
        "id": "miI-M_n2XYjn",
        "colab_type": "code",
        "colab": {
          "base_uri": "https://localhost:8080/",
          "height": 272
        },
        "outputId": "89d64192-4c05-402e-cb67-652e26b75921"
      },
      "source": [
        "images, labels = next(iter(testloader))\n",
        "\n",
        "img = images[0].view(1, 784)\n",
        "\n",
        "# Turn off gradients to speed up this part\n",
        "with torch.no_grad():\n",
        "    logits = model.forward(img)\n",
        "\n",
        "# Output of the network are logits, need to take softmax for probabilities\n",
        "ps = F.softmax(logits, dim=1)\n",
        "print(ps, labels[0])\n",
        "\n",
        "fig, (ax1, ax2) = plt.subplots(figsize=(6,6), ncols=2)\n",
        "ps = ps.data.numpy().squeeze()\n",
        "\n",
        "ax1.imshow(images[0].resize_(1, 28, 28).numpy().squeeze())\n",
        "ax1.axis('off')\n",
        "\n",
        "ax2.barh(np.arange(10), ps )\n",
        "ax2.set_aspect(0.1)\n",
        "ax2.set_yticks(np.arange(10))\n",
        "plt.xticks(rotation='45')\n",
        "\n",
        "plt.show();\n",
        "print('Label: ', labels[0])"
      ],
      "execution_count": 24,
      "outputs": [
        {
          "output_type": "stream",
          "text": [
            "tensor([[6.1152e-05, 1.2570e-06, 1.8525e-04, 7.1210e-05, 9.4518e-01, 4.6784e-03,\n",
            "         2.6945e-03, 3.0033e-04, 1.1481e-03, 4.5684e-02]]) tensor(4)\n"
          ],
          "name": "stdout"
        },
        {
          "output_type": "display_data",
          "data": {
            "image/png": "[encoded data removed]",
            "text/plain": [
              "<Figure size 432x432 with 2 Axes>"
            ]
          },
          "metadata": {
            "tags": [],
            "image/png": {
              "width": 349,
              "height": 204
            }
          }
        },
        {
          "output_type": "stream",
          "text": [
            "Label:  tensor(4)\n"
          ],
          "name": "stdout"
        }
      ]
    },
    {
      "cell_type": "code",
      "metadata": {
        "id": "3ZEex2laYZK4",
        "colab_type": "code",
        "colab": {}
      },
      "source": [
        ""
      ],
      "execution_count": 0,
      "outputs": []
    }
  ]
}