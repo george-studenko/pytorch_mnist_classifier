{
 "cells": [
  {
   "cell_type": "markdown",
   "metadata": {},
   "source": [
    "# PyTorch Neural Network Digits Classifier\n",
    "**Dataset:** MNIST"
   ]
  },
  {
   "cell_type": "code",
   "execution_count": 1,
   "metadata": {
    "collapsed": true
   },
   "outputs": [],
   "source": [
    "%matplotlib inline\n",
    "%config InlineBackend.figure_format = 'retina'\n",
    "\n",
    "import numpy as np\n",
    "import torch\n",
    "\n",
    "import matplotlib.pyplot as plt\n",
    "from torchvision import datasets, transforms\n",
    "\n",
    "from torch import nn\n",
    "from torch import optim\n",
    "import torch.nn.functional as F"
   ]
  },
  {
   "cell_type": "markdown",
   "metadata": {},
   "source": [
    "**Download _MNIST_ dataset**  \n",
    "I will be using batches of 64"
   ]
  },
  {
   "cell_type": "code",
   "execution_count": 2,
   "metadata": {},
   "outputs": [
    {
     "name": "stdout",
     "output_type": "stream",
     "text": [
      "Downloading http://fashion-mnist.s3-website.eu-central-1.amazonaws.com/train-images-idx3-ubyte.gz\n",
      "Downloading http://fashion-mnist.s3-website.eu-central-1.amazonaws.com/train-labels-idx1-ubyte.gz\n",
      "Downloading http://fashion-mnist.s3-website.eu-central-1.amazonaws.com/t10k-images-idx3-ubyte.gz\n",
      "Downloading http://fashion-mnist.s3-website.eu-central-1.amazonaws.com/t10k-labels-idx1-ubyte.gz\n",
      "Processing...\n",
      "Done!\n"
     ]
    }
   ],
   "source": [
    "# Define a transform to normalize the data\n",
    "transform = transforms.Compose([transforms.ToTensor(),\n",
    "                                transforms.Normalize((0.5, 0.5, 0.5), (0.5, 0.5, 0.5))])\n",
    "# Download and load the training data\n",
    "trainset = datasets.FashionMNIST('F_MNIST_data/', download=True, train=True, transform=transform)\n",
    "trainloader = torch.utils.data.DataLoader(trainset, batch_size=64, shuffle=True)\n",
    "\n",
    "# Download and load the test data\n",
    "testset = datasets.FashionMNIST('F_MNIST_data/', download=True, train=False, transform=transform)\n",
    "testloader = torch.utils.data.DataLoader(testset, batch_size=64, shuffle=True)"
   ]
  },
  {
   "cell_type": "code",
   "execution_count": 27,
   "metadata": {},
   "outputs": [],
   "source": [
    "def translate_label(label):\n",
    "    labels_dict = {0: 'T-shirt/top',\n",
    "    1: 'Trouser',\n",
    "    2: 'Pullover',\n",
    "    3: 'Dress',\n",
    "    4: 'Coat',\n",
    "    5: 'Sandal',\n",
    "    6: 'Shirt',\n",
    "    7: 'Sneaker',\n",
    "    8: 'Bag',\n",
    "    9:'Ankle boot' }\n",
    "    \n",
    "    return labels_dict[label]"
   ]
  },
  {
   "cell_type": "code",
   "execution_count": 28,
   "metadata": {
    "collapsed": true
   },
   "outputs": [],
   "source": [
    "dataiter = iter(trainloader)\n",
    "images, labels = dataiter.next()"
   ]
  },
  {
   "cell_type": "code",
   "execution_count": 29,
   "metadata": {
    "collapsed": true
   },
   "outputs": [],
   "source": [
    "def print_sample_digit(index):\n",
    "    print(str.format('Label: {}',translate_label(int(labels[index]))))\n",
    "    plt.figure(num=None, figsize=(1, 1), dpi=56, facecolor='w', edgecolor='k')\n",
    "    plt.imshow(images[index].numpy().squeeze(), cmap='Greys_r');"
   ]
  },
  {
   "cell_type": "code",
   "execution_count": 30,
   "metadata": {},
   "outputs": [
    {
     "name": "stdout",
     "output_type": "stream",
     "text": [
      "Label: Pullover\n"
     ]
    },
    {
     "data": {
      "image/png": "[encoded data removed]",
      "text/plain": [
       "<matplotlib.figure.Figure at 0x26c87b73128>"
      ]
     },
     "metadata": {
      "image/png": {
       "height": 68,
       "width": 70
      }
     },
     "output_type": "display_data"
    }
   ],
   "source": [
    "print_sample_digit(0)"
   ]
  },
  {
   "cell_type": "code",
   "execution_count": 31,
   "metadata": {},
   "outputs": [
    {
     "name": "stdout",
     "output_type": "stream",
     "text": [
      "Label: T-shirt/top\n"
     ]
    },
    {
     "data": {
      "image/png": "[encoded data removed]",
      "text/plain": [
       "<matplotlib.figure.Figure at 0x26c87ba84e0>"
      ]
     },
     "metadata": {
      "image/png": {
       "height": 68,
       "width": 70
      }
     },
     "output_type": "display_data"
    }
   ],
   "source": [
    "print_sample_digit(1)"
   ]
  },
  {
   "cell_type": "code",
   "execution_count": 32,
   "metadata": {
    "collapsed": true
   },
   "outputs": [],
   "source": [
    "# Input are images of 28 x 28 pixels each\n",
    "input_size = 784 \n",
    "# Hidden layers size\n",
    "h1_size, h2_size, h3_size = 400,200,100 \n",
    "# Output will be 10 since we will get the softmax probability for each digit (0-9)\n",
    "output_size = 10 "
   ]
  },
  {
   "cell_type": "markdown",
   "metadata": {},
   "source": [
    "### Define the model"
   ]
  },
  {
   "cell_type": "code",
   "execution_count": 33,
   "metadata": {
    "collapsed": true
   },
   "outputs": [],
   "source": [
    "model = nn.Sequential(\n",
    "            nn.Linear(input_size, h1_size),\n",
    "            nn.ReLU(),\n",
    "            nn.Linear(h1_size, h2_size),\n",
    "            nn.ReLU(),\n",
    "            nn.Linear(h2_size, h3_size),\n",
    "            nn.ReLU(),\n",
    "            nn.Linear(h3_size, output_size)\n",
    "            )        "
   ]
  },
  {
   "cell_type": "code",
   "execution_count": 34,
   "metadata": {},
   "outputs": [
    {
     "data": {
      "image/png": "[encoded data removed]",
      "text/plain": [
       "<matplotlib.figure.Figure at 0x26c87b37ac8>"
      ]
     },
     "metadata": {
      "image/png": {
       "height": 184,
       "width": 370
      }
     },
     "output_type": "display_data"
    }
   ],
   "source": [
    "# Get images and labels\n",
    "images, labels = next(iter(trainloader))\n",
    "images.resize_(images.shape[0], 1, 784)\n",
    "\n",
    "# Feedforward the network\n",
    "ps = model.forward(images[0,:])\n",
    "\n",
    "# Print result for the first image\n",
    "fig, (ax1, ax2) = plt.subplots(figsize=(6,6), ncols=2)\n",
    "ps = ps.data.numpy().squeeze()\n",
    "\n",
    "ax1.imshow(images[0].resize_(1, 28, 28).numpy().squeeze())\n",
    "ax1.axis('off')\n",
    "\n",
    "ax2.barh(np.arange(10), ps )\n",
    "ax2.set_aspect(0.01)\n",
    "ax2.set_yticks(np.arange(10))\n",
    "plt.xticks(rotation='45')\n",
    "\n",
    "plt.show();\n",
    "\n",
    "# Right now since the Neural Network did not update weights yet all probabilities are roughtly the same"
   ]
  },
  {
   "cell_type": "code",
   "execution_count": 35,
   "metadata": {
    "collapsed": true
   },
   "outputs": [],
   "source": [
    "# Define the Loss Function\n",
    "criterion = nn.CrossEntropyLoss() \n",
    "\n",
    "# Define optimizer as Stochastic Gradient Descent with a learning rate of 0.01\n",
    "sgd_optimizer = optim.SGD(model.parameters(), lr = 0.003)"
   ]
  },
  {
   "cell_type": "markdown",
   "metadata": {},
   "source": [
    "* Make a forward pass through the network to get the logits \n",
    "* Use the logits to calculate the loss\n",
    "* Perform a backward pass through the network with `loss.backward()` to calculate the gradients\n",
    "* Take a step with the optimizer to update the weights\n",
    "\n",
    "### Time to train the Neural Network!"
   ]
  },
  {
   "cell_type": "code",
   "execution_count": 36,
   "metadata": {},
   "outputs": [
    {
     "name": "stdout",
     "output_type": "stream",
     "text": [
      "Epoch: 1/5...  Loss: 2.3019\n",
      "Epoch: 1/5...  Loss: 2.2988\n",
      "Epoch: 1/5...  Loss: 2.2917\n",
      "Epoch: 1/5...  Loss: 2.2821\n",
      "Epoch: 1/5...  Loss: 2.2771\n",
      "Epoch: 1/5...  Loss: 2.2693\n",
      "Epoch: 1/5...  Loss: 2.2593\n",
      "Epoch: 1/5...  Loss: 2.2505\n",
      "Epoch: 1/5...  Loss: 2.2381\n",
      "Epoch: 1/5...  Loss: 2.2264\n",
      "Epoch: 1/5...  Loss: 2.2127\n",
      "Epoch: 1/5...  Loss: 2.2001\n",
      "Epoch: 1/5...  Loss: 2.1796\n",
      "Epoch: 1/5...  Loss: 2.1491\n",
      "Epoch: 1/5...  Loss: 2.1269\n",
      "Epoch: 1/5...  Loss: 2.0964\n",
      "Epoch: 1/5...  Loss: 2.0512\n",
      "Epoch: 1/5...  Loss: 2.0232\n",
      "Epoch: 1/5...  Loss: 1.9574\n",
      "Epoch: 1/5...  Loss: 1.9190\n",
      "Epoch: 1/5...  Loss: 1.8662\n",
      "Epoch: 1/5...  Loss: 1.8040\n",
      "Epoch: 1/5...  Loss: 1.7462\n",
      "Epoch: 2/5...  Loss: 0.9182\n",
      "Epoch: 2/5...  Loss: 1.6233\n",
      "Epoch: 2/5...  Loss: 1.5778\n",
      "Epoch: 2/5...  Loss: 1.5147\n",
      "Epoch: 2/5...  Loss: 1.4685\n",
      "Epoch: 2/5...  Loss: 1.4207\n",
      "Epoch: 2/5...  Loss: 1.3739\n",
      "Epoch: 2/5...  Loss: 1.3218\n",
      "Epoch: 2/5...  Loss: 1.2901\n",
      "Epoch: 2/5...  Loss: 1.2398\n",
      "Epoch: 2/5...  Loss: 1.2223\n",
      "Epoch: 2/5...  Loss: 1.1742\n",
      "Epoch: 2/5...  Loss: 1.1514\n",
      "Epoch: 2/5...  Loss: 1.1095\n",
      "Epoch: 2/5...  Loss: 1.0754\n",
      "Epoch: 2/5...  Loss: 1.0444\n",
      "Epoch: 2/5...  Loss: 1.0492\n",
      "Epoch: 2/5...  Loss: 1.0410\n",
      "Epoch: 2/5...  Loss: 0.9942\n",
      "Epoch: 2/5...  Loss: 0.9850\n",
      "Epoch: 2/5...  Loss: 0.9543\n",
      "Epoch: 2/5...  Loss: 0.9355\n",
      "Epoch: 2/5...  Loss: 0.9294\n",
      "Epoch: 3/5...  Loss: 0.0925\n",
      "Epoch: 3/5...  Loss: 0.8897\n",
      "Epoch: 3/5...  Loss: 0.8778\n",
      "Epoch: 3/5...  Loss: 0.8433\n",
      "Epoch: 3/5...  Loss: 0.8697\n",
      "Epoch: 3/5...  Loss: 0.8366\n",
      "Epoch: 3/5...  Loss: 0.8300\n",
      "Epoch: 3/5...  Loss: 0.8203\n",
      "Epoch: 3/5...  Loss: 0.7715\n",
      "Epoch: 3/5...  Loss: 0.7852\n",
      "Epoch: 3/5...  Loss: 0.7739\n",
      "Epoch: 3/5...  Loss: 0.7592\n",
      "Epoch: 3/5...  Loss: 0.7690\n",
      "Epoch: 3/5...  Loss: 0.7594\n",
      "Epoch: 3/5...  Loss: 0.7574\n",
      "Epoch: 3/5...  Loss: 0.7444\n",
      "Epoch: 3/5...  Loss: 0.7623\n",
      "Epoch: 3/5...  Loss: 0.7728\n",
      "Epoch: 3/5...  Loss: 0.7202\n",
      "Epoch: 3/5...  Loss: 0.6896\n",
      "Epoch: 3/5...  Loss: 0.7306\n",
      "Epoch: 3/5...  Loss: 0.7268\n",
      "Epoch: 3/5...  Loss: 0.6989\n",
      "Epoch: 3/5...  Loss: 0.6959\n",
      "Epoch: 4/5...  Loss: 0.4497\n",
      "Epoch: 4/5...  Loss: 0.7128\n",
      "Epoch: 4/5...  Loss: 0.6883\n",
      "Epoch: 4/5...  Loss: 0.6814\n",
      "Epoch: 4/5...  Loss: 0.6621\n",
      "Epoch: 4/5...  Loss: 0.6824\n",
      "Epoch: 4/5...  Loss: 0.6475\n",
      "Epoch: 4/5...  Loss: 0.6442\n",
      "Epoch: 4/5...  Loss: 0.6663\n",
      "Epoch: 4/5...  Loss: 0.6840\n",
      "Epoch: 4/5...  Loss: 0.6608\n",
      "Epoch: 4/5...  Loss: 0.6538\n",
      "Epoch: 4/5...  Loss: 0.6523\n",
      "Epoch: 4/5...  Loss: 0.6793\n",
      "Epoch: 4/5...  Loss: 0.6153\n",
      "Epoch: 4/5...  Loss: 0.6388\n",
      "Epoch: 4/5...  Loss: 0.6282\n",
      "Epoch: 4/5...  Loss: 0.6212\n",
      "Epoch: 4/5...  Loss: 0.6385\n",
      "Epoch: 4/5...  Loss: 0.6477\n",
      "Epoch: 4/5...  Loss: 0.6309\n",
      "Epoch: 4/5...  Loss: 0.6240\n",
      "Epoch: 4/5...  Loss: 0.6305\n",
      "Epoch: 5/5...  Loss: 0.1204\n",
      "Epoch: 5/5...  Loss: 0.6580\n",
      "Epoch: 5/5...  Loss: 0.6233\n",
      "Epoch: 5/5...  Loss: 0.6405\n",
      "Epoch: 5/5...  Loss: 0.5912\n",
      "Epoch: 5/5...  Loss: 0.5929\n",
      "Epoch: 5/5...  Loss: 0.6001\n",
      "Epoch: 5/5...  Loss: 0.5973\n",
      "Epoch: 5/5...  Loss: 0.6246\n",
      "Epoch: 5/5...  Loss: 0.6033\n",
      "Epoch: 5/5...  Loss: 0.5866\n",
      "Epoch: 5/5...  Loss: 0.6240\n",
      "Epoch: 5/5...  Loss: 0.6166\n",
      "Epoch: 5/5...  Loss: 0.5721\n",
      "Epoch: 5/5...  Loss: 0.5742\n",
      "Epoch: 5/5...  Loss: 0.5701\n",
      "Epoch: 5/5...  Loss: 0.6168\n",
      "Epoch: 5/5...  Loss: 0.5892\n",
      "Epoch: 5/5...  Loss: 0.5733\n",
      "Epoch: 5/5...  Loss: 0.5811\n",
      "Epoch: 5/5...  Loss: 0.6088\n",
      "Epoch: 5/5...  Loss: 0.6045\n",
      "Epoch: 5/5...  Loss: 0.5798\n",
      "Epoch: 5/5...  Loss: 0.5716\n"
     ]
    }
   ],
   "source": [
    "epochs = 5\n",
    "print_every = 40\n",
    "steps = 0\n",
    "\n",
    "for epoch in range(epochs):\n",
    "    running_loss = 0\n",
    "    \n",
    "    # Get images and labels\n",
    "    for images, labels in iter(trainloader):\n",
    "        steps += 1\n",
    "        images.resize_(images.size()[0], input_size)\n",
    "        \n",
    "        # Set gradients to zero\n",
    "        sgd_optimizer.zero_grad()\n",
    "        \n",
    "        y_hat = model.forward(images)\n",
    "        loss = criterion(y_hat,labels)\n",
    "        loss.backward()\n",
    "        sgd_optimizer.step()\n",
    "        \n",
    "        running_loss += loss.item()\n",
    "        \n",
    "        if steps % print_every == 0:\n",
    "            print(\"Epoch: {}/{}... \".format(epoch+1, epochs),\n",
    "                  \"Loss: {:.4f}\".format(running_loss/print_every))\n",
    "            \n",
    "            running_loss = 0\n"
   ]
  },
  {
   "cell_type": "markdown",
   "metadata": {},
   "source": [
    "### Test the Neural Network"
   ]
  },
  {
   "cell_type": "code",
   "execution_count": 50,
   "metadata": {},
   "outputs": [
    {
     "name": "stdout",
     "output_type": "stream",
     "text": [
      "tensor([[ 8.9693e-01,  1.1522e-05,  8.0896e-03,  5.2771e-03,  6.3381e-05,\n",
      "          6.0101e-09,  8.9547e-02,  1.7098e-09,  7.9307e-05,  7.7921e-07]]) tensor(0)\n"
     ]
    }
   ],
   "source": [
    "images, labels = next(iter(testloader))\n",
    "\n",
    "img = images[0].view(1, 784)\n",
    "\n",
    "# Turn off gradients to speed up this part\n",
    "with torch.no_grad():\n",
    "    logits = model.forward(img)\n",
    "\n",
    "# Output of the network are logits, need to take softmax for probabilities\n",
    "ps = F.softmax(logits, dim=1)\n",
    "print(ps, labels[0])\n"
   ]
  },
  {
   "cell_type": "code",
   "execution_count": 51,
   "metadata": {},
   "outputs": [
    {
     "data": {
      "image/png": "[encoded data removed]",
      "text/plain": [
       "<matplotlib.figure.Figure at 0x26c8783a400>"
      ]
     },
     "metadata": {
      "image/png": {
       "height": 215,
       "width": 370
      }
     },
     "output_type": "display_data"
    },
    {
     "name": "stdout",
     "output_type": "stream",
     "text": [
      "Label:  0\n"
     ]
    }
   ],
   "source": [
    "fig, (ax1, ax2) = plt.subplots(figsize=(6,6), ncols=2)\n",
    "ps = ps.data.numpy().squeeze()\n",
    "\n",
    "ax1.imshow(images[0].resize_(1, 28, 28).numpy().squeeze())\n",
    "ax1.axis('off')\n",
    "\n",
    "ax2.barh(np.arange(10), ps )\n",
    "ax2.set_aspect(0.1)\n",
    "ax2.set_yticks(np.arange(10))\n",
    "plt.xticks(rotation='45')\n",
    "\n",
    "plt.show();\n",
    "print('Label: ', int(labels[0]))"
   ]
  },
  {
   "cell_type": "code",
   "execution_count": null,
   "metadata": {
    "collapsed": true
   },
   "outputs": [],
   "source": []
  }
 ],
 "metadata": {
  "kernelspec": {
   "display_name": "Python 3",
   "language": "python",
   "name": "python3"
  },
  "language_info": {
   "codemirror_mode": {
    "name": "ipython",
    "version": 3
   },
   "file_extension": ".py",
   "mimetype": "text/x-python",
   "name": "python",
   "nbconvert_exporter": "python",
   "pygments_lexer": "ipython3",
   "version": "3.6.2"
  }
 },
 "nbformat": 4,
 "nbformat_minor": 2
}
