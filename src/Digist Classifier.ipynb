{
 "cells": [
  {
   "cell_type": "markdown",
   "metadata": {},
   "source": [
    "# PyTorch Neural Network Digits Classifier\n",
    "**Dataset:** MNIST"
   ]
  },
  {
   "cell_type": "code",
   "execution_count": 1,
   "metadata": {
    "collapsed": true
   },
   "outputs": [],
   "source": [
    "%matplotlib inline\n",
    "%config InlineBackend.figure_format = 'retina'\n",
    "\n",
    "import numpy as np\n",
    "import torch\n",
    "\n",
    "import matplotlib.pyplot as plt\n",
    "from torchvision import datasets, transforms\n",
    "\n",
    "from torch import nn\n",
    "from torch import optim\n",
    "import torch.nn.functional as F"
   ]
  },
  {
   "cell_type": "markdown",
   "metadata": {},
   "source": [
    "**Download _MNIST_ dataset**  \n",
    "I will be using batches of 64"
   ]
  },
  {
   "cell_type": "code",
   "execution_count": 2,
   "metadata": {},
   "outputs": [],
   "source": [
    "# Define a transform to normalize the data\n",
    "transform = transforms.Compose([transforms.ToTensor(),\n",
    "                              transforms.Normalize((0.5, 0.5, 0.5), (0.5, 0.5, 0.5)),\n",
    "                             ])\n",
    "# Download and load the training data\n",
    "trainset = datasets.MNIST('MNIST_data/', download=True, train=True, transform=transform)\n",
    "trainloader = torch.utils.data.DataLoader(trainset, batch_size=64, shuffle=True)\n",
    "\n",
    "# Download and load the test data\n",
    "testset = datasets.MNIST('MNIST_data/', download=True, train=False, transform=transform)\n",
    "testloader = torch.utils.data.DataLoader(testset, batch_size=64, shuffle=True)"
   ]
  },
  {
   "cell_type": "code",
   "execution_count": 3,
   "metadata": {
    "collapsed": true
   },
   "outputs": [],
   "source": [
    "dataiter = iter(trainloader)\n",
    "images, labels = dataiter.next()"
   ]
  },
  {
   "cell_type": "code",
   "execution_count": 4,
   "metadata": {
    "collapsed": true
   },
   "outputs": [],
   "source": [
    "def print_sample_digit(index):\n",
    "    print(str.format('Label: {}',labels[index]))\n",
    "    plt.figure(num=None, figsize=(1, 1), dpi=56, facecolor='w', edgecolor='k')\n",
    "    plt.imshow(images[index].numpy().squeeze(), cmap='Greys_r');"
   ]
  },
  {
   "cell_type": "code",
   "execution_count": 5,
   "metadata": {},
   "outputs": [
    {
     "name": "stdout",
     "output_type": "stream",
     "text": [
      "Label: 1\n"
     ]
    },
    {
     "data": {
      "image/png": "[encoded data removed]",
      "text/plain": [
       "<matplotlib.figure.Figure at 0x18939f7d4e0>"
      ]
     },
     "metadata": {
      "image/png": {
       "height": 68,
       "width": 70
      }
     },
     "output_type": "display_data"
    }
   ],
   "source": [
    "print_sample_digit(0)"
   ]
  },
  {
   "cell_type": "code",
   "execution_count": 6,
   "metadata": {},
   "outputs": [
    {
     "name": "stdout",
     "output_type": "stream",
     "text": [
      "Label: 8\n"
     ]
    },
    {
     "data": {
      "image/png": "[encoded data removed]",
      "text/plain": [
       "<matplotlib.figure.Figure at 0x1893d81fcf8>"
      ]
     },
     "metadata": {
      "image/png": {
       "height": 68,
       "width": 70
      }
     },
     "output_type": "display_data"
    }
   ],
   "source": [
    "print_sample_digit(1)"
   ]
  },
  {
   "cell_type": "code",
   "execution_count": 7,
   "metadata": {
    "collapsed": true
   },
   "outputs": [],
   "source": [
    "# Input are images of 28 x 28 pixels each\n",
    "input_size = 784 \n",
    "# Hidden layers size\n",
    "h1_size, h2_size, h3_size = 400,200,100 \n",
    "# Output will be 10 since we will get the softmax probability for each digit (0-9)\n",
    "output_size = 10 "
   ]
  },
  {
   "cell_type": "markdown",
   "metadata": {},
   "source": [
    "### Define the model"
   ]
  },
  {
   "cell_type": "code",
   "execution_count": 8,
   "metadata": {
    "collapsed": true
   },
   "outputs": [],
   "source": [
    "model = nn.Sequential(\n",
    "            nn.Linear(input_size, h1_size),\n",
    "            nn.ReLU(),\n",
    "            nn.Linear(h1_size, h2_size),\n",
    "            nn.ReLU(),\n",
    "            nn.Linear(h2_size, h3_size),\n",
    "            nn.ReLU(),\n",
    "            nn.Linear(h3_size, output_size)\n",
    "            )        "
   ]
  },
  {
   "cell_type": "code",
   "execution_count": 9,
   "metadata": {},
   "outputs": [
    {
     "data": {
      "image/png": "[encoded data removed]",
      "text/plain": [
       "<matplotlib.figure.Figure at 0x1893d98de48>"
      ]
     },
     "metadata": {
      "image/png": {
       "height": 184,
       "width": 370
      }
     },
     "output_type": "display_data"
    }
   ],
   "source": [
    "# Get images and labels\n",
    "images, labels = next(iter(trainloader))\n",
    "images.resize_(images.shape[0], 1, 784)\n",
    "\n",
    "# Feedforward the network\n",
    "ps = model.forward(images[0,:])\n",
    "\n",
    "# Print result for the first image\n",
    "fig, (ax1, ax2) = plt.subplots(figsize=(6,6), ncols=2)\n",
    "ps = ps.data.numpy().squeeze()\n",
    "\n",
    "ax1.imshow(images[0].resize_(1, 28, 28).numpy().squeeze())\n",
    "ax1.axis('off')\n",
    "\n",
    "ax2.barh(np.arange(10), ps )\n",
    "ax2.set_aspect(0.01)\n",
    "ax2.set_yticks(np.arange(10))\n",
    "plt.xticks(rotation='45')\n",
    "\n",
    "plt.show();\n",
    "\n",
    "# Right now since the Neural Network did not update weights yet all probabilities are roughtly the same"
   ]
  },
  {
   "cell_type": "code",
   "execution_count": 19,
   "metadata": {
    "collapsed": true
   },
   "outputs": [],
   "source": [
    "# Define the Loss Function\n",
    "criterion = nn.CrossEntropyLoss() \n",
    "\n",
    "# Define optimizer as Stochastic Gradient Descent with a learning rate of 0.01\n",
    "sgd_optimizer = optim.SGD(model.parameters(), lr = 0.003)"
   ]
  },
  {
   "cell_type": "markdown",
   "metadata": {},
   "source": [
    "* Make a forward pass through the network to get the logits \n",
    "* Use the logits to calculate the loss\n",
    "* Perform a backward pass through the network with `loss.backward()` to calculate the gradients\n",
    "* Take a step with the optimizer to update the weights\n",
    "\n",
    "### Time to train the Neural Network!"
   ]
  },
  {
   "cell_type": "code",
   "execution_count": 20,
   "metadata": {},
   "outputs": [
    {
     "name": "stdout",
     "output_type": "stream",
     "text": [
      "Epoch: 1/5...  Loss: 0.6098\n",
      "Epoch: 1/5...  Loss: 0.6357\n",
      "Epoch: 1/5...  Loss: 0.5972\n",
      "Epoch: 1/5...  Loss: 0.5721\n",
      "Epoch: 1/5...  Loss: 0.5594\n",
      "Epoch: 1/5...  Loss: 0.5413\n",
      "Epoch: 1/5...  Loss: 0.5503\n",
      "Epoch: 1/5...  Loss: 0.5204\n",
      "Epoch: 1/5...  Loss: 0.5359\n",
      "Epoch: 1/5...  Loss: 0.5311\n",
      "Epoch: 1/5...  Loss: 0.5365\n",
      "Epoch: 1/5...  Loss: 0.5226\n",
      "Epoch: 1/5...  Loss: 0.5214\n",
      "Epoch: 1/5...  Loss: 0.5030\n",
      "Epoch: 1/5...  Loss: 0.5032\n",
      "Epoch: 1/5...  Loss: 0.4800\n",
      "Epoch: 1/5...  Loss: 0.4782\n",
      "Epoch: 1/5...  Loss: 0.4722\n",
      "Epoch: 1/5...  Loss: 0.4843\n",
      "Epoch: 1/5...  Loss: 0.4898\n",
      "Epoch: 1/5...  Loss: 0.4819\n",
      "Epoch: 1/5...  Loss: 0.4551\n",
      "Epoch: 1/5...  Loss: 0.4502\n",
      "Epoch: 2/5...  Loss: 0.2627\n",
      "Epoch: 2/5...  Loss: 0.4865\n",
      "Epoch: 2/5...  Loss: 0.4759\n",
      "Epoch: 2/5...  Loss: 0.4691\n",
      "Epoch: 2/5...  Loss: 0.4489\n",
      "Epoch: 2/5...  Loss: 0.4205\n",
      "Epoch: 2/5...  Loss: 0.4423\n",
      "Epoch: 2/5...  Loss: 0.4313\n",
      "Epoch: 2/5...  Loss: 0.4260\n",
      "Epoch: 2/5...  Loss: 0.4244\n",
      "Epoch: 2/5...  Loss: 0.4197\n",
      "Epoch: 2/5...  Loss: 0.4265\n",
      "Epoch: 2/5...  Loss: 0.4386\n",
      "Epoch: 2/5...  Loss: 0.3778\n",
      "Epoch: 2/5...  Loss: 0.4234\n",
      "Epoch: 2/5...  Loss: 0.4206\n",
      "Epoch: 2/5...  Loss: 0.4266\n",
      "Epoch: 2/5...  Loss: 0.4095\n",
      "Epoch: 2/5...  Loss: 0.4276\n",
      "Epoch: 2/5...  Loss: 0.3887\n",
      "Epoch: 2/5...  Loss: 0.4007\n",
      "Epoch: 2/5...  Loss: 0.4113\n",
      "Epoch: 2/5...  Loss: 0.4203\n",
      "Epoch: 3/5...  Loss: 0.0477\n",
      "Epoch: 3/5...  Loss: 0.3964\n",
      "Epoch: 3/5...  Loss: 0.3840\n",
      "Epoch: 3/5...  Loss: 0.4035\n",
      "Epoch: 3/5...  Loss: 0.3859\n",
      "Epoch: 3/5...  Loss: 0.4127\n",
      "Epoch: 3/5...  Loss: 0.3771\n",
      "Epoch: 3/5...  Loss: 0.3667\n",
      "Epoch: 3/5...  Loss: 0.3698\n",
      "Epoch: 3/5...  Loss: 0.3803\n",
      "Epoch: 3/5...  Loss: 0.3983\n",
      "Epoch: 3/5...  Loss: 0.3909\n",
      "Epoch: 3/5...  Loss: 0.3786\n",
      "Epoch: 3/5...  Loss: 0.3876\n",
      "Epoch: 3/5...  Loss: 0.4231\n",
      "Epoch: 3/5...  Loss: 0.3841\n",
      "Epoch: 3/5...  Loss: 0.3400\n",
      "Epoch: 3/5...  Loss: 0.3383\n",
      "Epoch: 3/5...  Loss: 0.3915\n",
      "Epoch: 3/5...  Loss: 0.3876\n",
      "Epoch: 3/5...  Loss: 0.3717\n",
      "Epoch: 3/5...  Loss: 0.3783\n",
      "Epoch: 3/5...  Loss: 0.3534\n",
      "Epoch: 3/5...  Loss: 0.3547\n",
      "Epoch: 4/5...  Loss: 0.2287\n",
      "Epoch: 4/5...  Loss: 0.3452\n",
      "Epoch: 4/5...  Loss: 0.3574\n",
      "Epoch: 4/5...  Loss: 0.3707\n",
      "Epoch: 4/5...  Loss: 0.3884\n",
      "Epoch: 4/5...  Loss: 0.3586\n",
      "Epoch: 4/5...  Loss: 0.3712\n",
      "Epoch: 4/5...  Loss: 0.3431\n",
      "Epoch: 4/5...  Loss: 0.3847\n",
      "Epoch: 4/5...  Loss: 0.3949\n",
      "Epoch: 4/5...  Loss: 0.3411\n",
      "Epoch: 4/5...  Loss: 0.3367\n",
      "Epoch: 4/5...  Loss: 0.3601\n",
      "Epoch: 4/5...  Loss: 0.3443\n",
      "Epoch: 4/5...  Loss: 0.3361\n",
      "Epoch: 4/5...  Loss: 0.3457\n",
      "Epoch: 4/5...  Loss: 0.3491\n",
      "Epoch: 4/5...  Loss: 0.3554\n",
      "Epoch: 4/5...  Loss: 0.3314\n",
      "Epoch: 4/5...  Loss: 0.3413\n",
      "Epoch: 4/5...  Loss: 0.3193\n",
      "Epoch: 4/5...  Loss: 0.3543\n",
      "Epoch: 4/5...  Loss: 0.3454\n",
      "Epoch: 5/5...  Loss: 0.0898\n",
      "Epoch: 5/5...  Loss: 0.3490\n",
      "Epoch: 5/5...  Loss: 0.3624\n",
      "Epoch: 5/5...  Loss: 0.3311\n",
      "Epoch: 5/5...  Loss: 0.3604\n",
      "Epoch: 5/5...  Loss: 0.3459\n",
      "Epoch: 5/5...  Loss: 0.3600\n",
      "Epoch: 5/5...  Loss: 0.3417\n",
      "Epoch: 5/5...  Loss: 0.2980\n",
      "Epoch: 5/5...  Loss: 0.3565\n",
      "Epoch: 5/5...  Loss: 0.3158\n",
      "Epoch: 5/5...  Loss: 0.3398\n",
      "Epoch: 5/5...  Loss: 0.3156\n",
      "Epoch: 5/5...  Loss: 0.3539\n",
      "Epoch: 5/5...  Loss: 0.3168\n",
      "Epoch: 5/5...  Loss: 0.3369\n",
      "Epoch: 5/5...  Loss: 0.3093\n",
      "Epoch: 5/5...  Loss: 0.3211\n",
      "Epoch: 5/5...  Loss: 0.3232\n",
      "Epoch: 5/5...  Loss: 0.3525\n",
      "Epoch: 5/5...  Loss: 0.3154\n",
      "Epoch: 5/5...  Loss: 0.3061\n",
      "Epoch: 5/5...  Loss: 0.3278\n",
      "Epoch: 5/5...  Loss: 0.3271\n"
     ]
    }
   ],
   "source": [
    "epochs = 5\n",
    "print_every = 40\n",
    "steps = 0\n",
    "\n",
    "for epoch in range(epochs):\n",
    "    running_loss = 0\n",
    "    \n",
    "    # Get images and labels\n",
    "    for images, labels in iter(trainloader):\n",
    "        steps += 1\n",
    "        images.resize_(images.size()[0], input_size)\n",
    "        \n",
    "        # Set gradients to zero\n",
    "        sgd_optimizer.zero_grad()\n",
    "        \n",
    "        y_hat = model.forward(images)\n",
    "        loss = criterion(y_hat,labels)\n",
    "        loss.backward()\n",
    "        sgd_optimizer.step()\n",
    "        \n",
    "        running_loss += loss.item()\n",
    "        \n",
    "        if steps % print_every == 0:\n",
    "            print(\"Epoch: {}/{}... \".format(epoch+1, epochs),\n",
    "                  \"Loss: {:.4f}\".format(running_loss/print_every))\n",
    "            \n",
    "            running_loss = 0\n"
   ]
  },
  {
   "cell_type": "markdown",
   "metadata": {},
   "source": [
    "### Test the Neural Network"
   ]
  },
  {
   "cell_type": "code",
   "execution_count": 29,
   "metadata": {},
   "outputs": [
    {
     "name": "stdout",
     "output_type": "stream",
     "text": [
      "tensor([[ 1.3165e-05,  7.5047e-06,  7.5262e-04,  1.9208e-03,  5.6986e-05,\n",
      "          1.9132e-03,  6.4710e-07,  2.4541e-05,  9.7869e-01,  1.6623e-02]]) tensor(8)\n"
     ]
    }
   ],
   "source": [
    "images, labels = next(iter(testloader))\n",
    "\n",
    "img = images[0].view(1, 784)\n",
    "\n",
    "# Turn off gradients to speed up this part\n",
    "with torch.no_grad():\n",
    "    logits = model.forward(img)\n",
    "\n",
    "# Output of the network are logits, need to take softmax for probabilities\n",
    "ps = F.softmax(logits, dim=1)\n",
    "print(ps, labels[0])\n"
   ]
  },
  {
   "cell_type": "code",
   "execution_count": 30,
   "metadata": {},
   "outputs": [
    {
     "data": {
      "image/png": "[encoded data removed]",
      "text/plain": [
       "<matplotlib.figure.Figure at 0x1893ffe84a8>"
      ]
     },
     "metadata": {
      "image/png": {
       "height": 205,
       "width": 376
      }
     },
     "output_type": "display_data"
    },
    {
     "name": "stdout",
     "output_type": "stream",
     "text": [
      "Label:  tensor(8)\n"
     ]
    }
   ],
   "source": [
    "fig, (ax1, ax2) = plt.subplots(figsize=(6,6), ncols=2)\n",
    "ps = ps.data.numpy().squeeze()\n",
    "\n",
    "ax1.imshow(images[0].resize_(1, 28, 28).numpy().squeeze())\n",
    "ax1.axis('off')\n",
    "\n",
    "ax2.barh(np.arange(10), ps )\n",
    "ax2.set_aspect(0.1)\n",
    "ax2.set_yticks(np.arange(10))\n",
    "plt.xticks(rotation='45')\n",
    "\n",
    "plt.show();\n",
    "print('Label: ', labels[0])"
   ]
  }
 ],
 "metadata": {
  "kernelspec": {
   "display_name": "Python 3",
   "language": "python",
   "name": "python3"
  },
  "language_info": {
   "codemirror_mode": {
    "name": "ipython",
    "version": 3
   },
   "file_extension": ".py",
   "mimetype": "text/x-python",
   "name": "python",
   "nbconvert_exporter": "python",
   "pygments_lexer": "ipython3",
   "version": "3.6.2"
  }
 },
 "nbformat": 4,
 "nbformat_minor": 2
}
