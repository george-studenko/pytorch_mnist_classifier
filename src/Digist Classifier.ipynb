{
 "cells": [
  {
   "cell_type": "markdown",
   "metadata": {},
   "source": [
    "# PyTorch Neural Network Digits Classifier\n",
    "**Dataset:** MNIST"
   ]
  },
  {
   "cell_type": "code",
   "execution_count": null,
   "metadata": {
    "collapsed": true
   },
   "outputs": [],
   "source": [
    "%matplotlib inline\n",
    "%config InlineBackend.figure_format = 'retina'\n",
    "\n",
    "import numpy as np\n",
    "import torch\n",
    "\n",
    "import matplotlib.pyplot as plt\n",
    "from torchvision import datasets, transforms\n",
    "\n",
    "from torch import nn\n",
    "from torch import optim\n",
    "import torch.nn.functional as F"
   ]
  },
  {
   "cell_type": "markdown",
   "metadata": {},
   "source": [
    "**Download _MNIST_ dataset**  \n",
    "I will be using batches of 64"
   ]
  },
  {
   "cell_type": "code",
   "execution_count": null,
   "metadata": {},
   "outputs": [],
   "source": [
    "# Define a transform to normalize the data\n",
    "transform = transforms.Compose([transforms.ToTensor(),\n",
    "                              transforms.Normalize((0.5, 0.5, 0.5), (0.5, 0.5, 0.5)),\n",
    "                             ])\n",
    "# Download and load the training data\n",
    "trainset = datasets.MNIST('MNIST_data/', download=True, train=True, transform=transform)\n",
    "trainloader = torch.utils.data.DataLoader(trainset, batch_size=64, shuffle=True)\n",
    "\n",
    "# Download and load the test data\n",
    "testset = datasets.MNIST('MNIST_data/', download=True, train=False, transform=transform)\n",
    "testloader = torch.utils.data.DataLoader(testset, batch_size=64, shuffle=True)"
   ]
  },
  {
   "cell_type": "code",
   "execution_count": 3,
   "metadata": {
    "collapsed": true
   },
   "outputs": [],
   "source": [
    "dataiter = iter(trainloader)\n",
    "images, labels = dataiter.next()"
   ]
  },
  {
   "cell_type": "code",
   "execution_count": 4,
   "metadata": {
    "collapsed": true
   },
   "outputs": [],
   "source": [
    "def print_sample_digit(index):\n",
    "    print(str.format('Label: {}',labels[index]))\n",
    "    plt.figure(num=None, figsize=(1, 1), dpi=56, facecolor='w', edgecolor='k')\n",
    "    plt.imshow(images[index].numpy().squeeze(), cmap='Greys_r');"
   ]
  },
  {
   "cell_type": "code",
   "execution_count": 5,
   "metadata": {},
   "outputs": [
    {
     "name": "stdout",
     "output_type": "stream",
     "text": [
      "Label: 6\n"
     ]
    },
    {
     "data": {
      "image/png": "[encoded data removed]",
      "text/plain": [
       "<matplotlib.figure.Figure at 0x17626861470>"
      ]
     },
     "metadata": {
      "image/png": {
       "height": 68,
       "width": 70
      }
     },
     "output_type": "display_data"
    }
   ],
   "source": [
    "print_sample_digit(0)"
   ]
  },
  {
   "cell_type": "code",
   "execution_count": 6,
   "metadata": {},
   "outputs": [
    {
     "name": "stdout",
     "output_type": "stream",
     "text": [
      "Label: 6\n"
     ]
    },
    {
     "data": {
      "image/png": "[encoded data removed]",
      "text/plain": [
       "<matplotlib.figure.Figure at 0x17626861160>"
      ]
     },
     "metadata": {
      "image/png": {
       "height": 68,
       "width": 70
      }
     },
     "output_type": "display_data"
    }
   ],
   "source": [
    "print_sample_digit(1)"
   ]
  },
  {
   "cell_type": "code",
   "execution_count": 7,
   "metadata": {
    "collapsed": true
   },
   "outputs": [],
   "source": [
    "# Input are images of 28 x 28 pixels each\n",
    "input_size = 784 \n",
    "# Hidden layers size\n",
    "h1_size, h2_size, h3_size = 400,200,100 \n",
    "# Output will be 10 since we will get the softmax probability for each digit (0-9)\n",
    "output_size = 10 \n"
   ]
  },
  {
   "cell_type": "markdown",
   "metadata": {},
   "source": [
    "### Define the model"
   ]
  },
  {
   "cell_type": "code",
   "execution_count": 8,
   "metadata": {
    "collapsed": true
   },
   "outputs": [],
   "source": [
    "model = nn.Sequential(\n",
    "            nn.Linear(input_size, h1_size),\n",
    "            nn.ReLU(),\n",
    "            nn.Linear(h1_size, h2_size),\n",
    "            nn.ReLU(),\n",
    "            nn.Linear(h2_size, h3_size),\n",
    "            nn.ReLU(),\n",
    "            nn.Linear(h3_size, output_size)\n",
    "            )        "
   ]
  },
  {
   "cell_type": "code",
   "execution_count": 9,
   "metadata": {},
   "outputs": [
    {
     "data": {
      "image/png": "[encoded data removed]",
      "text/plain": [
       "<matplotlib.figure.Figure at 0x17629f6ea90>"
      ]
     },
     "metadata": {
      "image/png": {
       "height": 184,
       "width": 370
      }
     },
     "output_type": "display_data"
    }
   ],
   "source": [
    "# Get images and labels\n",
    "images, labels = next(iter(trainloader))\n",
    "\n",
    "# Batch size\n",
    "batch_size = images.shape[0]\n",
    "\n",
    "images.resize_(batch_size, 1, 784)\n",
    "\n",
    "# Feedforward the network\n",
    "ps = model.forward(images[0,:])\n",
    "\n",
    "# Print result for the first image\n",
    "fig, (ax1, ax2) = plt.subplots(figsize=(6,6), ncols=2)\n",
    "ps = ps.data.numpy().squeeze()\n",
    "\n",
    "ax1.imshow(images[0].resize_(1, 28, 28).numpy().squeeze())\n",
    "ax1.axis('off')\n",
    "\n",
    "ax2.barh(np.arange(10), ps )\n",
    "ax2.set_aspect(0.01)\n",
    "ax2.set_yticks(np.arange(10))\n",
    "plt.xticks(rotation='45')\n",
    "\n",
    "plt.show();\n",
    "\n",
    "# Right now since the Neural Network did not update weights yet all probabilities are roughtly the same"
   ]
  },
  {
   "cell_type": "markdown",
   "metadata": {},
   "source": [
    "### Define the validation function"
   ]
  },
  {
   "cell_type": "code",
   "execution_count": 34,
   "metadata": {
    "collapsed": true
   },
   "outputs": [],
   "source": [
    "def validation(model,testloader,criterion):\n",
    "    test_loss = 0\n",
    "    accuracy = 0\n",
    "    \n",
    "    for images, labels in testloader:\n",
    "        batch_size = images.shape[0]\n",
    "        images.resize_(batch_size, input_size)\n",
    "        \n",
    "        output = model.forward(images)\n",
    "        test_loss += criterion(output,labels).item()\n",
    "        \n",
    "        ps = torch.exp(output)\n",
    "                   \n",
    "        # Each probability consist in an array of 10 probabilities, the predicted class is the\n",
    "        # highest probability of each one, so we need to get the max of the probabilitie for each \n",
    "        # prediction in order to find the predicted_class         \n",
    "        \n",
    "        predicted_classes = ps.max(dim=1)[1]\n",
    "        \n",
    "        # To find the correct classified items we compare labels with the predicted_classes\n",
    "        # and we will get back an array of booleans with 1 if the prediction was correct or\n",
    "        # 0 otherwise\n",
    "        \n",
    "        #correct_predictions = (labels == predicted_classes)\n",
    "        correct_predictions = (labels.data == correct_predictions)\n",
    "\n",
    "        accuracy += correct_predictions.type(torch.FloatTensor).mean()\n",
    "        \n",
    "        return test_loss, accuracy\n",
    "        "
   ]
  },
  {
   "cell_type": "code",
   "execution_count": 35,
   "metadata": {
    "collapsed": true
   },
   "outputs": [],
   "source": [
    "# Implement a function for the validation pass\n",
    "def validation2(model, testloader, criterion):\n",
    "    test_loss = 0\n",
    "    accuracy = 0\n",
    "    for images, labels in testloader:\n",
    "\n",
    "        images.resize_(images.shape[0], 784)\n",
    "\n",
    "        output = model.forward(images)\n",
    "        test_loss += criterion(output, labels).item()\n",
    "\n",
    "        ps = torch.exp(output)\n",
    "        equality = (labels.data == ps.max(dim=1)[1])\n",
    "        accuracy += equality.type(torch.FloatTensor).mean()\n",
    "    \n",
    "    return test_loss, accuracy"
   ]
  },
  {
   "cell_type": "code",
   "execution_count": 36,
   "metadata": {
    "collapsed": true
   },
   "outputs": [],
   "source": [
    "# Define the Loss Function\n",
    "criterion = nn.CrossEntropyLoss() \n",
    "\n",
    "# Define optimizer as Stochastic Gradient Descent with a learning rate of 0.01\n",
    "sgd_optimizer = optim.SGD(model.parameters(), lr = 0.003)"
   ]
  },
  {
   "cell_type": "markdown",
   "metadata": {},
   "source": [
    "* Make a forward pass through the network to get the logits \n",
    "* Use the logits to calculate the loss\n",
    "* Perform a backward pass through the network with `loss.backward()` to calculate the gradients\n",
    "* Take a step with the optimizer to update the weights\n",
    "\n",
    "### Time to train the Neural Network!"
   ]
  },
  {
   "cell_type": "code",
   "execution_count": 37,
   "metadata": {},
   "outputs": [
    {
     "name": "stdout",
     "output_type": "stream",
     "text": [
      "Epoch: 1/5...  Loss: 0.136 Test Loss: 0.001 Test Accuracy: 0.006\n",
      "Epoch: 1/5...  Loss: 0.130 Test Loss: 0.002 Test Accuracy: 0.006\n",
      "Epoch: 1/5...  Loss: 0.140 Test Loss: 0.000 Test Accuracy: 0.006\n",
      "Epoch: 1/5...  Loss: 0.162 Test Loss: 0.001 Test Accuracy: 0.006\n",
      "Epoch: 1/5...  Loss: 0.147 Test Loss: 0.001 Test Accuracy: 0.006\n",
      "Epoch: 1/5...  Loss: 0.130 Test Loss: 0.001 Test Accuracy: 0.006\n",
      "Epoch: 1/5...  Loss: 0.156 Test Loss: 0.002 Test Accuracy: 0.006\n",
      "Epoch: 1/5...  Loss: 0.145 Test Loss: 0.001 Test Accuracy: 0.006\n",
      "Epoch: 1/5...  Loss: 0.170 Test Loss: 0.000 Test Accuracy: 0.006\n",
      "Epoch: 1/5...  Loss: 0.171 Test Loss: 0.001 Test Accuracy: 0.006\n",
      "Epoch: 1/5...  Loss: 0.151 Test Loss: 0.001 Test Accuracy: 0.006\n",
      "Epoch: 1/5...  Loss: 0.158 Test Loss: 0.002 Test Accuracy: 0.006\n",
      "Epoch: 1/5...  Loss: 0.160 Test Loss: 0.001 Test Accuracy: 0.006\n",
      "Epoch: 1/5...  Loss: 0.148 Test Loss: 0.001 Test Accuracy: 0.006\n",
      "Epoch: 1/5...  Loss: 0.144 Test Loss: 0.001 Test Accuracy: 0.006\n",
      "Epoch: 1/5...  Loss: 0.138 Test Loss: 0.001 Test Accuracy: 0.006\n",
      "Epoch: 1/5...  Loss: 0.144 Test Loss: 0.002 Test Accuracy: 0.006\n",
      "Epoch: 1/5...  Loss: 0.145 Test Loss: 0.001 Test Accuracy: 0.006\n",
      "Epoch: 1/5...  Loss: 0.141 Test Loss: 0.001 Test Accuracy: 0.006\n",
      "Epoch: 1/5...  Loss: 0.136 Test Loss: 0.002 Test Accuracy: 0.006\n",
      "Epoch: 1/5...  Loss: 0.139 Test Loss: 0.000 Test Accuracy: 0.006\n",
      "Epoch: 1/5...  Loss: 0.133 Test Loss: 0.001 Test Accuracy: 0.006\n",
      "Epoch: 1/5...  Loss: 0.163 Test Loss: 0.000 Test Accuracy: 0.006\n",
      "Epoch: 2/5...  Loss: 0.075 Test Loss: 0.001 Test Accuracy: 0.006\n",
      "Epoch: 2/5...  Loss: 0.143 Test Loss: 0.001 Test Accuracy: 0.006\n",
      "Epoch: 2/5...  Loss: 0.165 Test Loss: 0.001 Test Accuracy: 0.006\n",
      "Epoch: 2/5...  Loss: 0.135 Test Loss: 0.002 Test Accuracy: 0.006\n",
      "Epoch: 2/5...  Loss: 0.160 Test Loss: 0.001 Test Accuracy: 0.006\n",
      "Epoch: 2/5...  Loss: 0.136 Test Loss: 0.002 Test Accuracy: 0.006\n",
      "Epoch: 2/5...  Loss: 0.146 Test Loss: 0.002 Test Accuracy: 0.006\n",
      "Epoch: 2/5...  Loss: 0.137 Test Loss: 0.001 Test Accuracy: 0.006\n",
      "Epoch: 2/5...  Loss: 0.130 Test Loss: 0.001 Test Accuracy: 0.006\n",
      "Epoch: 2/5...  Loss: 0.154 Test Loss: 0.000 Test Accuracy: 0.006\n",
      "Epoch: 2/5...  Loss: 0.147 Test Loss: 0.001 Test Accuracy: 0.006\n",
      "Epoch: 2/5...  Loss: 0.132 Test Loss: 0.002 Test Accuracy: 0.006\n",
      "Epoch: 2/5...  Loss: 0.146 Test Loss: 0.001 Test Accuracy: 0.006\n",
      "Epoch: 2/5...  Loss: 0.140 Test Loss: 0.001 Test Accuracy: 0.006\n",
      "Epoch: 2/5...  Loss: 0.149 Test Loss: 0.001 Test Accuracy: 0.006\n",
      "Epoch: 2/5...  Loss: 0.144 Test Loss: 0.001 Test Accuracy: 0.006\n",
      "Epoch: 2/5...  Loss: 0.141 Test Loss: 0.000 Test Accuracy: 0.006\n",
      "Epoch: 2/5...  Loss: 0.155 Test Loss: 0.001 Test Accuracy: 0.006\n",
      "Epoch: 2/5...  Loss: 0.150 Test Loss: 0.001 Test Accuracy: 0.006\n",
      "Epoch: 2/5...  Loss: 0.144 Test Loss: 0.001 Test Accuracy: 0.006\n",
      "Epoch: 2/5...  Loss: 0.122 Test Loss: 0.001 Test Accuracy: 0.006\n",
      "Epoch: 2/5...  Loss: 0.130 Test Loss: 0.002 Test Accuracy: 0.006\n",
      "Epoch: 2/5...  Loss: 0.149 Test Loss: 0.002 Test Accuracy: 0.006\n",
      "Epoch: 3/5...  Loss: 0.018 Test Loss: 0.001 Test Accuracy: 0.006\n",
      "Epoch: 3/5...  Loss: 0.127 Test Loss: 0.000 Test Accuracy: 0.006\n",
      "Epoch: 3/5...  Loss: 0.127 Test Loss: 0.001 Test Accuracy: 0.006\n",
      "Epoch: 3/5...  Loss: 0.137 Test Loss: 0.001 Test Accuracy: 0.006\n",
      "Epoch: 3/5...  Loss: 0.122 Test Loss: 0.000 Test Accuracy: 0.006\n",
      "Epoch: 3/5...  Loss: 0.141 Test Loss: 0.000 Test Accuracy: 0.006\n",
      "Epoch: 3/5...  Loss: 0.140 Test Loss: 0.001 Test Accuracy: 0.006\n",
      "Epoch: 3/5...  Loss: 0.127 Test Loss: 0.001 Test Accuracy: 0.006\n",
      "Epoch: 3/5...  Loss: 0.154 Test Loss: 0.001 Test Accuracy: 0.006\n",
      "Epoch: 3/5...  Loss: 0.153 Test Loss: 0.001 Test Accuracy: 0.006\n",
      "Epoch: 3/5...  Loss: 0.148 Test Loss: 0.001 Test Accuracy: 0.006\n",
      "Epoch: 3/5...  Loss: 0.135 Test Loss: 0.001 Test Accuracy: 0.006\n",
      "Epoch: 3/5...  Loss: 0.139 Test Loss: 0.001 Test Accuracy: 0.006\n",
      "Epoch: 3/5...  Loss: 0.146 Test Loss: 0.001 Test Accuracy: 0.006\n",
      "Epoch: 3/5...  Loss: 0.130 Test Loss: 0.001 Test Accuracy: 0.006\n",
      "Epoch: 3/5...  Loss: 0.127 Test Loss: 0.001 Test Accuracy: 0.006\n",
      "Epoch: 3/5...  Loss: 0.158 Test Loss: 0.001 Test Accuracy: 0.006\n",
      "Epoch: 3/5...  Loss: 0.148 Test Loss: 0.001 Test Accuracy: 0.006\n",
      "Epoch: 3/5...  Loss: 0.139 Test Loss: 0.000 Test Accuracy: 0.006\n",
      "Epoch: 3/5...  Loss: 0.164 Test Loss: 0.001 Test Accuracy: 0.006\n",
      "Epoch: 3/5...  Loss: 0.137 Test Loss: 0.001 Test Accuracy: 0.006\n",
      "Epoch: 3/5...  Loss: 0.114 Test Loss: 0.001 Test Accuracy: 0.006\n",
      "Epoch: 3/5...  Loss: 0.120 Test Loss: 0.001 Test Accuracy: 0.006\n",
      "Epoch: 3/5...  Loss: 0.155 Test Loss: 0.000 Test Accuracy: 0.006\n",
      "Epoch: 4/5...  Loss: 0.086 Test Loss: 0.000 Test Accuracy: 0.006\n",
      "Epoch: 4/5...  Loss: 0.123 Test Loss: 0.001 Test Accuracy: 0.006\n",
      "Epoch: 4/5...  Loss: 0.137 Test Loss: 0.002 Test Accuracy: 0.006\n",
      "Epoch: 4/5...  Loss: 0.143 Test Loss: 0.001 Test Accuracy: 0.006\n",
      "Epoch: 4/5...  Loss: 0.129 Test Loss: 0.000 Test Accuracy: 0.006\n",
      "Epoch: 4/5...  Loss: 0.150 Test Loss: 0.001 Test Accuracy: 0.006\n",
      "Epoch: 4/5...  Loss: 0.138 Test Loss: 0.001 Test Accuracy: 0.006\n",
      "Epoch: 4/5...  Loss: 0.137 Test Loss: 0.000 Test Accuracy: 0.006\n",
      "Epoch: 4/5...  Loss: 0.139 Test Loss: 0.001 Test Accuracy: 0.006\n",
      "Epoch: 4/5...  Loss: 0.124 Test Loss: 0.001 Test Accuracy: 0.006\n",
      "Epoch: 4/5...  Loss: 0.148 Test Loss: 0.002 Test Accuracy: 0.006\n",
      "Epoch: 4/5...  Loss: 0.116 Test Loss: 0.002 Test Accuracy: 0.006\n",
      "Epoch: 4/5...  Loss: 0.141 Test Loss: 0.001 Test Accuracy: 0.006\n",
      "Epoch: 4/5...  Loss: 0.134 Test Loss: 0.000 Test Accuracy: 0.006\n",
      "Epoch: 4/5...  Loss: 0.126 Test Loss: 0.001 Test Accuracy: 0.006\n",
      "Epoch: 4/5...  Loss: 0.143 Test Loss: 0.002 Test Accuracy: 0.006\n",
      "Epoch: 4/5...  Loss: 0.132 Test Loss: 0.001 Test Accuracy: 0.006\n",
      "Epoch: 4/5...  Loss: 0.136 Test Loss: 0.001 Test Accuracy: 0.006\n",
      "Epoch: 4/5...  Loss: 0.122 Test Loss: 0.002 Test Accuracy: 0.006\n",
      "Epoch: 4/5...  Loss: 0.125 Test Loss: 0.001 Test Accuracy: 0.006\n",
      "Epoch: 4/5...  Loss: 0.146 Test Loss: 0.001 Test Accuracy: 0.006\n",
      "Epoch: 4/5...  Loss: 0.120 Test Loss: 0.000 Test Accuracy: 0.006\n",
      "Epoch: 4/5...  Loss: 0.145 Test Loss: 0.001 Test Accuracy: 0.006\n",
      "Epoch: 5/5...  Loss: 0.031 Test Loss: 0.001 Test Accuracy: 0.006\n",
      "Epoch: 5/5...  Loss: 0.139 Test Loss: 0.001 Test Accuracy: 0.006\n",
      "Epoch: 5/5...  Loss: 0.124 Test Loss: 0.000 Test Accuracy: 0.006\n",
      "Epoch: 5/5...  Loss: 0.127 Test Loss: 0.001 Test Accuracy: 0.006\n",
      "Epoch: 5/5...  Loss: 0.124 Test Loss: 0.002 Test Accuracy: 0.006\n",
      "Epoch: 5/5...  Loss: 0.140 Test Loss: 0.001 Test Accuracy: 0.006\n",
      "Epoch: 5/5...  Loss: 0.129 Test Loss: 0.000 Test Accuracy: 0.006\n",
      "Epoch: 5/5...  Loss: 0.126 Test Loss: 0.001 Test Accuracy: 0.006\n",
      "Epoch: 5/5...  Loss: 0.145 Test Loss: 0.001 Test Accuracy: 0.006\n",
      "Epoch: 5/5...  Loss: 0.140 Test Loss: 0.001 Test Accuracy: 0.006\n",
      "Epoch: 5/5...  Loss: 0.160 Test Loss: 0.001 Test Accuracy: 0.006\n",
      "Epoch: 5/5...  Loss: 0.124 Test Loss: 0.001 Test Accuracy: 0.006\n",
      "Epoch: 5/5...  Loss: 0.117 Test Loss: 0.001 Test Accuracy: 0.006\n",
      "Epoch: 5/5...  Loss: 0.136 Test Loss: 0.001 Test Accuracy: 0.006\n",
      "Epoch: 5/5...  Loss: 0.123 Test Loss: 0.001 Test Accuracy: 0.006\n",
      "Epoch: 5/5...  Loss: 0.120 Test Loss: 0.001 Test Accuracy: 0.006\n",
      "Epoch: 5/5...  Loss: 0.132 Test Loss: 0.001 Test Accuracy: 0.006\n",
      "Epoch: 5/5...  Loss: 0.123 Test Loss: 0.001 Test Accuracy: 0.006\n",
      "Epoch: 5/5...  Loss: 0.130 Test Loss: 0.001 Test Accuracy: 0.006\n",
      "Epoch: 5/5...  Loss: 0.121 Test Loss: 0.000 Test Accuracy: 0.006\n",
      "Epoch: 5/5...  Loss: 0.122 Test Loss: 0.000 Test Accuracy: 0.006\n",
      "Epoch: 5/5...  Loss: 0.124 Test Loss: 0.001 Test Accuracy: 0.006\n",
      "Epoch: 5/5...  Loss: 0.119 Test Loss: 0.001 Test Accuracy: 0.006\n",
      "Epoch: 5/5...  Loss: 0.140 Test Loss: 0.000 Test Accuracy: 0.006\n"
     ]
    }
   ],
   "source": [
    "epochs = 5\n",
    "print_every = 40\n",
    "steps = 0\n",
    "\n",
    "for epoch in range(epochs):\n",
    "    running_loss = 0\n",
    "    \n",
    "    model.train()\n",
    "    \n",
    "    # Get images and labels\n",
    "    for images, labels in iter(trainloader):\n",
    "        steps += 1\n",
    "        images.resize_(images.size()[0], input_size)\n",
    "        \n",
    "        # Set gradients to zero\n",
    "        sgd_optimizer.zero_grad()\n",
    "        \n",
    "        y_hat = model.forward(images)\n",
    "        loss = criterion(y_hat,labels)\n",
    "        loss.backward()\n",
    "        sgd_optimizer.step()\n",
    "        \n",
    "        running_loss += loss.item()\n",
    "        \n",
    "        if steps % print_every == 0:\n",
    "            model.eval()\n",
    "            with torch.no_grad():\n",
    "                test_loss, accuracy = validation(model,testloader,criterion)\n",
    "            \n",
    "            print(\"Epoch: {}/{}... \".format(epoch+1, epochs),\n",
    "                  \"Loss: {:.3f}\".format(running_loss/print_every),\n",
    "                  \"Test Loss: {:.3f}\".format(test_loss/len(testloader)),\n",
    "                  \"Test Accuracy: {:.3f}\".format(accuracy/len(testloader)))\n",
    "            \n",
    "            running_loss = 0\n",
    "            \n",
    "            model.train()\n"
   ]
  },
  {
   "cell_type": "markdown",
   "metadata": {},
   "source": [
    "### Test the Neural Network"
   ]
  },
  {
   "cell_type": "code",
   "execution_count": null,
   "metadata": {},
   "outputs": [],
   "source": [
    "images, labels = next(iter(testloader))\n",
    "\n",
    "img = images[0].view(1, 784)\n",
    "\n",
    "# Turn off gradients to speed up this part\n",
    "with torch.no_grad():\n",
    "    logits = model.forward(img)\n",
    "\n",
    "# Output of the network are logits, need to take softmax for probabilities\n",
    "ps = F.softmax(logits, dim=1)\n",
    "print(ps, labels[0])\n"
   ]
  },
  {
   "cell_type": "code",
   "execution_count": null,
   "metadata": {},
   "outputs": [],
   "source": [
    "fig, (ax1, ax2) = plt.subplots(figsize=(6,6), ncols=2)\n",
    "ps = ps.data.numpy().squeeze()\n",
    "\n",
    "ax1.imshow(images[0].resize_(1, 28, 28).numpy().squeeze())\n",
    "ax1.axis('off')\n",
    "\n",
    "ax2.barh(np.arange(10), ps )\n",
    "ax2.set_aspect(0.1)\n",
    "ax2.set_yticks(np.arange(10))\n",
    "plt.xticks(rotation='45')\n",
    "\n",
    "plt.show();\n",
    "print('Label: ', labels[0])"
   ]
  }
 ],
 "metadata": {
  "kernelspec": {
   "display_name": "Python 3",
   "language": "python",
   "name": "python3"
  },
  "language_info": {
   "codemirror_mode": {
    "name": "ipython",
    "version": 3
   },
   "file_extension": ".py",
   "mimetype": "text/x-python",
   "name": "python",
   "nbconvert_exporter": "python",
   "pygments_lexer": "ipython3",
   "version": "3.6.2"
  }
 },
 "nbformat": 4,
 "nbformat_minor": 2
}
