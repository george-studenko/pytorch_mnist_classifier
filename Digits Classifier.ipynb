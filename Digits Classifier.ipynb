{
 "cells": [
  {
   "cell_type": "markdown",
   "metadata": {},
   "source": [
    "# PyTorch Neural Network Digits Classifier\n",
    "**Dataset:** MNIST"
   ]
  },
  {
   "cell_type": "code",
   "execution_count": 1,
   "metadata": {
    "collapsed": true
   },
   "outputs": [],
   "source": [
    "%matplotlib inline\n",
    "%config InlineBackend.figure_format = 'retina'\n",
    "\n",
    "import numpy as np\n",
    "import torch\n",
    "\n",
    "import matplotlib.pyplot as plt\n",
    "from torchvision import datasets, transforms\n",
    "\n",
    "from torch import nn\n",
    "from torch import optim\n",
    "import torch.nn.functional as F"
   ]
  },
  {
   "cell_type": "markdown",
   "metadata": {},
   "source": [
    "**Download _MNIST_ dataset**  \n",
    "I will be using batches of 64"
   ]
  },
  {
   "cell_type": "code",
   "execution_count": 2,
   "metadata": {
    "collapsed": true
   },
   "outputs": [],
   "source": [
    "# Define a transform to normalize the data\n",
    "transform = transforms.Compose([transforms.ToTensor(),\n",
    "                              transforms.Normalize((0.5, 0.5, 0.5), (0.5, 0.5, 0.5)),\n",
    "                             ])\n",
    "# Download and load the training data\n",
    "trainset = datasets.MNIST('MNIST_data/', download=True, train=True, transform=transform)\n",
    "trainloader = torch.utils.data.DataLoader(trainset, batch_size=64, shuffle=True)\n",
    "\n",
    "# Download and load the test data\n",
    "testset = datasets.MNIST('MNIST_data/', download=True, train=False, transform=transform)\n",
    "testloader = torch.utils.data.DataLoader(testset, batch_size=64, shuffle=True)"
   ]
  },
  {
   "cell_type": "code",
   "execution_count": 3,
   "metadata": {
    "collapsed": true
   },
   "outputs": [],
   "source": [
    "dataiter = iter(trainloader)\n",
    "images, labels = dataiter.next()"
   ]
  },
  {
   "cell_type": "code",
   "execution_count": 4,
   "metadata": {
    "collapsed": true
   },
   "outputs": [],
   "source": [
    "def print_sample_digit(index):\n",
    "    print(str.format('Label: {}',labels[index]))\n",
    "    plt.figure(num=None, figsize=(1, 1), dpi=56, facecolor='w', edgecolor='k')\n",
    "    plt.imshow(images[index].numpy().squeeze(), cmap='Greys_r');"
   ]
  },
  {
   "cell_type": "code",
   "execution_count": 5,
   "metadata": {},
   "outputs": [
    {
     "name": "stdout",
     "output_type": "stream",
     "text": [
      "Label: 2\n"
     ]
    },
    {
     "data": {
      "image/png": "[encoded data removed]",
      "text/plain": [
       "<matplotlib.figure.Figure at 0x21a30b3f438>"
      ]
     },
     "metadata": {
      "image/png": {
       "height": 68,
       "width": 70
      }
     },
     "output_type": "display_data"
    }
   ],
   "source": [
    "print_sample_digit(0)"
   ]
  },
  {
   "cell_type": "code",
   "execution_count": 6,
   "metadata": {},
   "outputs": [
    {
     "name": "stdout",
     "output_type": "stream",
     "text": [
      "Label: 0\n"
     ]
    },
    {
     "data": {
      "image/png": "[encoded data removed]",
      "text/plain": [
       "<matplotlib.figure.Figure at 0x21a30b3f2b0>"
      ]
     },
     "metadata": {
      "image/png": {
       "height": 68,
       "width": 70
      }
     },
     "output_type": "display_data"
    }
   ],
   "source": [
    "print_sample_digit(1)"
   ]
  },
  {
   "cell_type": "code",
   "execution_count": 7,
   "metadata": {
    "collapsed": true
   },
   "outputs": [],
   "source": [
    "# Input are images of 28 x 28 pixels each\n",
    "input_size = 784 \n",
    "# Hidden layers size\n",
    "h1_size, h2_size, h3_size = 400,200,100 \n",
    "# Output will be 10 since we will get the softmax probability for each digit (0-9)\n",
    "output_size = 10 "
   ]
  },
  {
   "cell_type": "markdown",
   "metadata": {},
   "source": [
    "### Define the model"
   ]
  },
  {
   "cell_type": "code",
   "execution_count": 43,
   "metadata": {
    "collapsed": true
   },
   "outputs": [],
   "source": [
    "model = nn.Sequential(\n",
    "            nn.Linear(input_size, h1_size),\n",
    "            nn.ReLU(),\n",
    "            nn.Linear(h1_size, h2_size),\n",
    "            nn.ReLU(),\n",
    "            nn.Linear(h2_size, h3_size),\n",
    "            nn.ReLU(),\n",
    "            nn.Linear(h3_size, output_size),\n",
    "            nn.Softmax(1)\n",
    "            )        "
   ]
  },
  {
   "cell_type": "code",
   "execution_count": 106,
   "metadata": {},
   "outputs": [
    {
     "data": {
      "image/png": "[encoded data removed]",
      "text/plain": [
       "<matplotlib.figure.Figure at 0x21a35f08828>"
      ]
     },
     "metadata": {
      "image/png": {
       "height": 193,
       "width": 370
      }
     },
     "output_type": "display_data"
    },
    {
     "name": "stdout",
     "output_type": "stream",
     "text": [
      "Label:  tensor(1)\n"
     ]
    }
   ],
   "source": [
    "# Get images and labels\n",
    "images, labels = next(iter(trainloader))\n",
    "images.resize_(images.shape[0], # <-- Thats the batch size, in this case 64\n",
    "               1, # <-- Thats is to only use 1 color channel\n",
    "               784 # <-- That is to only have 1 row and fit the 28 x 28 pixels in a 1D tensor (a vector)\n",
    "              )\n",
    "\n",
    "# Turn on autograd\n",
    "#images.requires_grad_(True) \n",
    "\n",
    "# Feedforward the network\n",
    "ps = model.forward(images[0,:])\n",
    "\n",
    "# Print result for the first image\n",
    "fig, (ax1, ax2) = plt.subplots(figsize=(6,6), ncols=2)\n",
    "ps = ps.data.numpy().squeeze()\n",
    "\n",
    "ax1.imshow(images[0].resize_(1, 28, 28).numpy().squeeze())\n",
    "ax1.axis('off')\n",
    "\n",
    "ax2.barh(np.arange(10), ps )\n",
    "ax2.set_aspect(0.01)\n",
    "ax2.set_yticks(np.arange(10))\n",
    "plt.xticks(rotation='45')\n",
    "\n",
    "plt.show();\n",
    "print('Label: ', labels[0])\n",
    "# Right now since the Neural Network did not update weights yet all probabilities are roughtly the same"
   ]
  },
  {
   "cell_type": "code",
   "execution_count": 107,
   "metadata": {
    "collapsed": true
   },
   "outputs": [],
   "source": [
    "# Define the Loss Function\n",
    "criterion = nn.CrossEntropyLoss() \n",
    "\n",
    "# Define optimizer as Stochastic Gradient Descent with a learning rate of 0.01\n",
    "sgd_optimizer = optim.SGD(model.parameters(), lr = 0.01)"
   ]
  },
  {
   "cell_type": "markdown",
   "metadata": {},
   "source": [
    "* Make a forward pass through the network to get the logits \n",
    "* Use the logits to calculate the loss\n",
    "* Perform a backward pass through the network with `loss.backward()` to calculate the gradients\n",
    "* Take a step with the optimizer to update the weights"
   ]
  },
  {
   "cell_type": "code",
   "execution_count": 114,
   "metadata": {},
   "outputs": [],
   "source": [
    "idx = 0\n",
    "\n",
    "# Get images and labels\n",
    "images, labels = next(iter(trainloader))\n",
    "images.resize_(images.shape[0], # <-- Thats the batch size, in this case 64\n",
    "               \n",
    "               784 # <-- That is to only have 1 row and fit the 28 x 28 pixels in a 1D tensor (a vector)\n",
    "              )\n",
    "\n",
    "# Set gradients to zero\n",
    "sgd_optimizer.zero_grad();\n",
    "\n",
    "y_hat = model.forward(images)\n",
    "loss = criterion(y_hat,labels)\n",
    "loss.backward()\n",
    "sgd_optimizer.step()"
   ]
  },
  {
   "cell_type": "code",
   "execution_count": 121,
   "metadata": {},
   "outputs": [
    {
     "data": {
      "text/plain": [
       "tensor([ 0.0939,  0.1003,  0.0932,  0.1207,  0.1077,  0.0956,  0.0952,\n",
       "         0.0902,  0.1042,  0.0991])"
      ]
     },
     "execution_count": 121,
     "metadata": {},
     "output_type": "execute_result"
    }
   ],
   "source": [
    "\n",
    "\n",
    "y_hat[0]\n",
    "#labels[0]"
   ]
  },
  {
   "cell_type": "code",
   "execution_count": null,
   "metadata": {
    "collapsed": true
   },
   "outputs": [],
   "source": []
  }
 ],
 "metadata": {
  "kernelspec": {
   "display_name": "Python 3",
   "language": "python",
   "name": "python3"
  },
  "language_info": {
   "codemirror_mode": {
    "name": "ipython",
    "version": 3
   },
   "file_extension": ".py",
   "mimetype": "text/x-python",
   "name": "python",
   "nbconvert_exporter": "python",
   "pygments_lexer": "ipython3",
   "version": "3.6.2"
  }
 },
 "nbformat": 4,
 "nbformat_minor": 2
}
